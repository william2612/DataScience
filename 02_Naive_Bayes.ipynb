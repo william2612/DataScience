{
 "cells": [
  {
   "cell_type": "markdown",
   "id": "89bc92f9-6744-4068-89a8-dffc7786d172",
   "metadata": {
    "tags": []
   },
   "source": [
    "## Teorema de Bayes (Teoria)\n",
    "\n",
    "Nesta sessão iremos abordar sobre os aspectos teóricos do teorema de bayes.\n"
   ]
  },
  {
   "cell_type": "markdown",
   "id": "dcf56a95-d0ca-4ae6-bfd0-823c8a26a3af",
   "metadata": {},
   "source": [
    "Começando com a ideia de probabilidade condicional, temos que analisar uma árvore de probabilidade. Temos a seguinte imagem guia:\n",
    "\n",
    "<img src='imagens/bayes.png' />\n",
    "\n",
    "P(E|F) é chamada de probabilidade a posteriori\n",
    "P(E) é a probabilidade a priori (independente da ocorrência de outro evento)\n",
    "P(F|E) é a probabilidade verossimilhança, dado que E ocorreu a probabilidade de F aconcontecer\n",
    "P(F) é a probabilidade de marginalização\n",
    "\n",
    "P(F) pode ser tratado como P(F|E)P(E)+ P(F|¬E)P(¬E)\n",
    "\n",
    "Outro detalhe importante na probabilidade condicional: P(F)P(E|F)= P(F) * P(E)\n",
    "<h3>Exemplo1:</h3>\n",
    "\n",
    "imagine que uma determinada doença afete 1 a cada 10.000 pessoas. E imagine que haja um teste para essa doença que\n",
    "mostra o resultado correto (“doente” se você tem a doença e “não-doente” se não) 99% das vezes.\n",
    "\n",
    "P(E) ter a doença: 0.0001 ou 0.01% <br>\n",
    "P(F) diagnóstico correto 0.99 ou 99%\n",
    "\n",
    "A ideia é construir uma árvore: <br>\n",
    "<img src='imagens/exemplo1_bayes.jpg' width=\"400\" height=\"400\"/><br>\n",
    "\n",
    "o teorema de bayes ficaria:\n",
    "\n",
    "P(E|F)=ter a doença, dado que o diagnóstico foi positivo\n",
    "P(E|F)= P(E)P(F|E)/( P(F|E)P(E)+ P(F|¬E)P(¬E)\n",
    "\n",
    "P(E|F)=0.0001 * 0.99 / (0.0001 * 0.99 + 0.01 * 0.9999) = 0.0098 ou 0.98 de ter a doenção dado que o diagnógico é positivo <br>\n",
    "(0.0001 * 0.99 + 0.01 * 0.9999) = P(F), ou seja do diagósnico ter dado positivo, por que tem a chance da pessoa que não ter a doença ser diagnosticada errada somada\n",
    "a chance da pessoa que tem a doença e foi diagnosticada corretamente).\n",
    "\n",
    "<h3>Exemplo2:</h3>\n",
    "\n",
    "Numa indústria, os parafusos são feitos em duas máquinas: A e B.\n",
    "A primeira é responsável por 30% da produção e a outra pelo restante.\n",
    "A máquina A produz 2% de peças defeituosas e a B produz 1%.\n",
    "\n",
    "Qual a probabilidade ser de A sabendo que é defeituosa?\n",
    "\n",
    "Temos:\n",
    "\n",
    "P(A|D)= probabilidade de ser defeituosa e ter vindo de A = P(A)P(D|A) / P(D)<br>\n",
    "P(A)P(D|A)= P(A) * P(D) probabilidade de ser de A e Ser Defeituosa=0.30 * 0.02 <br>\n",
    "P(D)= probabilidade marginalizada do Evento =   P(A)P(D|A) + P(¬A)P(D|¬A)= (0.30 * 0.02) + (0.70 * 0.01)<br>\n",
    "\n",
    "P(¬A)P(¬A|D)= é o mesmo que a peça não ser de A (como só tem B, será B, se houvesse mais, teríamos que somar), logo P(B)P(D|B) \n",
    "\n",
    "LOGO P(A|D)= 0.30 * 0.02 / (0.30 * 0.02) + (0.70 * 0.01) =4.61% ou 0.0461\n",
    "\n",
    "<h3> Exemplo3: </h3>\n",
    "\n",
    "Um fabricante de sorvetes recebe 20% de todo o leite que utiliza de uma fazenda F1, 30% de outra\n",
    "fazenda F2 e 50% da fazenda F3. Houve uma fiscalização e observou-se que 20% do leite produzido \n",
    "por F1 está com adição de água, enquanto que para F2 e F3 a proporção era de 5% e 2%. Na indústria de\n",
    "sorvetes os galões de leite são armazenados em um refrigerador sem identificação das fazendas.\n",
    "\n",
    "Qual a probabilidade de que a amostra adulterada tenha sido obtida do leite fornecido pela fazenda F\n",
    "\n",
    "P(F1|A)= sabendo que a amostra é adulterada, qual a chance de ser da fazenda F1? \n",
    "\n",
    "P(F1|A)= P(F1) * P(A|F1)/ P(A) = P(F1) * P(A|F1)/ P(F1) * P(A|F1) + P(¬F1) * P(A|¬F1)\n",
    "\n",
    "P(¬F1) * P(A|¬F1)= leites da fazenda f2 e f3 \n",
    "=> P(F2) * (A|F2) + P(F3) * P(A|F3) = (0.3 * 0.05 ) + (0.5 * 0.02)\n",
    "\n",
    "Logo,\n",
    "\n",
    "P(F1|A)= 0.2 * 0.2 / 0.2* 0.2 + (0.3 * 0.05 ) + (0.5 * 0.02) =61.53%\n",
    "\n",
    "\n"
   ]
  },
  {
   "cell_type": "markdown",
   "id": "7137af1a-a44e-49db-97c1-5d9303dcc5d3",
   "metadata": {
    "jp-MarkdownHeadingCollapsed": true,
    "tags": []
   },
   "source": [
    "## Algoritmo Naive Bayes\n",
    "\n",
    " Naive é de ingênuo, pois ele assume que as features são independentes entre si, ou seja, dado uma variável X (característica) e uma Y, suas amostras xi e yi\n",
    " são igualmente importantes para o resultado. <br>\n",
    " \n",
    " <img src='imagens/tabela_frequencia.png' width=\"600\" height=\"600\" />\n",
    " \n",
    " -A primeira coisa a se fazer no algoritmo de naive bayes é montar uma tabela de frequência que relaciona cada Característica Preditiva com o resultado de saída. <br>\n",
    " -A segunda coisa é utilizar a inserção de um registro de teste e com ele calcular as chances de cada uma das possibilidade <br>\n",
    " -Cada possibilidade de saída é calculada pela multiplicação de Prob Yi (queremos prever) * Prob xi * Prob hi ... etc <br>\n",
    " -No final dividimos pela soma das probabilidades de cada saída Y, ou seja,  esse somatório é nosso espaço amostral e cada Yi nosso espaço de evento. No caso é o risco de crédito. <br>"
   ]
  },
  {
   "cell_type": "markdown",
   "id": "2cbac0dc-aa55-44fc-aa94-de5be584a35d",
   "metadata": {
    "tags": []
   },
   "source": [
    "## Base de dados"
   ]
  },
  {
   "cell_type": "code",
   "execution_count": 1,
   "id": "6bbc12bb-7afd-48b0-a84b-7ed6ab3481a9",
   "metadata": {},
   "outputs": [],
   "source": [
    "import pandas as pd\n",
    "import random\n",
    "import numpy as np\n",
    "import seaborn as sns"
   ]
  },
  {
   "cell_type": "code",
   "execution_count": 2,
   "id": "9db1c02e-7022-43f1-9ea1-8c6febcec090",
   "metadata": {},
   "outputs": [],
   "source": [
    "data_set=pd.read_csv('data_base/credit_data.csv')"
   ]
  },
  {
   "cell_type": "code",
   "execution_count": 3,
   "id": "d796b606-fef7-4449-b8d1-03380b0db316",
   "metadata": {},
   "outputs": [
    {
     "data": {
      "text/html": [
       "<div>\n",
       "<style scoped>\n",
       "    .dataframe tbody tr th:only-of-type {\n",
       "        vertical-align: middle;\n",
       "    }\n",
       "\n",
       "    .dataframe tbody tr th {\n",
       "        vertical-align: top;\n",
       "    }\n",
       "\n",
       "    .dataframe thead th {\n",
       "        text-align: right;\n",
       "    }\n",
       "</style>\n",
       "<table border=\"1\" class=\"dataframe\">\n",
       "  <thead>\n",
       "    <tr style=\"text-align: right;\">\n",
       "      <th></th>\n",
       "      <th>i#clientid</th>\n",
       "      <th>income</th>\n",
       "      <th>age</th>\n",
       "      <th>loan</th>\n",
       "      <th>c#default</th>\n",
       "    </tr>\n",
       "  </thead>\n",
       "  <tbody>\n",
       "    <tr>\n",
       "      <th>0</th>\n",
       "      <td>1</td>\n",
       "      <td>66155.925095</td>\n",
       "      <td>59.017015</td>\n",
       "      <td>8106.532131</td>\n",
       "      <td>0</td>\n",
       "    </tr>\n",
       "    <tr>\n",
       "      <th>1</th>\n",
       "      <td>2</td>\n",
       "      <td>34415.153966</td>\n",
       "      <td>48.117153</td>\n",
       "      <td>6564.745018</td>\n",
       "      <td>0</td>\n",
       "    </tr>\n",
       "    <tr>\n",
       "      <th>2</th>\n",
       "      <td>3</td>\n",
       "      <td>57317.170063</td>\n",
       "      <td>63.108049</td>\n",
       "      <td>8020.953296</td>\n",
       "      <td>0</td>\n",
       "    </tr>\n",
       "    <tr>\n",
       "      <th>3</th>\n",
       "      <td>4</td>\n",
       "      <td>42709.534201</td>\n",
       "      <td>45.751972</td>\n",
       "      <td>6103.642260</td>\n",
       "      <td>0</td>\n",
       "    </tr>\n",
       "    <tr>\n",
       "      <th>4</th>\n",
       "      <td>5</td>\n",
       "      <td>66952.688845</td>\n",
       "      <td>18.584336</td>\n",
       "      <td>8770.099235</td>\n",
       "      <td>1</td>\n",
       "    </tr>\n",
       "  </tbody>\n",
       "</table>\n",
       "</div>"
      ],
      "text/plain": [
       "   i#clientid        income        age         loan  c#default\n",
       "0           1  66155.925095  59.017015  8106.532131          0\n",
       "1           2  34415.153966  48.117153  6564.745018          0\n",
       "2           3  57317.170063  63.108049  8020.953296          0\n",
       "3           4  42709.534201  45.751972  6103.642260          0\n",
       "4           5  66952.688845  18.584336  8770.099235          1"
      ]
     },
     "execution_count": 3,
     "metadata": {},
     "output_type": "execute_result"
    }
   ],
   "source": [
    "data_set.head(5)"
   ]
  },
  {
   "cell_type": "code",
   "execution_count": 4,
   "id": "75bcf659-6b1f-4c18-bbdf-b1a756978a5e",
   "metadata": {},
   "outputs": [
    {
     "data": {
      "text/plain": [
       "(2000, 5)"
      ]
     },
     "execution_count": 4,
     "metadata": {},
     "output_type": "execute_result"
    }
   ],
   "source": [
    "data_set.shape"
   ]
  },
  {
   "cell_type": "code",
   "execution_count": 5,
   "id": "3af6d694-f7a7-4498-be9d-44998ecedd97",
   "metadata": {},
   "outputs": [
    {
     "data": {
      "text/html": [
       "<div>\n",
       "<style scoped>\n",
       "    .dataframe tbody tr th:only-of-type {\n",
       "        vertical-align: middle;\n",
       "    }\n",
       "\n",
       "    .dataframe tbody tr th {\n",
       "        vertical-align: top;\n",
       "    }\n",
       "\n",
       "    .dataframe thead th {\n",
       "        text-align: right;\n",
       "    }\n",
       "</style>\n",
       "<table border=\"1\" class=\"dataframe\">\n",
       "  <thead>\n",
       "    <tr style=\"text-align: right;\">\n",
       "      <th></th>\n",
       "      <th>i#clientid</th>\n",
       "      <th>income</th>\n",
       "      <th>age</th>\n",
       "      <th>loan</th>\n",
       "      <th>c#default</th>\n",
       "    </tr>\n",
       "  </thead>\n",
       "  <tbody>\n",
       "    <tr>\n",
       "      <th>count</th>\n",
       "      <td>2000.000000</td>\n",
       "      <td>2000.000000</td>\n",
       "      <td>1997.000000</td>\n",
       "      <td>2000.000000</td>\n",
       "      <td>2000.000000</td>\n",
       "    </tr>\n",
       "    <tr>\n",
       "      <th>mean</th>\n",
       "      <td>1000.500000</td>\n",
       "      <td>45331.600018</td>\n",
       "      <td>40.807559</td>\n",
       "      <td>4444.369695</td>\n",
       "      <td>0.141500</td>\n",
       "    </tr>\n",
       "    <tr>\n",
       "      <th>std</th>\n",
       "      <td>577.494589</td>\n",
       "      <td>14326.327119</td>\n",
       "      <td>13.624469</td>\n",
       "      <td>3045.410024</td>\n",
       "      <td>0.348624</td>\n",
       "    </tr>\n",
       "    <tr>\n",
       "      <th>min</th>\n",
       "      <td>1.000000</td>\n",
       "      <td>20014.489470</td>\n",
       "      <td>-52.423280</td>\n",
       "      <td>1.377630</td>\n",
       "      <td>0.000000</td>\n",
       "    </tr>\n",
       "    <tr>\n",
       "      <th>25%</th>\n",
       "      <td>500.750000</td>\n",
       "      <td>32796.459717</td>\n",
       "      <td>28.990415</td>\n",
       "      <td>1939.708847</td>\n",
       "      <td>0.000000</td>\n",
       "    </tr>\n",
       "    <tr>\n",
       "      <th>50%</th>\n",
       "      <td>1000.500000</td>\n",
       "      <td>45789.117313</td>\n",
       "      <td>41.317159</td>\n",
       "      <td>3974.719419</td>\n",
       "      <td>0.000000</td>\n",
       "    </tr>\n",
       "    <tr>\n",
       "      <th>75%</th>\n",
       "      <td>1500.250000</td>\n",
       "      <td>57791.281668</td>\n",
       "      <td>52.587040</td>\n",
       "      <td>6432.410625</td>\n",
       "      <td>0.000000</td>\n",
       "    </tr>\n",
       "    <tr>\n",
       "      <th>max</th>\n",
       "      <td>2000.000000</td>\n",
       "      <td>69995.685578</td>\n",
       "      <td>63.971796</td>\n",
       "      <td>13766.051239</td>\n",
       "      <td>1.000000</td>\n",
       "    </tr>\n",
       "  </tbody>\n",
       "</table>\n",
       "</div>"
      ],
      "text/plain": [
       "        i#clientid        income          age          loan    c#default\n",
       "count  2000.000000   2000.000000  1997.000000   2000.000000  2000.000000\n",
       "mean   1000.500000  45331.600018    40.807559   4444.369695     0.141500\n",
       "std     577.494589  14326.327119    13.624469   3045.410024     0.348624\n",
       "min       1.000000  20014.489470   -52.423280      1.377630     0.000000\n",
       "25%     500.750000  32796.459717    28.990415   1939.708847     0.000000\n",
       "50%    1000.500000  45789.117313    41.317159   3974.719419     0.000000\n",
       "75%    1500.250000  57791.281668    52.587040   6432.410625     0.000000\n",
       "max    2000.000000  69995.685578    63.971796  13766.051239     1.000000"
      ]
     },
     "execution_count": 5,
     "metadata": {},
     "output_type": "execute_result"
    }
   ],
   "source": [
    "data_set.describe()#retorna um resumo estatístico do data_set"
   ]
  },
  {
   "cell_type": "markdown",
   "id": "d7f7985e-f171-4e7d-a321-cd61e1f01999",
   "metadata": {
    "tags": []
   },
   "source": [
    "### 1° verificar valores nulos no data_set\n",
    "\n",
    "Alternativas viáveis: <br>\n",
    "\n",
    "Se a variável é do tipo categório, devemos selecionar um valor modal ou um valor específico. \n",
    "\n",
    "Exclusão do registro, se houverem muitos valores ausentes.\n",
    "\n",
    "Uso de modelos preditivos para substituir esse valor.\n",
    "\n",
    "Substituir valor numérico por medidas de tendência central, como: média, mediana e moda.\n",
    "\n",
    "Substituir por 0 (funciona em modelos de regressão e variáveis padronizadas)"
   ]
  },
  {
   "cell_type": "code",
   "execution_count": 6,
   "id": "6f4e36ca-5289-4c88-ba7f-07d30cc5e4a1",
   "metadata": {},
   "outputs": [
    {
     "name": "stdout",
     "output_type": "stream",
     "text": [
      "<class 'pandas.core.frame.DataFrame'>\n",
      "RangeIndex: 2000 entries, 0 to 1999\n",
      "Data columns (total 5 columns):\n",
      " #   Column      Non-Null Count  Dtype  \n",
      "---  ------      --------------  -----  \n",
      " 0   i#clientid  2000 non-null   int64  \n",
      " 1   income      2000 non-null   float64\n",
      " 2   age         1997 non-null   float64\n",
      " 3   loan        2000 non-null   float64\n",
      " 4   c#default   2000 non-null   int64  \n",
      "dtypes: float64(3), int64(2)\n",
      "memory usage: 78.2 KB\n"
     ]
    }
   ],
   "source": [
    "data_set.info() #resumo valores não nulos "
   ]
  },
  {
   "cell_type": "code",
   "execution_count": 7,
   "id": "1ddd7a7e-f91d-42d5-b104-205a53fde672",
   "metadata": {},
   "outputs": [],
   "source": [
    "valores_nulos=data_set[pd.isnull(data_set['age'])]#valores nulos encontrados  "
   ]
  },
  {
   "cell_type": "code",
   "execution_count": 8,
   "id": "5b32c91f-fbf3-4e08-b9e1-6be119e3685f",
   "metadata": {},
   "outputs": [
    {
     "data": {
      "text/html": [
       "<div>\n",
       "<style scoped>\n",
       "    .dataframe tbody tr th:only-of-type {\n",
       "        vertical-align: middle;\n",
       "    }\n",
       "\n",
       "    .dataframe tbody tr th {\n",
       "        vertical-align: top;\n",
       "    }\n",
       "\n",
       "    .dataframe thead th {\n",
       "        text-align: right;\n",
       "    }\n",
       "</style>\n",
       "<table border=\"1\" class=\"dataframe\">\n",
       "  <thead>\n",
       "    <tr style=\"text-align: right;\">\n",
       "      <th></th>\n",
       "    </tr>\n",
       "  </thead>\n",
       "  <tbody>\n",
       "    <tr>\n",
       "      <th>28</th>\n",
       "    </tr>\n",
       "    <tr>\n",
       "      <th>30</th>\n",
       "    </tr>\n",
       "    <tr>\n",
       "      <th>31</th>\n",
       "    </tr>\n",
       "  </tbody>\n",
       "</table>\n",
       "</div>"
      ],
      "text/plain": [
       "Empty DataFrame\n",
       "Columns: []\n",
       "Index: [28, 30, 31]"
      ]
     },
     "execution_count": 8,
     "metadata": {},
     "output_type": "execute_result"
    }
   ],
   "source": [
    "valores_nulos.iloc[:,1:1]#peguei os indices das linhas , agora é usar isso para localizar no data_set e trocarmos pela media"
   ]
  },
  {
   "cell_type": "code",
   "execution_count": 17,
   "id": "288ff9ae-95e1-4f58-a8c7-4d9cb1618a89",
   "metadata": {},
   "outputs": [
    {
     "data": {
      "text/plain": [
       "28   NaN\n",
       "30   NaN\n",
       "31   NaN\n",
       "Name: age, dtype: float64"
      ]
     },
     "execution_count": 17,
     "metadata": {},
     "output_type": "execute_result"
    }
   ],
   "source": [
    "valores_nulos.index.values\n",
    "data_set.loc[valores_nulos.index.values,'age']"
   ]
  },
  {
   "cell_type": "code",
   "execution_count": 13,
   "id": "600a41dd-4c84-4b2f-8f90-c30d60fc09c8",
   "metadata": {},
   "outputs": [
    {
     "data": {
      "text/html": [
       "<div>\n",
       "<style scoped>\n",
       "    .dataframe tbody tr th:only-of-type {\n",
       "        vertical-align: middle;\n",
       "    }\n",
       "\n",
       "    .dataframe tbody tr th {\n",
       "        vertical-align: top;\n",
       "    }\n",
       "\n",
       "    .dataframe thead th {\n",
       "        text-align: right;\n",
       "    }\n",
       "</style>\n",
       "<table border=\"1\" class=\"dataframe\">\n",
       "  <thead>\n",
       "    <tr style=\"text-align: right;\">\n",
       "      <th></th>\n",
       "      <th>i#clientid</th>\n",
       "      <th>income</th>\n",
       "      <th>age</th>\n",
       "      <th>loan</th>\n",
       "      <th>c#default</th>\n",
       "    </tr>\n",
       "  </thead>\n",
       "  <tbody>\n",
       "    <tr>\n",
       "      <th>28</th>\n",
       "      <td>29</td>\n",
       "      <td>59417.805406</td>\n",
       "      <td>NaN</td>\n",
       "      <td>2082.625938</td>\n",
       "      <td>0</td>\n",
       "    </tr>\n",
       "    <tr>\n",
       "      <th>30</th>\n",
       "      <td>31</td>\n",
       "      <td>48528.852796</td>\n",
       "      <td>NaN</td>\n",
       "      <td>6155.784670</td>\n",
       "      <td>0</td>\n",
       "    </tr>\n",
       "    <tr>\n",
       "      <th>31</th>\n",
       "      <td>32</td>\n",
       "      <td>23526.302555</td>\n",
       "      <td>NaN</td>\n",
       "      <td>2862.010139</td>\n",
       "      <td>0</td>\n",
       "    </tr>\n",
       "  </tbody>\n",
       "</table>\n",
       "</div>"
      ],
      "text/plain": [
       "    i#clientid        income  age         loan  c#default\n",
       "28          29  59417.805406  NaN  2082.625938          0\n",
       "30          31  48528.852796  NaN  6155.784670          0\n",
       "31          32  23526.302555  NaN  2862.010139          0"
      ]
     },
     "execution_count": 13,
     "metadata": {},
     "output_type": "execute_result"
    }
   ],
   "source": [
    "valores_nulos"
   ]
  },
  {
   "cell_type": "code",
   "execution_count": 11,
   "id": "7447517e-e62e-432d-8279-ab7f8975dc9a",
   "metadata": {},
   "outputs": [
    {
     "data": {
      "text/html": [
       "<div>\n",
       "<style scoped>\n",
       "    .dataframe tbody tr th:only-of-type {\n",
       "        vertical-align: middle;\n",
       "    }\n",
       "\n",
       "    .dataframe tbody tr th {\n",
       "        vertical-align: top;\n",
       "    }\n",
       "\n",
       "    .dataframe thead th {\n",
       "        text-align: right;\n",
       "    }\n",
       "</style>\n",
       "<table border=\"1\" class=\"dataframe\">\n",
       "  <thead>\n",
       "    <tr style=\"text-align: right;\">\n",
       "      <th></th>\n",
       "      <th>i#clientid</th>\n",
       "      <th>income</th>\n",
       "      <th>age</th>\n",
       "      <th>loan</th>\n",
       "      <th>c#default</th>\n",
       "    </tr>\n",
       "  </thead>\n",
       "  <tbody>\n",
       "    <tr>\n",
       "      <th>28</th>\n",
       "      <td>29</td>\n",
       "      <td>59417.805406</td>\n",
       "      <td>41.317159</td>\n",
       "      <td>2082.625938</td>\n",
       "      <td>0</td>\n",
       "    </tr>\n",
       "    <tr>\n",
       "      <th>30</th>\n",
       "      <td>31</td>\n",
       "      <td>48528.852796</td>\n",
       "      <td>41.317159</td>\n",
       "      <td>6155.784670</td>\n",
       "      <td>0</td>\n",
       "    </tr>\n",
       "    <tr>\n",
       "      <th>31</th>\n",
       "      <td>32</td>\n",
       "      <td>23526.302555</td>\n",
       "      <td>41.317159</td>\n",
       "      <td>2862.010139</td>\n",
       "      <td>0</td>\n",
       "    </tr>\n",
       "  </tbody>\n",
       "</table>\n",
       "</div>"
      ],
      "text/plain": [
       "    i#clientid        income        age         loan  c#default\n",
       "28          29  59417.805406  41.317159  2082.625938          0\n",
       "30          31  48528.852796  41.317159  6155.784670          0\n",
       "31          32  23526.302555  41.317159  2862.010139          0"
      ]
     },
     "execution_count": 11,
     "metadata": {},
     "output_type": "execute_result"
    }
   ],
   "source": [
    "valores_nulos.fillna(data_set.median()) # substitui todos os valores nulos pela média, como são 3 e pouca proporcao, nao compensa jogar fora\n",
    "#se eu quisesse poderia dropar com: dropna"
   ]
  },
  {
   "cell_type": "code",
   "execution_count": 12,
   "id": "cef26c39-8434-4665-a153-4f232be12770",
   "metadata": {},
   "outputs": [
    {
     "name": "stdout",
     "output_type": "stream",
     "text": [
      "<class 'pandas.core.frame.DataFrame'>\n",
      "RangeIndex: 2000 entries, 0 to 1999\n",
      "Data columns (total 5 columns):\n",
      " #   Column      Non-Null Count  Dtype  \n",
      "---  ------      --------------  -----  \n",
      " 0   i#clientid  2000 non-null   int64  \n",
      " 1   income      2000 non-null   float64\n",
      " 2   age         2000 non-null   float64\n",
      " 3   loan        2000 non-null   float64\n",
      " 4   c#default   2000 non-null   int64  \n",
      "dtypes: float64(3), int64(2)\n",
      "memory usage: 78.2 KB\n"
     ]
    }
   ],
   "source": [
    "data_set.fillna(data_set.median(),inplace=True) #inplace substitui diretamente no data_set\n",
    "data_set.info()"
   ]
  },
  {
   "cell_type": "code",
   "execution_count": 13,
   "id": "d01cf576-10e8-4fe6-af90-096f7beb80e8",
   "metadata": {},
   "outputs": [
    {
     "name": "stderr",
     "output_type": "stream",
     "text": [
      "C:\\Users\\WILLIAM\\anaconda3\\lib\\site-packages\\seaborn\\_decorators.py:36: FutureWarning: Pass the following variable as a keyword arg: x. From version 0.12, the only valid positional argument will be `data`, and passing other arguments without an explicit keyword will result in an error or misinterpretation.\n",
      "  warnings.warn(\n"
     ]
    },
    {
     "data": {
      "text/plain": [
       "[Text(0, 0, '1717'), Text(0, 0, '283')]"
      ]
     },
     "execution_count": 13,
     "metadata": {},
     "output_type": "execute_result"
    },
    {
     "data": {
      "image/png": "[encoded data removed]",
      "text/plain": [
       "<Figure size 640x480 with 1 Axes>"
      ]
     },
     "metadata": {},
     "output_type": "display_data"
    }
   ],
   "source": [
    "count_classify=sns.countplot(data_set['c#default']);#esse ponto e virgula suprime o aviso\n",
    "count_classify.bar_label(container=count_classify.containers[0],labels=data_set['c#default'].value_counts(ascending=False).values) #gera os labels"
   ]
  },
  {
   "cell_type": "markdown",
   "id": "6de2937c-2832-48f8-956f-23d35467337d",
   "metadata": {},
   "source": [
    "temos uma quantidade desbalanceada de valores de nao pagou= 0 e pagou=1"
   ]
  },
  {
   "cell_type": "markdown",
   "id": "739763bf-e475-4ccb-97b9-497e7ab004f5",
   "metadata": {
    "tags": []
   },
   "source": [
    "### 2° verificação de idades menores do que 0\n"
   ]
  },
  {
   "cell_type": "code",
   "execution_count": 14,
   "id": "dcf6d92b-f676-4a41-99a2-0b3dd863407d",
   "metadata": {},
   "outputs": [
    {
     "data": {
      "text/html": [
       "<div>\n",
       "<style scoped>\n",
       "    .dataframe tbody tr th:only-of-type {\n",
       "        vertical-align: middle;\n",
       "    }\n",
       "\n",
       "    .dataframe tbody tr th {\n",
       "        vertical-align: top;\n",
       "    }\n",
       "\n",
       "    .dataframe thead th {\n",
       "        text-align: right;\n",
       "    }\n",
       "</style>\n",
       "<table border=\"1\" class=\"dataframe\">\n",
       "  <thead>\n",
       "    <tr style=\"text-align: right;\">\n",
       "      <th></th>\n",
       "      <th>i#clientid</th>\n",
       "      <th>income</th>\n",
       "      <th>age</th>\n",
       "      <th>loan</th>\n",
       "      <th>c#default</th>\n",
       "    </tr>\n",
       "  </thead>\n",
       "  <tbody>\n",
       "    <tr>\n",
       "      <th>15</th>\n",
       "      <td>16</td>\n",
       "      <td>50501.726689</td>\n",
       "      <td>-28.218361</td>\n",
       "      <td>3977.287432</td>\n",
       "      <td>0</td>\n",
       "    </tr>\n",
       "    <tr>\n",
       "      <th>21</th>\n",
       "      <td>22</td>\n",
       "      <td>32197.620701</td>\n",
       "      <td>-52.423280</td>\n",
       "      <td>4244.057136</td>\n",
       "      <td>0</td>\n",
       "    </tr>\n",
       "    <tr>\n",
       "      <th>26</th>\n",
       "      <td>27</td>\n",
       "      <td>63287.038908</td>\n",
       "      <td>-36.496976</td>\n",
       "      <td>9595.286289</td>\n",
       "      <td>0</td>\n",
       "    </tr>\n",
       "  </tbody>\n",
       "</table>\n",
       "</div>"
      ],
      "text/plain": [
       "    i#clientid        income        age         loan  c#default\n",
       "15          16  50501.726689 -28.218361  3977.287432          0\n",
       "21          22  32197.620701 -52.423280  4244.057136          0\n",
       "26          27  63287.038908 -36.496976  9595.286289          0"
      ]
     },
     "execution_count": 14,
     "metadata": {},
     "output_type": "execute_result"
    }
   ],
   "source": [
    "data_set[data_set['age']<=0]"
   ]
  },
  {
   "cell_type": "markdown",
   "id": "f1451cc5-15db-4b57-b8e3-b1418e866320",
   "metadata": {
    "tags": []
   },
   "source": [
    "#### Método 1\n",
    "método 1 consiste em substituir cada idade pelo seu valor em absoluto"
   ]
  },
  {
   "cell_type": "code",
   "execution_count": 15,
   "id": "d2fa9947-444c-47bb-b303-a022dfde6876",
   "metadata": {},
   "outputs": [
    {
     "data": {
      "text/html": [
       "<div>\n",
       "<style scoped>\n",
       "    .dataframe tbody tr th:only-of-type {\n",
       "        vertical-align: middle;\n",
       "    }\n",
       "\n",
       "    .dataframe tbody tr th {\n",
       "        vertical-align: top;\n",
       "    }\n",
       "\n",
       "    .dataframe thead th {\n",
       "        text-align: right;\n",
       "    }\n",
       "</style>\n",
       "<table border=\"1\" class=\"dataframe\">\n",
       "  <thead>\n",
       "    <tr style=\"text-align: right;\">\n",
       "      <th></th>\n",
       "      <th>i#clientid</th>\n",
       "      <th>income</th>\n",
       "      <th>age</th>\n",
       "      <th>loan</th>\n",
       "      <th>c#default</th>\n",
       "    </tr>\n",
       "  </thead>\n",
       "  <tbody>\n",
       "    <tr>\n",
       "      <th>count</th>\n",
       "      <td>2000.000000</td>\n",
       "      <td>2000.000000</td>\n",
       "      <td>2000.000000</td>\n",
       "      <td>2000.000000</td>\n",
       "      <td>2000.000000</td>\n",
       "    </tr>\n",
       "    <tr>\n",
       "      <th>mean</th>\n",
       "      <td>1000.500000</td>\n",
       "      <td>45331.600018</td>\n",
       "      <td>40.925462</td>\n",
       "      <td>4444.369695</td>\n",
       "      <td>0.141500</td>\n",
       "    </tr>\n",
       "    <tr>\n",
       "      <th>std</th>\n",
       "      <td>577.494589</td>\n",
       "      <td>14326.327119</td>\n",
       "      <td>13.257790</td>\n",
       "      <td>3045.410024</td>\n",
       "      <td>0.348624</td>\n",
       "    </tr>\n",
       "    <tr>\n",
       "      <th>min</th>\n",
       "      <td>1.000000</td>\n",
       "      <td>20014.489470</td>\n",
       "      <td>18.055189</td>\n",
       "      <td>1.377630</td>\n",
       "      <td>0.000000</td>\n",
       "    </tr>\n",
       "    <tr>\n",
       "      <th>25%</th>\n",
       "      <td>500.750000</td>\n",
       "      <td>32796.459717</td>\n",
       "      <td>29.062492</td>\n",
       "      <td>1939.708847</td>\n",
       "      <td>0.000000</td>\n",
       "    </tr>\n",
       "    <tr>\n",
       "      <th>50%</th>\n",
       "      <td>1000.500000</td>\n",
       "      <td>45789.117313</td>\n",
       "      <td>41.317159</td>\n",
       "      <td>3974.719419</td>\n",
       "      <td>0.000000</td>\n",
       "    </tr>\n",
       "    <tr>\n",
       "      <th>75%</th>\n",
       "      <td>1500.250000</td>\n",
       "      <td>57791.281668</td>\n",
       "      <td>52.582340</td>\n",
       "      <td>6432.410625</td>\n",
       "      <td>0.000000</td>\n",
       "    </tr>\n",
       "    <tr>\n",
       "      <th>max</th>\n",
       "      <td>2000.000000</td>\n",
       "      <td>69995.685578</td>\n",
       "      <td>63.971796</td>\n",
       "      <td>13766.051239</td>\n",
       "      <td>1.000000</td>\n",
       "    </tr>\n",
       "  </tbody>\n",
       "</table>\n",
       "</div>"
      ],
      "text/plain": [
       "        i#clientid        income          age          loan    c#default\n",
       "count  2000.000000   2000.000000  2000.000000   2000.000000  2000.000000\n",
       "mean   1000.500000  45331.600018    40.925462   4444.369695     0.141500\n",
       "std     577.494589  14326.327119    13.257790   3045.410024     0.348624\n",
       "min       1.000000  20014.489470    18.055189      1.377630     0.000000\n",
       "25%     500.750000  32796.459717    29.062492   1939.708847     0.000000\n",
       "50%    1000.500000  45789.117313    41.317159   3974.719419     0.000000\n",
       "75%    1500.250000  57791.281668    52.582340   6432.410625     0.000000\n",
       "max    2000.000000  69995.685578    63.971796  13766.051239     1.000000"
      ]
     },
     "execution_count": 15,
     "metadata": {},
     "output_type": "execute_result"
    }
   ],
   "source": [
    "data_set.loc[:,'age']=data_set['age'].abs()\n",
    "data_set.describe()"
   ]
  },
  {
   "cell_type": "markdown",
   "id": "e84eeac5-68d0-415c-91e4-781e10e783ee",
   "metadata": {
    "tags": []
   },
   "source": [
    "#### Método 2\n",
    "método 2 na mão consiste em localizar os index e trocar os valores dos index multiplicando por -1 para que fiquem positivos"
   ]
  },
  {
   "cell_type": "code",
   "execution_count": null,
   "id": "1bef19ac-06f0-4702-ae92-6cdb0f00ad79",
   "metadata": {},
   "outputs": [],
   "source": []
  },
  {
   "cell_type": "code",
   "execution_count": 16,
   "id": "b080e0fb-7359-4304-b424-3a947b4016ec",
   "metadata": {},
   "outputs": [
    {
     "data": {
      "text/plain": [
       "array([], dtype=int64)"
      ]
     },
     "execution_count": 16,
     "metadata": {},
     "output_type": "execute_result"
    }
   ],
   "source": [
    "index=data_set[data_set['age']<=0].index.values\n",
    "index"
   ]
  },
  {
   "cell_type": "code",
   "execution_count": 17,
   "id": "5909739a-2201-416c-a3bf-cfbdb5938b20",
   "metadata": {},
   "outputs": [
    {
     "data": {
      "text/html": [
       "<div>\n",
       "<style scoped>\n",
       "    .dataframe tbody tr th:only-of-type {\n",
       "        vertical-align: middle;\n",
       "    }\n",
       "\n",
       "    .dataframe tbody tr th {\n",
       "        vertical-align: top;\n",
       "    }\n",
       "\n",
       "    .dataframe thead th {\n",
       "        text-align: right;\n",
       "    }\n",
       "</style>\n",
       "<table border=\"1\" class=\"dataframe\">\n",
       "  <thead>\n",
       "    <tr style=\"text-align: right;\">\n",
       "      <th></th>\n",
       "      <th>i#clientid</th>\n",
       "      <th>income</th>\n",
       "      <th>age</th>\n",
       "      <th>loan</th>\n",
       "      <th>c#default</th>\n",
       "    </tr>\n",
       "  </thead>\n",
       "  <tbody>\n",
       "  </tbody>\n",
       "</table>\n",
       "</div>"
      ],
      "text/plain": [
       "Empty DataFrame\n",
       "Columns: [i#clientid, income, age, loan, c#default]\n",
       "Index: []"
      ]
     },
     "execution_count": 17,
     "metadata": {},
     "output_type": "execute_result"
    }
   ],
   "source": [
    "#index=data_set[data_set['age']<=0].iloc[:,0:1].values #aqui temos os ids deles\n",
    "\n",
    "data_set.loc[index, 'age']=data_set.loc[index, 'age']*-1\n",
    "data_set.loc[index]"
   ]
  },
  {
   "cell_type": "code",
   "execution_count": 18,
   "id": "684fd127-3716-412f-840c-ec63f3963407",
   "metadata": {},
   "outputs": [
    {
     "data": {
      "text/plain": [
       "array([   0,    1,    2, ..., 1997, 1998, 1999], dtype=int64)"
      ]
     },
     "execution_count": 18,
     "metadata": {},
     "output_type": "execute_result"
    }
   ],
   "source": [
    "data_set.index.values"
   ]
  },
  {
   "cell_type": "markdown",
   "id": "a11fde22-61dd-40ff-a108-43825975efa3",
   "metadata": {
    "tags": []
   },
   "source": [
    "### Separação dos atributos preditores e das respotas"
   ]
  },
  {
   "cell_type": "code",
   "execution_count": 19,
   "id": "28d5748f-7e6f-48ac-a391-fec1bd0bad4b",
   "metadata": {},
   "outputs": [],
   "source": [
    "X=data_set.iloc[:,1:4]"
   ]
  },
  {
   "cell_type": "code",
   "execution_count": 20,
   "id": "fbeb5160-54a4-4da8-8504-843ad9331841",
   "metadata": {},
   "outputs": [
    {
     "data": {
      "text/html": [
       "<div>\n",
       "<style scoped>\n",
       "    .dataframe tbody tr th:only-of-type {\n",
       "        vertical-align: middle;\n",
       "    }\n",
       "\n",
       "    .dataframe tbody tr th {\n",
       "        vertical-align: top;\n",
       "    }\n",
       "\n",
       "    .dataframe thead th {\n",
       "        text-align: right;\n",
       "    }\n",
       "</style>\n",
       "<table border=\"1\" class=\"dataframe\">\n",
       "  <thead>\n",
       "    <tr style=\"text-align: right;\">\n",
       "      <th></th>\n",
       "      <th>income</th>\n",
       "      <th>age</th>\n",
       "      <th>loan</th>\n",
       "    </tr>\n",
       "  </thead>\n",
       "  <tbody>\n",
       "    <tr>\n",
       "      <th>0</th>\n",
       "      <td>66155.925095</td>\n",
       "      <td>59.017015</td>\n",
       "      <td>8106.532131</td>\n",
       "    </tr>\n",
       "    <tr>\n",
       "      <th>1</th>\n",
       "      <td>34415.153966</td>\n",
       "      <td>48.117153</td>\n",
       "      <td>6564.745018</td>\n",
       "    </tr>\n",
       "    <tr>\n",
       "      <th>2</th>\n",
       "      <td>57317.170063</td>\n",
       "      <td>63.108049</td>\n",
       "      <td>8020.953296</td>\n",
       "    </tr>\n",
       "    <tr>\n",
       "      <th>3</th>\n",
       "      <td>42709.534201</td>\n",
       "      <td>45.751972</td>\n",
       "      <td>6103.642260</td>\n",
       "    </tr>\n",
       "    <tr>\n",
       "      <th>4</th>\n",
       "      <td>66952.688845</td>\n",
       "      <td>18.584336</td>\n",
       "      <td>8770.099235</td>\n",
       "    </tr>\n",
       "    <tr>\n",
       "      <th>...</th>\n",
       "      <td>...</td>\n",
       "      <td>...</td>\n",
       "      <td>...</td>\n",
       "    </tr>\n",
       "    <tr>\n",
       "      <th>1995</th>\n",
       "      <td>59221.044874</td>\n",
       "      <td>48.518179</td>\n",
       "      <td>1926.729397</td>\n",
       "    </tr>\n",
       "    <tr>\n",
       "      <th>1996</th>\n",
       "      <td>69516.127573</td>\n",
       "      <td>23.162104</td>\n",
       "      <td>3503.176156</td>\n",
       "    </tr>\n",
       "    <tr>\n",
       "      <th>1997</th>\n",
       "      <td>44311.449262</td>\n",
       "      <td>28.017167</td>\n",
       "      <td>5522.786693</td>\n",
       "    </tr>\n",
       "    <tr>\n",
       "      <th>1998</th>\n",
       "      <td>43756.056605</td>\n",
       "      <td>63.971796</td>\n",
       "      <td>1622.722598</td>\n",
       "    </tr>\n",
       "    <tr>\n",
       "      <th>1999</th>\n",
       "      <td>69436.579552</td>\n",
       "      <td>56.152617</td>\n",
       "      <td>7378.833599</td>\n",
       "    </tr>\n",
       "  </tbody>\n",
       "</table>\n",
       "<p>2000 rows × 3 columns</p>\n",
       "</div>"
      ],
      "text/plain": [
       "            income        age         loan\n",
       "0     66155.925095  59.017015  8106.532131\n",
       "1     34415.153966  48.117153  6564.745018\n",
       "2     57317.170063  63.108049  8020.953296\n",
       "3     42709.534201  45.751972  6103.642260\n",
       "4     66952.688845  18.584336  8770.099235\n",
       "...            ...        ...          ...\n",
       "1995  59221.044874  48.518179  1926.729397\n",
       "1996  69516.127573  23.162104  3503.176156\n",
       "1997  44311.449262  28.017167  5522.786693\n",
       "1998  43756.056605  63.971796  1622.722598\n",
       "1999  69436.579552  56.152617  7378.833599\n",
       "\n",
       "[2000 rows x 3 columns]"
      ]
     },
     "execution_count": 20,
     "metadata": {},
     "output_type": "execute_result"
    }
   ],
   "source": [
    "X #preditor"
   ]
  },
  {
   "cell_type": "code",
   "execution_count": 21,
   "id": "82bb19a3-b5f7-43e9-bb9b-ba53c449220f",
   "metadata": {},
   "outputs": [],
   "source": [
    "Y=data_set.iloc[:,4:5]"
   ]
  },
  {
   "cell_type": "code",
   "execution_count": 22,
   "id": "4c42f6ff-d030-49bc-a419-17d5df148974",
   "metadata": {},
   "outputs": [
    {
     "data": {
      "text/html": [
       "<div>\n",
       "<style scoped>\n",
       "    .dataframe tbody tr th:only-of-type {\n",
       "        vertical-align: middle;\n",
       "    }\n",
       "\n",
       "    .dataframe tbody tr th {\n",
       "        vertical-align: top;\n",
       "    }\n",
       "\n",
       "    .dataframe thead th {\n",
       "        text-align: right;\n",
       "    }\n",
       "</style>\n",
       "<table border=\"1\" class=\"dataframe\">\n",
       "  <thead>\n",
       "    <tr style=\"text-align: right;\">\n",
       "      <th></th>\n",
       "      <th>c#default</th>\n",
       "    </tr>\n",
       "  </thead>\n",
       "  <tbody>\n",
       "    <tr>\n",
       "      <th>0</th>\n",
       "      <td>0</td>\n",
       "    </tr>\n",
       "    <tr>\n",
       "      <th>1</th>\n",
       "      <td>0</td>\n",
       "    </tr>\n",
       "    <tr>\n",
       "      <th>2</th>\n",
       "      <td>0</td>\n",
       "    </tr>\n",
       "    <tr>\n",
       "      <th>3</th>\n",
       "      <td>0</td>\n",
       "    </tr>\n",
       "    <tr>\n",
       "      <th>4</th>\n",
       "      <td>1</td>\n",
       "    </tr>\n",
       "    <tr>\n",
       "      <th>...</th>\n",
       "      <td>...</td>\n",
       "    </tr>\n",
       "    <tr>\n",
       "      <th>1995</th>\n",
       "      <td>0</td>\n",
       "    </tr>\n",
       "    <tr>\n",
       "      <th>1996</th>\n",
       "      <td>0</td>\n",
       "    </tr>\n",
       "    <tr>\n",
       "      <th>1997</th>\n",
       "      <td>1</td>\n",
       "    </tr>\n",
       "    <tr>\n",
       "      <th>1998</th>\n",
       "      <td>0</td>\n",
       "    </tr>\n",
       "    <tr>\n",
       "      <th>1999</th>\n",
       "      <td>0</td>\n",
       "    </tr>\n",
       "  </tbody>\n",
       "</table>\n",
       "<p>2000 rows × 1 columns</p>\n",
       "</div>"
      ],
      "text/plain": [
       "      c#default\n",
       "0             0\n",
       "1             0\n",
       "2             0\n",
       "3             0\n",
       "4             1\n",
       "...         ...\n",
       "1995          0\n",
       "1996          0\n",
       "1997          1\n",
       "1998          0\n",
       "1999          0\n",
       "\n",
       "[2000 rows x 1 columns]"
      ]
     },
     "execution_count": 22,
     "metadata": {},
     "output_type": "execute_result"
    }
   ],
   "source": [
    "Y #rotulo"
   ]
  },
  {
   "cell_type": "markdown",
   "id": "250ef63f-76f4-4ead-90d0-dbedc11a5fba",
   "metadata": {
    "tags": []
   },
   "source": [
    "agora devemos tranformar X e Y em arrays "
   ]
  },
  {
   "cell_type": "code",
   "execution_count": 23,
   "id": "7d0c14a3-c958-4506-8a86-b2ad6dad7789",
   "metadata": {},
   "outputs": [
    {
     "data": {
      "text/plain": [
       "array([[6.61559251e+04, 5.90170151e+01, 8.10653213e+03],\n",
       "       [3.44151540e+04, 4.81171531e+01, 6.56474502e+03],\n",
       "       [5.73171701e+04, 6.31080495e+01, 8.02095330e+03],\n",
       "       ...,\n",
       "       [4.43114493e+04, 2.80171669e+01, 5.52278669e+03],\n",
       "       [4.37560566e+04, 6.39717958e+01, 1.62272260e+03],\n",
       "       [6.94365796e+04, 5.61526170e+01, 7.37883360e+03]])"
      ]
     },
     "execution_count": 23,
     "metadata": {},
     "output_type": "execute_result"
    }
   ],
   "source": [
    "X=X.values\n",
    "X"
   ]
  },
  {
   "cell_type": "code",
   "execution_count": 24,
   "id": "90b8e9bd-0833-489f-9fb8-f0efc0c3750b",
   "metadata": {},
   "outputs": [
    {
     "data": {
      "text/plain": [
       "array([[0],\n",
       "       [0],\n",
       "       [0],\n",
       "       ...,\n",
       "       [1],\n",
       "       [0],\n",
       "       [0]], dtype=int64)"
      ]
     },
     "execution_count": 24,
     "metadata": {},
     "output_type": "execute_result"
    }
   ],
   "source": [
    "Y=Y.values\n",
    "Y"
   ]
  },
  {
   "cell_type": "markdown",
   "id": "95b7eb50-5e7f-4f4a-9862-c9e2e906c264",
   "metadata": {
    "tags": []
   },
   "source": [
    "## Separação base de treino e base de teste\n",
    "\n",
    "o modo de separação será a estratificada, nessa hora é uma boa verificarmos qual o tipo de amostrarem iremos utilizar para fazer a divisão entre base de treinamento e de teste"
   ]
  },
  {
   "cell_type": "code",
   "execution_count": 25,
   "id": "e2ec4634-252b-4faa-8356-c4c1e45d540b",
   "metadata": {},
   "outputs": [],
   "source": [
    "from sklearn.model_selection import train_test_split\n",
    "\n",
    "X_train, X_test, y_train,y_test= train_test_split(X,Y,test_size=0.2,stratify=Y)"
   ]
  },
  {
   "cell_type": "code",
   "execution_count": 26,
   "id": "e7a2f6ee-7494-4cd0-b1fc-1bd7670c01f0",
   "metadata": {},
   "outputs": [
    {
     "data": {
      "text/plain": [
       "((1600, 3), (400, 3), (1600, 1), (400, 1))"
      ]
     },
     "execution_count": 26,
     "metadata": {},
     "output_type": "execute_result"
    }
   ],
   "source": [
    "X_train.shape,X_test.shape, y_train.shape, y_test.shape"
   ]
  },
  {
   "cell_type": "markdown",
   "id": "a2af7041-db31-4bef-b3ed-b4dcfda2368b",
   "metadata": {},
   "source": [
    "###Teste transformando array para numpy\n",
    "\n",
    "Aqui eu transformei de numpy para dataframe pandas e renomeei as colunas, também chequei a proporcao"
   ]
  },
  {
   "cell_type": "code",
   "execution_count": 27,
   "id": "23cb37fd-29e1-4b54-be23-97d4571cf2b4",
   "metadata": {},
   "outputs": [
    {
     "data": {
      "text/html": [
       "<div>\n",
       "<style scoped>\n",
       "    .dataframe tbody tr th:only-of-type {\n",
       "        vertical-align: middle;\n",
       "    }\n",
       "\n",
       "    .dataframe tbody tr th {\n",
       "        vertical-align: top;\n",
       "    }\n",
       "\n",
       "    .dataframe thead th {\n",
       "        text-align: right;\n",
       "    }\n",
       "</style>\n",
       "<table border=\"1\" class=\"dataframe\">\n",
       "  <thead>\n",
       "    <tr style=\"text-align: right;\">\n",
       "      <th></th>\n",
       "      <th>Renda</th>\n",
       "      <th>Idade</th>\n",
       "      <th>Divida</th>\n",
       "    </tr>\n",
       "  </thead>\n",
       "  <tbody>\n",
       "    <tr>\n",
       "      <th>0</th>\n",
       "      <td>55408.705950</td>\n",
       "      <td>43.322807</td>\n",
       "      <td>10300.281248</td>\n",
       "    </tr>\n",
       "    <tr>\n",
       "      <th>1</th>\n",
       "      <td>67772.793681</td>\n",
       "      <td>41.515261</td>\n",
       "      <td>5037.933861</td>\n",
       "    </tr>\n",
       "    <tr>\n",
       "      <th>2</th>\n",
       "      <td>34722.964831</td>\n",
       "      <td>22.223387</td>\n",
       "      <td>4073.411901</td>\n",
       "    </tr>\n",
       "    <tr>\n",
       "      <th>3</th>\n",
       "      <td>48500.268154</td>\n",
       "      <td>61.304800</td>\n",
       "      <td>7054.606149</td>\n",
       "    </tr>\n",
       "    <tr>\n",
       "      <th>4</th>\n",
       "      <td>67151.318612</td>\n",
       "      <td>51.655099</td>\n",
       "      <td>3941.698673</td>\n",
       "    </tr>\n",
       "    <tr>\n",
       "      <th>...</th>\n",
       "      <td>...</td>\n",
       "      <td>...</td>\n",
       "      <td>...</td>\n",
       "    </tr>\n",
       "    <tr>\n",
       "      <th>1595</th>\n",
       "      <td>36017.902747</td>\n",
       "      <td>43.523623</td>\n",
       "      <td>1526.392476</td>\n",
       "    </tr>\n",
       "    <tr>\n",
       "      <th>1596</th>\n",
       "      <td>27966.244454</td>\n",
       "      <td>53.700273</td>\n",
       "      <td>4445.203178</td>\n",
       "    </tr>\n",
       "    <tr>\n",
       "      <th>1597</th>\n",
       "      <td>69310.957268</td>\n",
       "      <td>42.110609</td>\n",
       "      <td>1590.325804</td>\n",
       "    </tr>\n",
       "    <tr>\n",
       "      <th>1598</th>\n",
       "      <td>26037.463644</td>\n",
       "      <td>24.783108</td>\n",
       "      <td>3293.250879</td>\n",
       "    </tr>\n",
       "    <tr>\n",
       "      <th>1599</th>\n",
       "      <td>40719.490317</td>\n",
       "      <td>22.926914</td>\n",
       "      <td>6415.086244</td>\n",
       "    </tr>\n",
       "  </tbody>\n",
       "</table>\n",
       "<p>1600 rows × 3 columns</p>\n",
       "</div>"
      ],
      "text/plain": [
       "             Renda      Idade        Divida\n",
       "0     55408.705950  43.322807  10300.281248\n",
       "1     67772.793681  41.515261   5037.933861\n",
       "2     34722.964831  22.223387   4073.411901\n",
       "3     48500.268154  61.304800   7054.606149\n",
       "4     67151.318612  51.655099   3941.698673\n",
       "...            ...        ...           ...\n",
       "1595  36017.902747  43.523623   1526.392476\n",
       "1596  27966.244454  53.700273   4445.203178\n",
       "1597  69310.957268  42.110609   1590.325804\n",
       "1598  26037.463644  24.783108   3293.250879\n",
       "1599  40719.490317  22.926914   6415.086244\n",
       "\n",
       "[1600 rows x 3 columns]"
      ]
     },
     "execution_count": 27,
     "metadata": {},
     "output_type": "execute_result"
    }
   ],
   "source": [
    "aux_X=pd.DataFrame(X_train)\n",
    "aux_X.columns=['renda','idade','divida']\n",
    "aux_X\n",
    "aux_X.rename(columns={'renda': 'Renda', 'idade':'Idade', 'divida':'Divida'},inplace=True)#Rename so funciona apos nomeacao das colunas\n",
    "aux_X"
   ]
  },
  {
   "cell_type": "markdown",
   "id": "c7ae8e4d-b193-4dde-b5a7-43b6841f13e0",
   "metadata": {
    "tags": []
   },
   "source": [
    "### Verificação se manteve a proporção\n",
    "aqui fazemos a contagem pra ver se manteve a proporção de pagou ou não pagou a dívida, Y que é da base total tem 85.85% que pagou e a base dividia tem 85.875 que pagou"
   ]
  },
  {
   "cell_type": "code",
   "execution_count": 28,
   "id": "815e5989-a91f-4cc3-862e-5318bee605f8",
   "metadata": {},
   "outputs": [
    {
     "data": {
      "text/plain": [
       "(array([0, 1], dtype=int64), array([1717,  283], dtype=int64))"
      ]
     },
     "execution_count": 28,
     "metadata": {},
     "output_type": "execute_result"
    }
   ],
   "source": [
    "np.unique(Y, return_counts=True)"
   ]
  },
  {
   "cell_type": "code",
   "execution_count": 29,
   "id": "7cd68238-4fa6-41b3-888c-58c8f29e92fa",
   "metadata": {},
   "outputs": [
    {
     "data": {
      "text/plain": [
       "(0.8585, 0.1415)"
      ]
     },
     "execution_count": 29,
     "metadata": {},
     "output_type": "execute_result"
    }
   ],
   "source": [
    "1717/data_set.shape[0], 283/data_set.shape[0]"
   ]
  },
  {
   "cell_type": "code",
   "execution_count": 30,
   "id": "16e7ffbc-1b45-4847-af5e-bcf27a8523bb",
   "metadata": {},
   "outputs": [
    {
     "data": {
      "text/plain": [
       "(array([0, 1], dtype=int64), array([1374,  226], dtype=int64))"
      ]
     },
     "execution_count": 30,
     "metadata": {},
     "output_type": "execute_result"
    }
   ],
   "source": [
    "np.unique(y_train, return_counts=True)"
   ]
  },
  {
   "cell_type": "code",
   "execution_count": 31,
   "id": "bbe6d29c-556d-4cb7-86d4-79e4981ea6fb",
   "metadata": {},
   "outputs": [
    {
     "data": {
      "text/plain": [
       "0.85875"
      ]
     },
     "execution_count": 31,
     "metadata": {},
     "output_type": "execute_result"
    }
   ],
   "source": [
    "1374/y_train.shape[0]"
   ]
  },
  {
   "cell_type": "code",
   "execution_count": 32,
   "id": "52cca2ee-b600-46cb-84dc-d43e4476fafd",
   "metadata": {},
   "outputs": [
    {
     "data": {
      "text/plain": [
       "0.14125"
      ]
     },
     "execution_count": 32,
     "metadata": {},
     "output_type": "execute_result"
    }
   ],
   "source": [
    "226/y_train.shape[0]"
   ]
  },
  {
   "cell_type": "markdown",
   "id": "840a724d-1fb8-440f-af66-0fa263f15811",
   "metadata": {
    "tags": []
   },
   "source": [
    "## Criação e Treinamento do Modelo"
   ]
  },
  {
   "cell_type": "code",
   "execution_count": 33,
   "id": "da6b214a-6b4f-4640-aa43-3c78353c5306",
   "metadata": {},
   "outputs": [
    {
     "data": {
      "text/plain": [
       "(1600,)"
      ]
     },
     "execution_count": 33,
     "metadata": {},
     "output_type": "execute_result"
    }
   ],
   "source": [
    "from sklearn.naive_bayes import GaussianNB\n",
    "y_train.ravel().shape"
   ]
  },
  {
   "cell_type": "code",
   "execution_count": 34,
   "id": "0deb9bb7-bcbd-4569-9812-4ec010dd88e8",
   "metadata": {},
   "outputs": [
    {
     "data": {
      "text/plain": [
       "GaussianNB()"
      ]
     },
     "execution_count": 34,
     "metadata": {},
     "output_type": "execute_result"
    }
   ],
   "source": [
    "modelo_Naive=GaussianNB()\n",
    "modelo_Naive.fit(X_train,y_train.ravel()) #encaixei na base de dados"
   ]
  },
  {
   "cell_type": "code",
   "execution_count": 35,
   "id": "a29eb9d8-77f4-466c-a2d1-729dcab574bd",
   "metadata": {},
   "outputs": [],
   "source": [
    "previsoes = modelo_Naive.predict(X_test)"
   ]
  },
  {
   "cell_type": "code",
   "execution_count": 36,
   "id": "c798ed38-0f3a-4a82-87c0-3f35f5c5da0b",
   "metadata": {},
   "outputs": [
    {
     "data": {
      "text/plain": [
       "array([0, 0, 0, 0, 0, 0, 0, 0, 0, 0, 0, 1, 0, 0, 0, 1, 0, 0, 1, 0, 0, 0,\n",
       "       0, 0, 0, 1, 0, 0, 0, 0, 0, 0, 0, 0, 0, 1, 0, 0, 0, 0, 0, 0, 0, 0,\n",
       "       0, 0, 0, 0, 0, 0, 0, 0, 1, 0, 0, 0, 0, 0, 0, 0, 0, 0, 0, 0, 1, 0,\n",
       "       0, 0, 0, 0, 0, 0, 0, 1, 0, 0, 0, 0, 0, 0, 0, 0, 0, 0, 0, 0, 0, 0,\n",
       "       0, 0, 0, 0, 0, 0, 0, 0, 0, 0, 0, 0, 0, 0, 1, 0, 0, 0, 0, 0, 0, 0,\n",
       "       0, 1, 0, 0, 0, 0, 0, 0, 0, 0, 0, 0, 0, 0, 0, 0, 1, 0, 0, 0, 1, 0,\n",
       "       0, 0, 0, 0, 0, 0, 0, 0, 0, 0, 0, 0, 0, 0, 0, 0, 0, 0, 0, 0, 0, 0,\n",
       "       0, 0, 0, 0, 0, 1, 0, 0, 0, 0, 0, 0, 0, 0, 0, 0, 0, 0, 0, 0, 0, 0,\n",
       "       0, 0, 0, 0, 0, 0, 1, 0, 0, 1, 0, 0, 0, 0, 1, 1, 0, 0, 0, 0, 0, 0,\n",
       "       0, 0, 0, 1, 0, 1, 0, 1, 0, 0, 0, 0, 0, 0, 0, 0, 0, 1, 0, 0, 0, 0,\n",
       "       0, 0, 0, 0, 0, 0, 0, 1, 0, 0, 0, 0, 0, 0, 0, 0, 0, 0, 0, 0, 0, 0,\n",
       "       0, 0, 0, 0, 0, 0, 0, 0, 0, 0, 0, 0, 0, 0, 0, 0, 0, 0, 0, 0, 1, 0,\n",
       "       0, 0, 0, 0, 0, 0, 0, 0, 0, 0, 0, 1, 1, 0, 0, 0, 1, 0, 0, 0, 0, 1,\n",
       "       1, 0, 0, 0, 0, 0, 0, 0, 0, 0, 0, 0, 0, 0, 0, 0, 1, 0, 0, 0, 0, 0,\n",
       "       0, 0, 0, 0, 0, 0, 0, 0, 0, 0, 0, 0, 0, 0, 0, 0, 0, 0, 0, 0, 0, 0,\n",
       "       0, 0, 0, 1, 0, 0, 0, 0, 0, 0, 0, 0, 0, 0, 1, 0, 0, 0, 0, 0, 0, 0,\n",
       "       0, 0, 0, 1, 0, 0, 0, 0, 0, 0, 0, 0, 0, 0, 0, 0, 1, 0, 0, 0, 0, 0,\n",
       "       0, 1, 0, 0, 1, 0, 0, 0, 0, 0, 1, 0, 0, 0, 0, 0, 0, 0, 0, 0, 0, 0,\n",
       "       0, 0, 0, 0], dtype=int64)"
      ]
     },
     "execution_count": 36,
     "metadata": {},
     "output_type": "execute_result"
    }
   ],
   "source": [
    "previsoes # aqui na base de teste vemos a probabilidade de alguém ter pago ou nao"
   ]
  },
  {
   "cell_type": "markdown",
   "id": "90bc9fe4-4e5a-49f8-9f72-4aba9d6c09d8",
   "metadata": {},
   "source": [
    "temos que comparar com a base de teste para saber a chance"
   ]
  },
  {
   "cell_type": "code",
   "execution_count": 3,
   "id": "8e7f3ac7-cf43-41df-aeae-ebc510e735c9",
   "metadata": {},
   "outputs": [],
   "source": [
    "from sklearn.metrics import accuracy_score, confusion_matrix #porcentagem acerto"
   ]
  },
  {
   "cell_type": "code",
   "execution_count": 38,
   "id": "62007ac1-eb36-480a-8f03-77d2fe9ee2c6",
   "metadata": {},
   "outputs": [
    {
     "data": {
      "text/plain": [
       "0.9075"
      ]
     },
     "execution_count": 38,
     "metadata": {},
     "output_type": "execute_result"
    }
   ],
   "source": [
    "accuracy_score(y_test,previsoes)"
   ]
  },
  {
   "cell_type": "code",
   "execution_count": 39,
   "id": "802b8685-d229-4fa1-aed9-4115f7ed9e8e",
   "metadata": {},
   "outputs": [
    {
     "data": {
      "text/plain": [
       "array([[335,   8],\n",
       "       [ 29,  28]], dtype=int64)"
      ]
     },
     "execution_count": 39,
     "metadata": {},
     "output_type": "execute_result"
    }
   ],
   "source": [
    "cm=confusion_matrix(y_test,previsoes)\n",
    "cm"
   ]
  },
  {
   "cell_type": "code",
   "execution_count": 40,
   "id": "fd9b4e61-c961-4966-8dc2-8ec018e76f5e",
   "metadata": {},
   "outputs": [
    {
     "data": {
      "text/plain": [
       "<AxesSubplot:>"
      ]
     },
     "execution_count": 40,
     "metadata": {},
     "output_type": "execute_result"
    },
    {
     "data": {
      "image/png": "[encoded data removed]",
      "text/plain": [
       "<Figure size 640x480 with 2 Axes>"
      ]
     },
     "metadata": {},
     "output_type": "display_data"
    }
   ],
   "source": [
    "sns.heatmap(cm,annot=True,xticklabels=['0-nao pagou','1-pagou'],yticklabels=['0-nao pagou', '1-pagou'])"
   ]
  },
  {
   "cell_type": "code",
   "execution_count": 41,
   "id": "68633217-a672-4084-ad48-6b8dd38e1272",
   "metadata": {},
   "outputs": [
    {
     "data": {
      "text/plain": [
       "(array([0, 1], dtype=int64), array([364,  36], dtype=int64))"
      ]
     },
     "execution_count": 41,
     "metadata": {},
     "output_type": "execute_result"
    }
   ],
   "source": [
    "np.unique(previsoes, return_counts=True)"
   ]
  },
  {
   "cell_type": "code",
   "execution_count": 42,
   "id": "f5b2e01c-2f99-443a-a550-276851761500",
   "metadata": {},
   "outputs": [
    {
     "data": {
      "text/plain": [
       "(array([0, 1], dtype=int64), array([343,  57], dtype=int64))"
      ]
     },
     "execution_count": 42,
     "metadata": {},
     "output_type": "execute_result"
    }
   ],
   "source": [
    "np.unique(y_test, return_counts=True)"
   ]
  },
  {
   "cell_type": "markdown",
   "id": "edfa599d-9b49-4410-abf9-41381018eab8",
   "metadata": {},
   "source": [
    "Se somarmos os elementos da linha 1 335 + 8 temos os 343 registros que na base de teste não pagaram. \n",
    "335 ele de fato acertou e 8 ele errou. Então, até aqui temos 8 como valor errado.\n",
    "\n",
    "Na linha 2 temos 23+34, logo 57 registros que na base de teste pagaram.\n",
    "23 ele diz que não pagou, mas de fato pagaram, outros 34 que pagaram ele diz que pagou.\n",
    "\n",
    "total de erro é 23+8=31, 31/400=7.75% de erro ou seja 92.25% de acerto\n",
    "\n",
    "\n",
    "percentual de acerto para quem paga \n",
    "34/57\n",
    "\n",
    "percentual de acerta para que nao paga\n",
    "335/343\n",
    "\n",
    "possívelmente o viés é porque os dados não estão balanceados.\n"
   ]
  },
  {
   "cell_type": "markdown",
   "id": "950555a2-fc7d-46ae-9736-132ceed93960",
   "metadata": {
    "tags": []
   },
   "source": [
    "### MultiClass Naive Bayes\n",
    "https://towardsdatascience.com/naive-bayes-algorithm-for-classification-bc5e98bff4d7"
   ]
  },
  {
   "cell_type": "markdown",
   "id": "cf20a1a4-259d-4b09-a825-d5f3989f2d00",
   "metadata": {
    "tags": []
   },
   "source": [
    "## over_sampling e under_sampling\n",
    "\n",
    "\n",
    "Como nossos Dados estão desbalanceados, podemos utilizar-se de 2 técnicas para realizar a amostragem na divisão dos dados. <br>\n",
    "<img src='imagens/Under_Over_sampling.png' /><br>\n",
    "Under sampling reduz para dimensão do que tem mais.\n",
    "\n",
    "Over sampling amplia a dimensão do que tem menos.\n",
    "\n",
    "<img src='imagens/tomek_link.png' /><br>\n",
    "\n",
    "Tomek links são os dados que estão próximos dentro da mesma classe, a ideia é remover eles para que fiquem mais espaçados e assim haja maior distância entre os dados (última figura da direita)\n",
    "\n",
    "<img src='imagens/smote.png' /><br>\n",
    "\n",
    "A ideia do smote é de gerar cópia com base na distância entre os elementos da classe que possui menos valor, ele pega uma distância de um ponto (verde) e se baseia nos vizinhos para gerar um novo registro"
   ]
  },
  {
   "cell_type": "code",
   "execution_count": null,
   "id": "b4e2ab10-e0da-4454-980a-d58f84ff5ea2",
   "metadata": {},
   "outputs": [],
   "source": []
  },
  {
   "cell_type": "markdown",
   "id": "2707b45d-772e-407e-a022-ddf842714720",
   "metadata": {
    "tags": []
   },
   "source": [
    "### Tomek link"
   ]
  },
  {
   "cell_type": "code",
   "execution_count": 1,
   "id": "1c1eb810-96e3-42b0-946a-e86340e11771",
   "metadata": {},
   "outputs": [
    {
     "name": "stdout",
     "output_type": "stream",
     "text": [
      "Requirement already satisfied: imblearn in c:\\users\\william\\anaconda3\\lib\\site-packages (0.0)\n",
      "Requirement already satisfied: imbalanced-learn in c:\\users\\william\\anaconda3\\lib\\site-packages (from imblearn) (0.10.1)\n",
      "Requirement already satisfied: threadpoolctl>=2.0.0 in c:\\users\\william\\anaconda3\\lib\\site-packages (from imbalanced-learn->imblearn) (2.2.0)\n",
      "Requirement already satisfied: joblib>=1.1.1 in c:\\users\\william\\anaconda3\\lib\\site-packages (from imbalanced-learn->imblearn) (1.2.0)\n",
      "Requirement already satisfied: numpy>=1.17.3 in c:\\users\\william\\anaconda3\\lib\\site-packages (from imbalanced-learn->imblearn) (1.21.5)\n",
      "Requirement already satisfied: scipy>=1.3.2 in c:\\users\\william\\anaconda3\\lib\\site-packages (from imbalanced-learn->imblearn) (1.9.1)\n",
      "Requirement already satisfied: scikit-learn>=1.0.2 in c:\\users\\william\\anaconda3\\lib\\site-packages (from imbalanced-learn->imblearn) (1.2.0)\n",
      "Note: you may need to restart the kernel to use updated packages.\n"
     ]
    }
   ],
   "source": [
    "pip install imblearn"
   ]
  },
  {
   "cell_type": "code",
   "execution_count": 4,
   "id": "eb447abe-a918-44df-914c-ca35ce490164",
   "metadata": {},
   "outputs": [],
   "source": [
    "from imblearn.under_sampling import TomekLinks"
   ]
  },
  {
   "cell_type": "code",
   "execution_count": 54,
   "id": "ffee1612-52d0-428b-be1c-43600937b375",
   "metadata": {},
   "outputs": [],
   "source": [
    "tl = TomekLinks(sampling_strategy='majority') #escolhe para excluir da classe que tem mais, no caso o azul\n",
    "X_under, y_under = tl.fit_resample(X, Y)"
   ]
  },
  {
   "cell_type": "code",
   "execution_count": 55,
   "id": "49b71346-1bd9-4e6e-9e6b-55ecffaaf6a6",
   "metadata": {},
   "outputs": [
    {
     "data": {
      "text/plain": [
       "((1899, 3), (1899,))"
      ]
     },
     "execution_count": 55,
     "metadata": {},
     "output_type": "execute_result"
    }
   ],
   "source": [
    "X_under.shape, y_under.shape"
   ]
  },
  {
   "cell_type": "code",
   "execution_count": 56,
   "id": "7fa207c9-e811-4abf-a0da-a1e3701d38aa",
   "metadata": {},
   "outputs": [
    {
     "data": {
      "text/plain": [
       "(array([0, 1], dtype=int64), array([1616,  283], dtype=int64))"
      ]
     },
     "execution_count": 56,
     "metadata": {},
     "output_type": "execute_result"
    }
   ],
   "source": [
    "np.unique(y_under,return_counts=True) # excluiu um pouco dos valores"
   ]
  },
  {
   "cell_type": "code",
   "execution_count": 57,
   "id": "5b149560-a450-412f-a0b0-32c2b57f8541",
   "metadata": {},
   "outputs": [],
   "source": [
    "X_train_u, X_test_u, y_train_u, y_test_u = train_test_split(X_under,y_under,test_size=0.2,stratify=y_under)"
   ]
  },
  {
   "cell_type": "code",
   "execution_count": 58,
   "id": "e5af75f7-5a86-48be-9b9b-a618b009d196",
   "metadata": {},
   "outputs": [
    {
     "data": {
      "text/plain": [
       "GaussianNB()"
      ]
     },
     "execution_count": 58,
     "metadata": {},
     "output_type": "execute_result"
    }
   ],
   "source": [
    "modelo_Naive=GaussianNB()\n",
    "modelo_Naive.fit(X_train_u,y_train_u.ravel()) #encaixei na base de dados"
   ]
  },
  {
   "cell_type": "code",
   "execution_count": 59,
   "id": "29cb1eb2-90a3-4aa8-8ade-7c52b9392334",
   "metadata": {},
   "outputs": [],
   "source": [
    "previsao_u=modelo_Naive.predict(X_test_u)"
   ]
  },
  {
   "cell_type": "code",
   "execution_count": 60,
   "id": "0c408c74-d639-42f4-920a-4c70efffc4ef",
   "metadata": {},
   "outputs": [
    {
     "data": {
      "text/plain": [
       "0.9263157894736842"
      ]
     },
     "execution_count": 60,
     "metadata": {},
     "output_type": "execute_result"
    }
   ],
   "source": [
    "accuracy_score(y_test_u,previsao_u)"
   ]
  },
  {
   "cell_type": "code",
   "execution_count": 61,
   "id": "2d7bbcfa-3e3e-438d-ae32-0f02d753a0ff",
   "metadata": {},
   "outputs": [
    {
     "data": {
      "text/plain": [
       "array([[335,   8],\n",
       "       [ 29,  28]], dtype=int64)"
      ]
     },
     "execution_count": 61,
     "metadata": {},
     "output_type": "execute_result"
    }
   ],
   "source": [
    "cm_u=confusion_matrix(y_test_u,previsao_u)\n",
    "cm_u"
   ]
  },
  {
   "cell_type": "markdown",
   "id": "7a776aad-fb17-4221-9fbc-6e5156fcf41a",
   "metadata": {
    "tags": []
   },
   "source": [
    "### SMOTE Sampling\n",
    "\n",
    "Agora faremos um over sampling até que seja atingido o número de exemplos que pagaram"
   ]
  },
  {
   "cell_type": "code",
   "execution_count": 5,
   "id": "3e8ec23e-9442-482e-9532-520732f5efe4",
   "metadata": {},
   "outputs": [],
   "source": [
    "from imblearn.over_sampling import SMOTE"
   ]
  },
  {
   "cell_type": "code",
   "execution_count": 64,
   "id": "a4cd24b6-9077-446e-8ed9-6bc0777e3365",
   "metadata": {},
   "outputs": [],
   "source": [
    "smote = SMOTE(sampling_strategy='minority')\n",
    "X_over, y_over = smote.fit_resample(X, Y)"
   ]
  },
  {
   "cell_type": "code",
   "execution_count": 65,
   "id": "7dcfefb4-f52b-44b2-8123-626dccc89c1f",
   "metadata": {},
   "outputs": [
    {
     "data": {
      "text/plain": [
       "((3434, 3), (3434,))"
      ]
     },
     "execution_count": 65,
     "metadata": {},
     "output_type": "execute_result"
    }
   ],
   "source": [
    "X_over.shape, y_over.shape"
   ]
  },
  {
   "cell_type": "code",
   "execution_count": 67,
   "id": "3aeeebc0-1309-432e-bfe9-e808bdaf0d13",
   "metadata": {},
   "outputs": [
    {
     "data": {
      "text/plain": [
       "(array([0, 1], dtype=int64), array([1717, 1717], dtype=int64))"
      ]
     },
     "execution_count": 67,
     "metadata": {},
     "output_type": "execute_result"
    }
   ],
   "source": [
    "np.unique(y_over, return_counts=True) #"
   ]
  },
  {
   "cell_type": "code",
   "execution_count": 69,
   "id": "119e4614-2484-4925-bf32-e776e62455f5",
   "metadata": {},
   "outputs": [],
   "source": [
    "X_train_over, X_test_over, y_train_over, y_test_over = train_test_split(X_over,y_over,test_size=0.2,stratify=y_over)"
   ]
  },
  {
   "cell_type": "code",
   "execution_count": 71,
   "id": "54e89167-9e19-43c4-8308-fbfa7bfd54f4",
   "metadata": {},
   "outputs": [
    {
     "data": {
      "text/plain": [
       "GaussianNB()"
      ]
     },
     "execution_count": 71,
     "metadata": {},
     "output_type": "execute_result"
    }
   ],
   "source": [
    "modelo_Naive=GaussianNB()\n",
    "modelo_Naive.fit(X_train_over,y_train_over.ravel()) "
   ]
  },
  {
   "cell_type": "code",
   "execution_count": 72,
   "id": "4347a0f1-3b8c-496a-8669-08682f1e3e40",
   "metadata": {},
   "outputs": [
    {
     "data": {
      "text/plain": [
       "0.9126637554585153"
      ]
     },
     "execution_count": 72,
     "metadata": {},
     "output_type": "execute_result"
    }
   ],
   "source": [
    "previsao_over=modelo_Naive.predict(X_test_over)\n",
    "accuracy_score(y_test_over,previsao_over)"
   ]
  },
  {
   "cell_type": "code",
   "execution_count": 74,
   "id": "a8820c59-701d-446d-a7bd-71b5b1f2fe08",
   "metadata": {},
   "outputs": [
    {
     "data": {
      "text/plain": [
       "array([[301,  42],\n",
       "       [ 18, 326]], dtype=int64)"
      ]
     },
     "execution_count": 74,
     "metadata": {},
     "output_type": "execute_result"
    }
   ],
   "source": [
    "cm_over=confusion_matrix(y_test_over,previsao_over)\n",
    "cm_over"
   ]
  },
  {
   "cell_type": "code",
   "execution_count": 75,
   "id": "d0d40f80-92e5-46bd-8288-76650ebff8e5",
   "metadata": {},
   "outputs": [
    {
     "data": {
      "text/plain": [
       "<AxesSubplot:>"
      ]
     },
     "execution_count": 75,
     "metadata": {},
     "output_type": "execute_result"
    },
    {
     "data": {
      "image/png": "[encoded data removed]",
      "text/plain": [
       "<Figure size 640x480 with 2 Axes>"
      ]
     },
     "metadata": {},
     "output_type": "display_data"
    }
   ],
   "source": [
    "sns.heatmap(cm_over,annot=True,xticklabels=['0-nao pagou','1-pagou'],yticklabels=['0-nao pagou', '1-pagou'])"
   ]
  },
  {
   "cell_type": "markdown",
   "id": "591111c1-d608-4fa7-a868-198331eae308",
   "metadata": {
    "tags": []
   },
   "source": [
    "## ebay_confianca data_set"
   ]
  },
  {
   "cell_type": "markdown",
   "id": "d1cac175-1cea-43fc-b1df-888963ca33f3",
   "metadata": {
    "tags": []
   },
   "source": [
    "### Explorando data_set\n",
    "\n",
    "Aqui eu verifico se há valores negativos, ou valores nulos e tamanho do data_set\n"
   ]
  },
  {
   "cell_type": "code",
   "execution_count": 146,
   "id": "c48c7766-29ae-46e6-a7a0-577d31838836",
   "metadata": {},
   "outputs": [],
   "source": [
    "ebay_dataset=pd.read_csv('data_base/csv_result-ebay_confianca_completo.csv')"
   ]
  },
  {
   "cell_type": "code",
   "execution_count": 147,
   "id": "811d5c94-9c40-422a-ba00-80d352151289",
   "metadata": {},
   "outputs": [
    {
     "data": {
      "text/html": [
       "<div>\n",
       "<style scoped>\n",
       "    .dataframe tbody tr th:only-of-type {\n",
       "        vertical-align: middle;\n",
       "    }\n",
       "\n",
       "    .dataframe tbody tr th {\n",
       "        vertical-align: top;\n",
       "    }\n",
       "\n",
       "    .dataframe thead th {\n",
       "        text-align: right;\n",
       "    }\n",
       "</style>\n",
       "<table border=\"1\" class=\"dataframe\">\n",
       "  <thead>\n",
       "    <tr style=\"text-align: right;\">\n",
       "      <th></th>\n",
       "      <th>feedbacks</th>\n",
       "      <th>reviews</th>\n",
       "      <th>blacklist</th>\n",
       "      <th>mextraversion</th>\n",
       "      <th>cextraversion</th>\n",
       "      <th>sextraversion</th>\n",
       "      <th>mneuroticism</th>\n",
       "      <th>cneuroticism</th>\n",
       "      <th>sneuroticism</th>\n",
       "      <th>mconscientiousness</th>\n",
       "      <th>...</th>\n",
       "      <th>need_practicaly</th>\n",
       "      <th>need_selfexpression</th>\n",
       "      <th>need_stability</th>\n",
       "      <th>need_structure</th>\n",
       "      <th>value_conservation</th>\n",
       "      <th>value_openess</th>\n",
       "      <th>value_hedonism</th>\n",
       "      <th>value_selfenhancement</th>\n",
       "      <th>value_selftranscendence</th>\n",
       "      <th>reputation</th>\n",
       "    </tr>\n",
       "  </thead>\n",
       "  <tbody>\n",
       "    <tr>\n",
       "      <th>2</th>\n",
       "      <td>0</td>\n",
       "      <td>49</td>\n",
       "      <td>N</td>\n",
       "      <td>4.181642</td>\n",
       "      <td>0.6</td>\n",
       "      <td>1</td>\n",
       "      <td>2.777591</td>\n",
       "      <td>0.6</td>\n",
       "      <td>0</td>\n",
       "      <td>4.085460</td>\n",
       "      <td>...</td>\n",
       "      <td>0.696359</td>\n",
       "      <td>0.698786</td>\n",
       "      <td>0.756963</td>\n",
       "      <td>0.660119</td>\n",
       "      <td>0.619416</td>\n",
       "      <td>0.746372</td>\n",
       "      <td>0.640073</td>\n",
       "      <td>0.598037</td>\n",
       "      <td>0.828716</td>\n",
       "      <td>Bom</td>\n",
       "    </tr>\n",
       "    <tr>\n",
       "      <th>3</th>\n",
       "      <td>0</td>\n",
       "      <td>56</td>\n",
       "      <td>N</td>\n",
       "      <td>4.007042</td>\n",
       "      <td>0.6</td>\n",
       "      <td>0</td>\n",
       "      <td>2.698650</td>\n",
       "      <td>0.6</td>\n",
       "      <td>0</td>\n",
       "      <td>4.187338</td>\n",
       "      <td>...</td>\n",
       "      <td>0.715300</td>\n",
       "      <td>0.664572</td>\n",
       "      <td>0.728806</td>\n",
       "      <td>0.660740</td>\n",
       "      <td>0.588969</td>\n",
       "      <td>0.735915</td>\n",
       "      <td>0.644465</td>\n",
       "      <td>0.603042</td>\n",
       "      <td>0.809379</td>\n",
       "      <td>Bom</td>\n",
       "    </tr>\n",
       "    <tr>\n",
       "      <th>4</th>\n",
       "      <td>0</td>\n",
       "      <td>50</td>\n",
       "      <td>N</td>\n",
       "      <td>4.538230</td>\n",
       "      <td>0.7</td>\n",
       "      <td>1</td>\n",
       "      <td>2.298492</td>\n",
       "      <td>0.5</td>\n",
       "      <td>1</td>\n",
       "      <td>5.085833</td>\n",
       "      <td>...</td>\n",
       "      <td>0.720150</td>\n",
       "      <td>0.694678</td>\n",
       "      <td>0.669652</td>\n",
       "      <td>0.627962</td>\n",
       "      <td>0.553523</td>\n",
       "      <td>0.766618</td>\n",
       "      <td>0.655470</td>\n",
       "      <td>0.645042</td>\n",
       "      <td>0.826039</td>\n",
       "      <td>Bom</td>\n",
       "    </tr>\n",
       "    <tr>\n",
       "      <th>5</th>\n",
       "      <td>72</td>\n",
       "      <td>0</td>\n",
       "      <td>N</td>\n",
       "      <td>4.692854</td>\n",
       "      <td>0.3</td>\n",
       "      <td>0</td>\n",
       "      <td>2.987231</td>\n",
       "      <td>0.5</td>\n",
       "      <td>0</td>\n",
       "      <td>4.831320</td>\n",
       "      <td>...</td>\n",
       "      <td>0.739793</td>\n",
       "      <td>0.637027</td>\n",
       "      <td>0.697221</td>\n",
       "      <td>0.638587</td>\n",
       "      <td>0.675289</td>\n",
       "      <td>0.752234</td>\n",
       "      <td>0.679661</td>\n",
       "      <td>0.674438</td>\n",
       "      <td>0.813391</td>\n",
       "      <td>Bom</td>\n",
       "    </tr>\n",
       "    <tr>\n",
       "      <th>6</th>\n",
       "      <td>76</td>\n",
       "      <td>0</td>\n",
       "      <td>N</td>\n",
       "      <td>4.966753</td>\n",
       "      <td>0.3</td>\n",
       "      <td>0</td>\n",
       "      <td>3.048730</td>\n",
       "      <td>0.5</td>\n",
       "      <td>0</td>\n",
       "      <td>4.725294</td>\n",
       "      <td>...</td>\n",
       "      <td>0.718530</td>\n",
       "      <td>0.616852</td>\n",
       "      <td>0.692761</td>\n",
       "      <td>0.646695</td>\n",
       "      <td>0.677245</td>\n",
       "      <td>0.699785</td>\n",
       "      <td>0.648607</td>\n",
       "      <td>0.616075</td>\n",
       "      <td>0.816841</td>\n",
       "      <td>Bom</td>\n",
       "    </tr>\n",
       "    <tr>\n",
       "      <th>7</th>\n",
       "      <td>72</td>\n",
       "      <td>0</td>\n",
       "      <td>N</td>\n",
       "      <td>4.834130</td>\n",
       "      <td>0.3</td>\n",
       "      <td>0</td>\n",
       "      <td>2.994083</td>\n",
       "      <td>0.5</td>\n",
       "      <td>0</td>\n",
       "      <td>4.804655</td>\n",
       "      <td>...</td>\n",
       "      <td>0.705489</td>\n",
       "      <td>0.662750</td>\n",
       "      <td>0.719276</td>\n",
       "      <td>0.619855</td>\n",
       "      <td>0.678977</td>\n",
       "      <td>0.763664</td>\n",
       "      <td>0.715188</td>\n",
       "      <td>0.672697</td>\n",
       "      <td>0.817781</td>\n",
       "      <td>Ruim</td>\n",
       "    </tr>\n",
       "    <tr>\n",
       "      <th>8</th>\n",
       "      <td>68</td>\n",
       "      <td>0</td>\n",
       "      <td>N</td>\n",
       "      <td>4.583227</td>\n",
       "      <td>0.5</td>\n",
       "      <td>0</td>\n",
       "      <td>3.766229</td>\n",
       "      <td>0.5</td>\n",
       "      <td>1</td>\n",
       "      <td>4.768499</td>\n",
       "      <td>...</td>\n",
       "      <td>0.763725</td>\n",
       "      <td>0.677878</td>\n",
       "      <td>0.737148</td>\n",
       "      <td>0.649325</td>\n",
       "      <td>0.666209</td>\n",
       "      <td>0.769503</td>\n",
       "      <td>0.754634</td>\n",
       "      <td>0.690733</td>\n",
       "      <td>0.818703</td>\n",
       "      <td>Bom</td>\n",
       "    </tr>\n",
       "    <tr>\n",
       "      <th>9</th>\n",
       "      <td>142</td>\n",
       "      <td>0</td>\n",
       "      <td>N</td>\n",
       "      <td>4.867134</td>\n",
       "      <td>0.3</td>\n",
       "      <td>0</td>\n",
       "      <td>3.122022</td>\n",
       "      <td>0.5</td>\n",
       "      <td>1</td>\n",
       "      <td>4.700549</td>\n",
       "      <td>...</td>\n",
       "      <td>0.741146</td>\n",
       "      <td>0.643844</td>\n",
       "      <td>0.690222</td>\n",
       "      <td>0.635208</td>\n",
       "      <td>0.619500</td>\n",
       "      <td>0.766466</td>\n",
       "      <td>0.694922</td>\n",
       "      <td>0.673925</td>\n",
       "      <td>0.822170</td>\n",
       "      <td>Bom</td>\n",
       "    </tr>\n",
       "    <tr>\n",
       "      <th>10</th>\n",
       "      <td>48</td>\n",
       "      <td>0</td>\n",
       "      <td>N</td>\n",
       "      <td>5.320103</td>\n",
       "      <td>0.5</td>\n",
       "      <td>0</td>\n",
       "      <td>2.779621</td>\n",
       "      <td>0.5</td>\n",
       "      <td>0</td>\n",
       "      <td>5.357514</td>\n",
       "      <td>...</td>\n",
       "      <td>0.753940</td>\n",
       "      <td>0.655293</td>\n",
       "      <td>0.721071</td>\n",
       "      <td>0.663534</td>\n",
       "      <td>0.649143</td>\n",
       "      <td>0.762069</td>\n",
       "      <td>0.662349</td>\n",
       "      <td>0.655148</td>\n",
       "      <td>0.826317</td>\n",
       "      <td>Bom</td>\n",
       "    </tr>\n",
       "    <tr>\n",
       "      <th>11</th>\n",
       "      <td>96</td>\n",
       "      <td>0</td>\n",
       "      <td>N</td>\n",
       "      <td>4.593392</td>\n",
       "      <td>0.5</td>\n",
       "      <td>0</td>\n",
       "      <td>3.241813</td>\n",
       "      <td>0.5</td>\n",
       "      <td>0</td>\n",
       "      <td>4.739491</td>\n",
       "      <td>...</td>\n",
       "      <td>0.755873</td>\n",
       "      <td>0.602638</td>\n",
       "      <td>0.708592</td>\n",
       "      <td>0.666241</td>\n",
       "      <td>0.640240</td>\n",
       "      <td>0.772720</td>\n",
       "      <td>0.707340</td>\n",
       "      <td>0.675449</td>\n",
       "      <td>0.812079</td>\n",
       "      <td>Bom</td>\n",
       "    </tr>\n",
       "  </tbody>\n",
       "</table>\n",
       "<p>10 rows × 75 columns</p>\n",
       "</div>"
      ],
      "text/plain": [
       "    feedbacks  reviews blacklist  mextraversion  cextraversion  sextraversion  \\\n",
       "2           0       49         N       4.181642            0.6              1   \n",
       "3           0       56         N       4.007042            0.6              0   \n",
       "4           0       50         N       4.538230            0.7              1   \n",
       "5          72        0         N       4.692854            0.3              0   \n",
       "6          76        0         N       4.966753            0.3              0   \n",
       "7          72        0         N       4.834130            0.3              0   \n",
       "8          68        0         N       4.583227            0.5              0   \n",
       "9         142        0         N       4.867134            0.3              0   \n",
       "10         48        0         N       5.320103            0.5              0   \n",
       "11         96        0         N       4.593392            0.5              0   \n",
       "\n",
       "    mneuroticism  cneuroticism  sneuroticism  mconscientiousness  ...  \\\n",
       "2       2.777591           0.6             0            4.085460  ...   \n",
       "3       2.698650           0.6             0            4.187338  ...   \n",
       "4       2.298492           0.5             1            5.085833  ...   \n",
       "5       2.987231           0.5             0            4.831320  ...   \n",
       "6       3.048730           0.5             0            4.725294  ...   \n",
       "7       2.994083           0.5             0            4.804655  ...   \n",
       "8       3.766229           0.5             1            4.768499  ...   \n",
       "9       3.122022           0.5             1            4.700549  ...   \n",
       "10      2.779621           0.5             0            5.357514  ...   \n",
       "11      3.241813           0.5             0            4.739491  ...   \n",
       "\n",
       "    need_practicaly  need_selfexpression  need_stability  need_structure  \\\n",
       "2          0.696359             0.698786        0.756963        0.660119   \n",
       "3          0.715300             0.664572        0.728806        0.660740   \n",
       "4          0.720150             0.694678        0.669652        0.627962   \n",
       "5          0.739793             0.637027        0.697221        0.638587   \n",
       "6          0.718530             0.616852        0.692761        0.646695   \n",
       "7          0.705489             0.662750        0.719276        0.619855   \n",
       "8          0.763725             0.677878        0.737148        0.649325   \n",
       "9          0.741146             0.643844        0.690222        0.635208   \n",
       "10         0.753940             0.655293        0.721071        0.663534   \n",
       "11         0.755873             0.602638        0.708592        0.666241   \n",
       "\n",
       "    value_conservation  value_openess  value_hedonism  value_selfenhancement  \\\n",
       "2             0.619416       0.746372        0.640073               0.598037   \n",
       "3             0.588969       0.735915        0.644465               0.603042   \n",
       "4             0.553523       0.766618        0.655470               0.645042   \n",
       "5             0.675289       0.752234        0.679661               0.674438   \n",
       "6             0.677245       0.699785        0.648607               0.616075   \n",
       "7             0.678977       0.763664        0.715188               0.672697   \n",
       "8             0.666209       0.769503        0.754634               0.690733   \n",
       "9             0.619500       0.766466        0.694922               0.673925   \n",
       "10            0.649143       0.762069        0.662349               0.655148   \n",
       "11            0.640240       0.772720        0.707340               0.675449   \n",
       "\n",
       "    value_selftranscendence  reputation  \n",
       "2                  0.828716         Bom  \n",
       "3                  0.809379         Bom  \n",
       "4                  0.826039         Bom  \n",
       "5                  0.813391         Bom  \n",
       "6                  0.816841         Bom  \n",
       "7                  0.817781        Ruim  \n",
       "8                  0.818703         Bom  \n",
       "9                  0.822170         Bom  \n",
       "10                 0.826317         Bom  \n",
       "11                 0.812079         Bom  \n",
       "\n",
       "[10 rows x 75 columns]"
      ]
     },
     "execution_count": 147,
     "metadata": {},
     "output_type": "execute_result"
    }
   ],
   "source": [
    "ebay_dataset.head(10)"
   ]
  },
  {
   "cell_type": "code",
   "execution_count": 148,
   "id": "4f240f19-63f5-4e83-91b9-19559913da5c",
   "metadata": {},
   "outputs": [
    {
     "name": "stdout",
     "output_type": "stream",
     "text": [
      "<class 'pandas.core.frame.DataFrame'>\n",
      "Int64Index: 5806 entries, 2 to 5807\n",
      "Data columns (total 75 columns):\n",
      " #   Column                   Non-Null Count  Dtype  \n",
      "---  ------                   --------------  -----  \n",
      " 0   feedbacks                5806 non-null   int64  \n",
      " 1   reviews                  5806 non-null   int64  \n",
      " 2   blacklist                5806 non-null   object \n",
      " 3   mextraversion            5806 non-null   float64\n",
      " 4   cextraversion            5806 non-null   float64\n",
      " 5   sextraversion            5806 non-null   int64  \n",
      " 6   mneuroticism             5806 non-null   float64\n",
      " 7   cneuroticism             5806 non-null   float64\n",
      " 8   sneuroticism             5806 non-null   int64  \n",
      " 9   mconscientiousness       5806 non-null   float64\n",
      " 10  cconscientiousness       5806 non-null   float64\n",
      " 11  sconscientiousness       5806 non-null   int64  \n",
      " 12  magreeableness           5806 non-null   float64\n",
      " 13  cagreeableness           5806 non-null   float64\n",
      " 14  sagreeableness           5806 non-null   int64  \n",
      " 15  mopenness                5806 non-null   float64\n",
      " 16  copenness                5806 non-null   float64\n",
      " 17  sopenness                5806 non-null   int64  \n",
      " 18  agreeablenessIndico      5806 non-null   float64\n",
      " 19  conscientiousnessIndico  5806 non-null   float64\n",
      " 20  extraversionIndico       5806 non-null   float64\n",
      " 21  opennessIndico           5806 non-null   float64\n",
      " 22  openessWatson            5806 non-null   float64\n",
      " 23  conscientiousnessWatson  5806 non-null   float64\n",
      " 24  extraversionWatson       5806 non-null   float64\n",
      " 25  agreeablenessWatson      5806 non-null   float64\n",
      " 26  neuroticismWatson        5806 non-null   float64\n",
      " 27  o_adventure              5806 non-null   float64\n",
      " 28  o_artistic               5806 non-null   float64\n",
      " 29  o_emotionality           5806 non-null   float64\n",
      " 30  o_imagination            5806 non-null   float64\n",
      " 31  o_intelect               5806 non-null   float64\n",
      " 32  o_liberalism             5806 non-null   float64\n",
      " 33  c_achievement            5806 non-null   float64\n",
      " 34  c_cautiouness            5806 non-null   float64\n",
      " 35  c_dutifulness            5806 non-null   float64\n",
      " 36  c_orderliness            5806 non-null   float64\n",
      " 37  c_discipline             5806 non-null   float64\n",
      " 38  c_efficacy               5806 non-null   float64\n",
      " 39  e_activity               5806 non-null   float64\n",
      " 40  e_assertiveness          5806 non-null   float64\n",
      " 41  e_cheerfulness           5806 non-null   float64\n",
      " 42  e_excitement             5806 non-null   float64\n",
      " 43  e_friend                 5806 non-null   float64\n",
      " 44  e_gregariouness          5806 non-null   float64\n",
      " 45  a_altruism               5806 non-null   float64\n",
      " 46  a_cooperation            5806 non-null   float64\n",
      " 47  a_modesty                5806 non-null   float64\n",
      " 48  a_morality               5806 non-null   float64\n",
      " 49  a_simpathy               5806 non-null   float64\n",
      " 50  a_trust                  5806 non-null   float64\n",
      " 51  n_anger                  5806 non-null   float64\n",
      " 52  n_anxiety                5806 non-null   float64\n",
      " 53  n_depression             5806 non-null   float64\n",
      " 54  n_immoderation           5806 non-null   float64\n",
      " 55  n_selfconsciouness       5806 non-null   float64\n",
      " 56  n_vulnerability          5806 non-null   float64\n",
      " 57  need_chalenge            5806 non-null   float64\n",
      " 58  need_closeness           5806 non-null   float64\n",
      " 59  need_curiosity           5806 non-null   float64\n",
      " 60  need_excitement          5806 non-null   float64\n",
      " 61  need_harmony             5806 non-null   float64\n",
      " 62  need_ideal               5806 non-null   float64\n",
      " 63  need_liberty             5806 non-null   float64\n",
      " 64  need_love                5806 non-null   float64\n",
      " 65  need_practicaly          5806 non-null   float64\n",
      " 66  need_selfexpression      5806 non-null   float64\n",
      " 67  need_stability           5806 non-null   float64\n",
      " 68  need_structure           5806 non-null   float64\n",
      " 69  value_conservation       5806 non-null   float64\n",
      " 70  value_openess            5806 non-null   float64\n",
      " 71  value_hedonism           5806 non-null   float64\n",
      " 72  value_selfenhancement    5806 non-null   float64\n",
      " 73  value_selftranscendence  5806 non-null   float64\n",
      " 74  reputation               5806 non-null   object \n",
      "dtypes: float64(66), int64(7), object(2)\n",
      "memory usage: 3.4+ MB\n"
     ]
    }
   ],
   "source": [
    "ebay_dataset.info()"
   ]
  },
  {
   "cell_type": "code",
   "execution_count": 149,
   "id": "b041e166-8196-400b-851e-3f91d0ede2f1",
   "metadata": {},
   "outputs": [
    {
     "data": {
      "text/html": [
       "<div>\n",
       "<style scoped>\n",
       "    .dataframe tbody tr th:only-of-type {\n",
       "        vertical-align: middle;\n",
       "    }\n",
       "\n",
       "    .dataframe tbody tr th {\n",
       "        vertical-align: top;\n",
       "    }\n",
       "\n",
       "    .dataframe thead th {\n",
       "        text-align: right;\n",
       "    }\n",
       "</style>\n",
       "<table border=\"1\" class=\"dataframe\">\n",
       "  <thead>\n",
       "    <tr style=\"text-align: right;\">\n",
       "      <th></th>\n",
       "      <th>feedbacks</th>\n",
       "      <th>reviews</th>\n",
       "      <th>mextraversion</th>\n",
       "      <th>cextraversion</th>\n",
       "      <th>sextraversion</th>\n",
       "      <th>mneuroticism</th>\n",
       "      <th>cneuroticism</th>\n",
       "      <th>sneuroticism</th>\n",
       "      <th>mconscientiousness</th>\n",
       "      <th>cconscientiousness</th>\n",
       "      <th>...</th>\n",
       "      <th>need_love</th>\n",
       "      <th>need_practicaly</th>\n",
       "      <th>need_selfexpression</th>\n",
       "      <th>need_stability</th>\n",
       "      <th>need_structure</th>\n",
       "      <th>value_conservation</th>\n",
       "      <th>value_openess</th>\n",
       "      <th>value_hedonism</th>\n",
       "      <th>value_selfenhancement</th>\n",
       "      <th>value_selftranscendence</th>\n",
       "    </tr>\n",
       "  </thead>\n",
       "  <tbody>\n",
       "    <tr>\n",
       "      <th>count</th>\n",
       "      <td>5806.000000</td>\n",
       "      <td>5806.000000</td>\n",
       "      <td>5806.000000</td>\n",
       "      <td>5806.000000</td>\n",
       "      <td>5806.000000</td>\n",
       "      <td>5806.000000</td>\n",
       "      <td>5806.000000</td>\n",
       "      <td>5806.000000</td>\n",
       "      <td>5806.000000</td>\n",
       "      <td>5806.000000</td>\n",
       "      <td>...</td>\n",
       "      <td>5806.000000</td>\n",
       "      <td>5806.000000</td>\n",
       "      <td>5806.000000</td>\n",
       "      <td>5806.000000</td>\n",
       "      <td>5806.000000</td>\n",
       "      <td>5806.000000</td>\n",
       "      <td>5806.000000</td>\n",
       "      <td>5806.000000</td>\n",
       "      <td>5806.000000</td>\n",
       "      <td>5806.000000</td>\n",
       "    </tr>\n",
       "    <tr>\n",
       "      <th>mean</th>\n",
       "      <td>65.047365</td>\n",
       "      <td>0.166896</td>\n",
       "      <td>4.786959</td>\n",
       "      <td>0.476266</td>\n",
       "      <td>0.042714</td>\n",
       "      <td>3.049298</td>\n",
       "      <td>0.466845</td>\n",
       "      <td>0.688942</td>\n",
       "      <td>4.772899</td>\n",
       "      <td>0.556545</td>\n",
       "      <td>...</td>\n",
       "      <td>0.741760</td>\n",
       "      <td>0.740528</td>\n",
       "      <td>0.639086</td>\n",
       "      <td>0.707427</td>\n",
       "      <td>0.645731</td>\n",
       "      <td>0.651150</td>\n",
       "      <td>0.757230</td>\n",
       "      <td>0.694574</td>\n",
       "      <td>0.669770</td>\n",
       "      <td>0.815883</td>\n",
       "    </tr>\n",
       "    <tr>\n",
       "      <th>std</th>\n",
       "      <td>28.755538</td>\n",
       "      <td>2.801725</td>\n",
       "      <td>0.347073</td>\n",
       "      <td>0.142604</td>\n",
       "      <td>0.202230</td>\n",
       "      <td>0.361792</td>\n",
       "      <td>0.077834</td>\n",
       "      <td>0.462966</td>\n",
       "      <td>0.380572</td>\n",
       "      <td>0.110192</td>\n",
       "      <td>...</td>\n",
       "      <td>0.030950</td>\n",
       "      <td>0.024205</td>\n",
       "      <td>0.029450</td>\n",
       "      <td>0.016710</td>\n",
       "      <td>0.023310</td>\n",
       "      <td>0.024852</td>\n",
       "      <td>0.019115</td>\n",
       "      <td>0.032888</td>\n",
       "      <td>0.024016</td>\n",
       "      <td>0.013363</td>\n",
       "    </tr>\n",
       "    <tr>\n",
       "      <th>min</th>\n",
       "      <td>0.000000</td>\n",
       "      <td>0.000000</td>\n",
       "      <td>1.399464</td>\n",
       "      <td>0.100000</td>\n",
       "      <td>0.000000</td>\n",
       "      <td>-1.403793</td>\n",
       "      <td>0.200000</td>\n",
       "      <td>0.000000</td>\n",
       "      <td>2.953039</td>\n",
       "      <td>0.300000</td>\n",
       "      <td>...</td>\n",
       "      <td>0.623295</td>\n",
       "      <td>0.640543</td>\n",
       "      <td>0.530665</td>\n",
       "      <td>0.642212</td>\n",
       "      <td>0.559316</td>\n",
       "      <td>0.522505</td>\n",
       "      <td>0.678664</td>\n",
       "      <td>0.531540</td>\n",
       "      <td>0.562217</td>\n",
       "      <td>0.730698</td>\n",
       "    </tr>\n",
       "    <tr>\n",
       "      <th>25%</th>\n",
       "      <td>49.000000</td>\n",
       "      <td>0.000000</td>\n",
       "      <td>4.591643</td>\n",
       "      <td>0.500000</td>\n",
       "      <td>0.000000</td>\n",
       "      <td>2.871910</td>\n",
       "      <td>0.500000</td>\n",
       "      <td>0.000000</td>\n",
       "      <td>4.552426</td>\n",
       "      <td>0.500000</td>\n",
       "      <td>...</td>\n",
       "      <td>0.722020</td>\n",
       "      <td>0.725207</td>\n",
       "      <td>0.619476</td>\n",
       "      <td>0.697073</td>\n",
       "      <td>0.630265</td>\n",
       "      <td>0.632813</td>\n",
       "      <td>0.745268</td>\n",
       "      <td>0.674089</td>\n",
       "      <td>0.654921</td>\n",
       "      <td>0.807388</td>\n",
       "    </tr>\n",
       "    <tr>\n",
       "      <th>50%</th>\n",
       "      <td>57.000000</td>\n",
       "      <td>0.000000</td>\n",
       "      <td>4.777159</td>\n",
       "      <td>0.500000</td>\n",
       "      <td>0.000000</td>\n",
       "      <td>3.086165</td>\n",
       "      <td>0.500000</td>\n",
       "      <td>1.000000</td>\n",
       "      <td>4.757340</td>\n",
       "      <td>0.500000</td>\n",
       "      <td>...</td>\n",
       "      <td>0.743327</td>\n",
       "      <td>0.742432</td>\n",
       "      <td>0.637409</td>\n",
       "      <td>0.707229</td>\n",
       "      <td>0.645992</td>\n",
       "      <td>0.649887</td>\n",
       "      <td>0.758688</td>\n",
       "      <td>0.694888</td>\n",
       "      <td>0.672333</td>\n",
       "      <td>0.815776</td>\n",
       "    </tr>\n",
       "    <tr>\n",
       "      <th>75%</th>\n",
       "      <td>83.000000</td>\n",
       "      <td>0.000000</td>\n",
       "      <td>4.969744</td>\n",
       "      <td>0.500000</td>\n",
       "      <td>0.000000</td>\n",
       "      <td>3.260629</td>\n",
       "      <td>0.500000</td>\n",
       "      <td>1.000000</td>\n",
       "      <td>4.982377</td>\n",
       "      <td>0.700000</td>\n",
       "      <td>...</td>\n",
       "      <td>0.762141</td>\n",
       "      <td>0.757603</td>\n",
       "      <td>0.657495</td>\n",
       "      <td>0.717282</td>\n",
       "      <td>0.661789</td>\n",
       "      <td>0.668890</td>\n",
       "      <td>0.770028</td>\n",
       "      <td>0.715616</td>\n",
       "      <td>0.686001</td>\n",
       "      <td>0.823872</td>\n",
       "    </tr>\n",
       "    <tr>\n",
       "      <th>max</th>\n",
       "      <td>290.000000</td>\n",
       "      <td>56.000000</td>\n",
       "      <td>7.119144</td>\n",
       "      <td>0.900000</td>\n",
       "      <td>1.000000</td>\n",
       "      <td>5.515797</td>\n",
       "      <td>0.900000</td>\n",
       "      <td>1.000000</td>\n",
       "      <td>7.867835</td>\n",
       "      <td>0.900000</td>\n",
       "      <td>...</td>\n",
       "      <td>0.858957</td>\n",
       "      <td>0.827216</td>\n",
       "      <td>0.759828</td>\n",
       "      <td>0.781361</td>\n",
       "      <td>0.747781</td>\n",
       "      <td>0.769267</td>\n",
       "      <td>0.863673</td>\n",
       "      <td>0.818997</td>\n",
       "      <td>0.780665</td>\n",
       "      <td>0.884518</td>\n",
       "    </tr>\n",
       "  </tbody>\n",
       "</table>\n",
       "<p>8 rows × 73 columns</p>\n",
       "</div>"
      ],
      "text/plain": [
       "         feedbacks      reviews  mextraversion  cextraversion  sextraversion  \\\n",
       "count  5806.000000  5806.000000    5806.000000    5806.000000    5806.000000   \n",
       "mean     65.047365     0.166896       4.786959       0.476266       0.042714   \n",
       "std      28.755538     2.801725       0.347073       0.142604       0.202230   \n",
       "min       0.000000     0.000000       1.399464       0.100000       0.000000   \n",
       "25%      49.000000     0.000000       4.591643       0.500000       0.000000   \n",
       "50%      57.000000     0.000000       4.777159       0.500000       0.000000   \n",
       "75%      83.000000     0.000000       4.969744       0.500000       0.000000   \n",
       "max     290.000000    56.000000       7.119144       0.900000       1.000000   \n",
       "\n",
       "       mneuroticism  cneuroticism  sneuroticism  mconscientiousness  \\\n",
       "count   5806.000000   5806.000000   5806.000000         5806.000000   \n",
       "mean       3.049298      0.466845      0.688942            4.772899   \n",
       "std        0.361792      0.077834      0.462966            0.380572   \n",
       "min       -1.403793      0.200000      0.000000            2.953039   \n",
       "25%        2.871910      0.500000      0.000000            4.552426   \n",
       "50%        3.086165      0.500000      1.000000            4.757340   \n",
       "75%        3.260629      0.500000      1.000000            4.982377   \n",
       "max        5.515797      0.900000      1.000000            7.867835   \n",
       "\n",
       "       cconscientiousness  ...    need_love  need_practicaly  \\\n",
       "count         5806.000000  ...  5806.000000      5806.000000   \n",
       "mean             0.556545  ...     0.741760         0.740528   \n",
       "std              0.110192  ...     0.030950         0.024205   \n",
       "min              0.300000  ...     0.623295         0.640543   \n",
       "25%              0.500000  ...     0.722020         0.725207   \n",
       "50%              0.500000  ...     0.743327         0.742432   \n",
       "75%              0.700000  ...     0.762141         0.757603   \n",
       "max              0.900000  ...     0.858957         0.827216   \n",
       "\n",
       "       need_selfexpression  need_stability  need_structure  \\\n",
       "count          5806.000000     5806.000000     5806.000000   \n",
       "mean              0.639086        0.707427        0.645731   \n",
       "std               0.029450        0.016710        0.023310   \n",
       "min               0.530665        0.642212        0.559316   \n",
       "25%               0.619476        0.697073        0.630265   \n",
       "50%               0.637409        0.707229        0.645992   \n",
       "75%               0.657495        0.717282        0.661789   \n",
       "max               0.759828        0.781361        0.747781   \n",
       "\n",
       "       value_conservation  value_openess  value_hedonism  \\\n",
       "count         5806.000000    5806.000000     5806.000000   \n",
       "mean             0.651150       0.757230        0.694574   \n",
       "std              0.024852       0.019115        0.032888   \n",
       "min              0.522505       0.678664        0.531540   \n",
       "25%              0.632813       0.745268        0.674089   \n",
       "50%              0.649887       0.758688        0.694888   \n",
       "75%              0.668890       0.770028        0.715616   \n",
       "max              0.769267       0.863673        0.818997   \n",
       "\n",
       "       value_selfenhancement  value_selftranscendence  \n",
       "count            5806.000000              5806.000000  \n",
       "mean                0.669770                 0.815883  \n",
       "std                 0.024016                 0.013363  \n",
       "min                 0.562217                 0.730698  \n",
       "25%                 0.654921                 0.807388  \n",
       "50%                 0.672333                 0.815776  \n",
       "75%                 0.686001                 0.823872  \n",
       "max                 0.780665                 0.884518  \n",
       "\n",
       "[8 rows x 73 columns]"
      ]
     },
     "execution_count": 149,
     "metadata": {},
     "output_type": "execute_result"
    }
   ],
   "source": [
    "ebay_dataset.describe()"
   ]
  },
  {
   "cell_type": "code",
   "execution_count": 150,
   "id": "ee80d382-adc8-4762-a45a-7b03fc5780e2",
   "metadata": {},
   "outputs": [
    {
     "data": {
      "text/plain": [
       "(5806, 75)"
      ]
     },
     "execution_count": 150,
     "metadata": {},
     "output_type": "execute_result"
    }
   ],
   "source": [
    "ebay_dataset.shape"
   ]
  },
  {
   "cell_type": "markdown",
   "id": "d9df917b-05e2-4e81-bb8a-8ae877d91431",
   "metadata": {
    "tags": []
   },
   "source": [
    "### Label_Encoding\n",
    "\n",
    "Coluna Blacklist e Reputation estão como atributos categóricos, como é binário ao invés de usar one_hot_encoder usei diretamente o label_encoding, método da classe preprocessing\n",
    "cada categoria precisa do seu próprio encoder"
   ]
  },
  {
   "cell_type": "code",
   "execution_count": 151,
   "id": "2a348504-8881-4d69-9ff0-ee031fca0483",
   "metadata": {},
   "outputs": [],
   "source": [
    "from sklearn.ensemble import RandomForestClassifier\n",
    "from sklearn import preprocessing"
   ]
  },
  {
   "cell_type": "code",
   "execution_count": 152,
   "id": "317f7eb6-8566-4929-b5cd-e35763af7e98",
   "metadata": {},
   "outputs": [
    {
     "data": {
      "text/plain": [
       "array(['Bom', 'Ruim'], dtype='<U4')"
      ]
     },
     "execution_count": 152,
     "metadata": {},
     "output_type": "execute_result"
    }
   ],
   "source": [
    "le=preprocessing.LabelEncoder()\n",
    "le2=preprocessing.LabelEncoder()\n",
    "le.fit(['Ruim','Bom'])\n",
    "le2.fit(['B','N'])\n",
    "le.classes_\n"
   ]
  },
  {
   "cell_type": "code",
   "execution_count": 153,
   "id": "eb1d4a95-02e4-447f-8ab0-50a1c15404e9",
   "metadata": {},
   "outputs": [
    {
     "data": {
      "text/plain": [
       "array([0, 0, 0, 1])"
      ]
     },
     "execution_count": 153,
     "metadata": {},
     "output_type": "execute_result"
    }
   ],
   "source": [
    "le.transform(['Bom','Bom','Bom','Ruim']) # Exemplo array de entrada que é transformado"
   ]
  },
  {
   "cell_type": "code",
   "execution_count": 154,
   "id": "3272f8b8-45e1-4e05-9a63-f307867f23ab",
   "metadata": {},
   "outputs": [
    {
     "data": {
      "text/html": [
       "<div>\n",
       "<style scoped>\n",
       "    .dataframe tbody tr th:only-of-type {\n",
       "        vertical-align: middle;\n",
       "    }\n",
       "\n",
       "    .dataframe tbody tr th {\n",
       "        vertical-align: top;\n",
       "    }\n",
       "\n",
       "    .dataframe thead th {\n",
       "        text-align: right;\n",
       "    }\n",
       "</style>\n",
       "<table border=\"1\" class=\"dataframe\">\n",
       "  <thead>\n",
       "    <tr style=\"text-align: right;\">\n",
       "      <th></th>\n",
       "      <th>feedbacks</th>\n",
       "      <th>reviews</th>\n",
       "      <th>blacklist</th>\n",
       "      <th>mextraversion</th>\n",
       "      <th>cextraversion</th>\n",
       "      <th>sextraversion</th>\n",
       "      <th>mneuroticism</th>\n",
       "      <th>cneuroticism</th>\n",
       "      <th>sneuroticism</th>\n",
       "      <th>mconscientiousness</th>\n",
       "      <th>...</th>\n",
       "      <th>need_practicaly</th>\n",
       "      <th>need_selfexpression</th>\n",
       "      <th>need_stability</th>\n",
       "      <th>need_structure</th>\n",
       "      <th>value_conservation</th>\n",
       "      <th>value_openess</th>\n",
       "      <th>value_hedonism</th>\n",
       "      <th>value_selfenhancement</th>\n",
       "      <th>value_selftranscendence</th>\n",
       "      <th>reputation</th>\n",
       "    </tr>\n",
       "  </thead>\n",
       "  <tbody>\n",
       "    <tr>\n",
       "      <th>2</th>\n",
       "      <td>0</td>\n",
       "      <td>49</td>\n",
       "      <td>N</td>\n",
       "      <td>4.181642</td>\n",
       "      <td>0.6</td>\n",
       "      <td>1</td>\n",
       "      <td>2.777591</td>\n",
       "      <td>0.6</td>\n",
       "      <td>0</td>\n",
       "      <td>4.085460</td>\n",
       "      <td>...</td>\n",
       "      <td>0.696359</td>\n",
       "      <td>0.698786</td>\n",
       "      <td>0.756963</td>\n",
       "      <td>0.660119</td>\n",
       "      <td>0.619416</td>\n",
       "      <td>0.746372</td>\n",
       "      <td>0.640073</td>\n",
       "      <td>0.598037</td>\n",
       "      <td>0.828716</td>\n",
       "      <td>Bom</td>\n",
       "    </tr>\n",
       "    <tr>\n",
       "      <th>3</th>\n",
       "      <td>0</td>\n",
       "      <td>56</td>\n",
       "      <td>N</td>\n",
       "      <td>4.007042</td>\n",
       "      <td>0.6</td>\n",
       "      <td>0</td>\n",
       "      <td>2.698650</td>\n",
       "      <td>0.6</td>\n",
       "      <td>0</td>\n",
       "      <td>4.187338</td>\n",
       "      <td>...</td>\n",
       "      <td>0.715300</td>\n",
       "      <td>0.664572</td>\n",
       "      <td>0.728806</td>\n",
       "      <td>0.660740</td>\n",
       "      <td>0.588969</td>\n",
       "      <td>0.735915</td>\n",
       "      <td>0.644465</td>\n",
       "      <td>0.603042</td>\n",
       "      <td>0.809379</td>\n",
       "      <td>Bom</td>\n",
       "    </tr>\n",
       "    <tr>\n",
       "      <th>4</th>\n",
       "      <td>0</td>\n",
       "      <td>50</td>\n",
       "      <td>N</td>\n",
       "      <td>4.538230</td>\n",
       "      <td>0.7</td>\n",
       "      <td>1</td>\n",
       "      <td>2.298492</td>\n",
       "      <td>0.5</td>\n",
       "      <td>1</td>\n",
       "      <td>5.085833</td>\n",
       "      <td>...</td>\n",
       "      <td>0.720150</td>\n",
       "      <td>0.694678</td>\n",
       "      <td>0.669652</td>\n",
       "      <td>0.627962</td>\n",
       "      <td>0.553523</td>\n",
       "      <td>0.766618</td>\n",
       "      <td>0.655470</td>\n",
       "      <td>0.645042</td>\n",
       "      <td>0.826039</td>\n",
       "      <td>Bom</td>\n",
       "    </tr>\n",
       "    <tr>\n",
       "      <th>5</th>\n",
       "      <td>72</td>\n",
       "      <td>0</td>\n",
       "      <td>N</td>\n",
       "      <td>4.692854</td>\n",
       "      <td>0.3</td>\n",
       "      <td>0</td>\n",
       "      <td>2.987231</td>\n",
       "      <td>0.5</td>\n",
       "      <td>0</td>\n",
       "      <td>4.831320</td>\n",
       "      <td>...</td>\n",
       "      <td>0.739793</td>\n",
       "      <td>0.637027</td>\n",
       "      <td>0.697221</td>\n",
       "      <td>0.638587</td>\n",
       "      <td>0.675289</td>\n",
       "      <td>0.752234</td>\n",
       "      <td>0.679661</td>\n",
       "      <td>0.674438</td>\n",
       "      <td>0.813391</td>\n",
       "      <td>Bom</td>\n",
       "    </tr>\n",
       "    <tr>\n",
       "      <th>6</th>\n",
       "      <td>76</td>\n",
       "      <td>0</td>\n",
       "      <td>N</td>\n",
       "      <td>4.966753</td>\n",
       "      <td>0.3</td>\n",
       "      <td>0</td>\n",
       "      <td>3.048730</td>\n",
       "      <td>0.5</td>\n",
       "      <td>0</td>\n",
       "      <td>4.725294</td>\n",
       "      <td>...</td>\n",
       "      <td>0.718530</td>\n",
       "      <td>0.616852</td>\n",
       "      <td>0.692761</td>\n",
       "      <td>0.646695</td>\n",
       "      <td>0.677245</td>\n",
       "      <td>0.699785</td>\n",
       "      <td>0.648607</td>\n",
       "      <td>0.616075</td>\n",
       "      <td>0.816841</td>\n",
       "      <td>Bom</td>\n",
       "    </tr>\n",
       "  </tbody>\n",
       "</table>\n",
       "<p>5 rows × 75 columns</p>\n",
       "</div>"
      ],
      "text/plain": [
       "   feedbacks  reviews blacklist  mextraversion  cextraversion  sextraversion  \\\n",
       "2          0       49         N       4.181642            0.6              1   \n",
       "3          0       56         N       4.007042            0.6              0   \n",
       "4          0       50         N       4.538230            0.7              1   \n",
       "5         72        0         N       4.692854            0.3              0   \n",
       "6         76        0         N       4.966753            0.3              0   \n",
       "\n",
       "   mneuroticism  cneuroticism  sneuroticism  mconscientiousness  ...  \\\n",
       "2      2.777591           0.6             0            4.085460  ...   \n",
       "3      2.698650           0.6             0            4.187338  ...   \n",
       "4      2.298492           0.5             1            5.085833  ...   \n",
       "5      2.987231           0.5             0            4.831320  ...   \n",
       "6      3.048730           0.5             0            4.725294  ...   \n",
       "\n",
       "   need_practicaly  need_selfexpression  need_stability  need_structure  \\\n",
       "2         0.696359             0.698786        0.756963        0.660119   \n",
       "3         0.715300             0.664572        0.728806        0.660740   \n",
       "4         0.720150             0.694678        0.669652        0.627962   \n",
       "5         0.739793             0.637027        0.697221        0.638587   \n",
       "6         0.718530             0.616852        0.692761        0.646695   \n",
       "\n",
       "   value_conservation  value_openess  value_hedonism  value_selfenhancement  \\\n",
       "2            0.619416       0.746372        0.640073               0.598037   \n",
       "3            0.588969       0.735915        0.644465               0.603042   \n",
       "4            0.553523       0.766618        0.655470               0.645042   \n",
       "5            0.675289       0.752234        0.679661               0.674438   \n",
       "6            0.677245       0.699785        0.648607               0.616075   \n",
       "\n",
       "   value_selftranscendence  reputation  \n",
       "2                 0.828716         Bom  \n",
       "3                 0.809379         Bom  \n",
       "4                 0.826039         Bom  \n",
       "5                 0.813391         Bom  \n",
       "6                 0.816841         Bom  \n",
       "\n",
       "[5 rows x 75 columns]"
      ]
     },
     "execution_count": 154,
     "metadata": {},
     "output_type": "execute_result"
    }
   ],
   "source": [
    "ebay_dataset.head(5)"
   ]
  },
  {
   "cell_type": "code",
   "execution_count": 155,
   "id": "4ecf6706-4276-4ce0-a80e-f9b0fdcaa735",
   "metadata": {},
   "outputs": [
    {
     "data": {
      "text/html": [
       "<div>\n",
       "<style scoped>\n",
       "    .dataframe tbody tr th:only-of-type {\n",
       "        vertical-align: middle;\n",
       "    }\n",
       "\n",
       "    .dataframe tbody tr th {\n",
       "        vertical-align: top;\n",
       "    }\n",
       "\n",
       "    .dataframe thead th {\n",
       "        text-align: right;\n",
       "    }\n",
       "</style>\n",
       "<table border=\"1\" class=\"dataframe\">\n",
       "  <thead>\n",
       "    <tr style=\"text-align: right;\">\n",
       "      <th></th>\n",
       "      <th>feedbacks</th>\n",
       "      <th>reviews</th>\n",
       "      <th>blacklist</th>\n",
       "      <th>mextraversion</th>\n",
       "      <th>cextraversion</th>\n",
       "      <th>sextraversion</th>\n",
       "      <th>mneuroticism</th>\n",
       "      <th>cneuroticism</th>\n",
       "      <th>sneuroticism</th>\n",
       "      <th>mconscientiousness</th>\n",
       "      <th>...</th>\n",
       "      <th>need_practicaly</th>\n",
       "      <th>need_selfexpression</th>\n",
       "      <th>need_stability</th>\n",
       "      <th>need_structure</th>\n",
       "      <th>value_conservation</th>\n",
       "      <th>value_openess</th>\n",
       "      <th>value_hedonism</th>\n",
       "      <th>value_selfenhancement</th>\n",
       "      <th>value_selftranscendence</th>\n",
       "      <th>reputation</th>\n",
       "    </tr>\n",
       "  </thead>\n",
       "  <tbody>\n",
       "    <tr>\n",
       "      <th>2</th>\n",
       "      <td>0</td>\n",
       "      <td>49</td>\n",
       "      <td>1</td>\n",
       "      <td>4.181642</td>\n",
       "      <td>0.6</td>\n",
       "      <td>1</td>\n",
       "      <td>2.777591</td>\n",
       "      <td>0.6</td>\n",
       "      <td>0</td>\n",
       "      <td>4.085460</td>\n",
       "      <td>...</td>\n",
       "      <td>0.696359</td>\n",
       "      <td>0.698786</td>\n",
       "      <td>0.756963</td>\n",
       "      <td>0.660119</td>\n",
       "      <td>0.619416</td>\n",
       "      <td>0.746372</td>\n",
       "      <td>0.640073</td>\n",
       "      <td>0.598037</td>\n",
       "      <td>0.828716</td>\n",
       "      <td>Bom</td>\n",
       "    </tr>\n",
       "    <tr>\n",
       "      <th>3</th>\n",
       "      <td>0</td>\n",
       "      <td>56</td>\n",
       "      <td>1</td>\n",
       "      <td>4.007042</td>\n",
       "      <td>0.6</td>\n",
       "      <td>0</td>\n",
       "      <td>2.698650</td>\n",
       "      <td>0.6</td>\n",
       "      <td>0</td>\n",
       "      <td>4.187338</td>\n",
       "      <td>...</td>\n",
       "      <td>0.715300</td>\n",
       "      <td>0.664572</td>\n",
       "      <td>0.728806</td>\n",
       "      <td>0.660740</td>\n",
       "      <td>0.588969</td>\n",
       "      <td>0.735915</td>\n",
       "      <td>0.644465</td>\n",
       "      <td>0.603042</td>\n",
       "      <td>0.809379</td>\n",
       "      <td>Bom</td>\n",
       "    </tr>\n",
       "    <tr>\n",
       "      <th>4</th>\n",
       "      <td>0</td>\n",
       "      <td>50</td>\n",
       "      <td>1</td>\n",
       "      <td>4.538230</td>\n",
       "      <td>0.7</td>\n",
       "      <td>1</td>\n",
       "      <td>2.298492</td>\n",
       "      <td>0.5</td>\n",
       "      <td>1</td>\n",
       "      <td>5.085833</td>\n",
       "      <td>...</td>\n",
       "      <td>0.720150</td>\n",
       "      <td>0.694678</td>\n",
       "      <td>0.669652</td>\n",
       "      <td>0.627962</td>\n",
       "      <td>0.553523</td>\n",
       "      <td>0.766618</td>\n",
       "      <td>0.655470</td>\n",
       "      <td>0.645042</td>\n",
       "      <td>0.826039</td>\n",
       "      <td>Bom</td>\n",
       "    </tr>\n",
       "    <tr>\n",
       "      <th>5</th>\n",
       "      <td>72</td>\n",
       "      <td>0</td>\n",
       "      <td>1</td>\n",
       "      <td>4.692854</td>\n",
       "      <td>0.3</td>\n",
       "      <td>0</td>\n",
       "      <td>2.987231</td>\n",
       "      <td>0.5</td>\n",
       "      <td>0</td>\n",
       "      <td>4.831320</td>\n",
       "      <td>...</td>\n",
       "      <td>0.739793</td>\n",
       "      <td>0.637027</td>\n",
       "      <td>0.697221</td>\n",
       "      <td>0.638587</td>\n",
       "      <td>0.675289</td>\n",
       "      <td>0.752234</td>\n",
       "      <td>0.679661</td>\n",
       "      <td>0.674438</td>\n",
       "      <td>0.813391</td>\n",
       "      <td>Bom</td>\n",
       "    </tr>\n",
       "    <tr>\n",
       "      <th>6</th>\n",
       "      <td>76</td>\n",
       "      <td>0</td>\n",
       "      <td>1</td>\n",
       "      <td>4.966753</td>\n",
       "      <td>0.3</td>\n",
       "      <td>0</td>\n",
       "      <td>3.048730</td>\n",
       "      <td>0.5</td>\n",
       "      <td>0</td>\n",
       "      <td>4.725294</td>\n",
       "      <td>...</td>\n",
       "      <td>0.718530</td>\n",
       "      <td>0.616852</td>\n",
       "      <td>0.692761</td>\n",
       "      <td>0.646695</td>\n",
       "      <td>0.677245</td>\n",
       "      <td>0.699785</td>\n",
       "      <td>0.648607</td>\n",
       "      <td>0.616075</td>\n",
       "      <td>0.816841</td>\n",
       "      <td>Bom</td>\n",
       "    </tr>\n",
       "  </tbody>\n",
       "</table>\n",
       "<p>5 rows × 75 columns</p>\n",
       "</div>"
      ],
      "text/plain": [
       "   feedbacks  reviews  blacklist  mextraversion  cextraversion  sextraversion  \\\n",
       "2          0       49          1       4.181642            0.6              1   \n",
       "3          0       56          1       4.007042            0.6              0   \n",
       "4          0       50          1       4.538230            0.7              1   \n",
       "5         72        0          1       4.692854            0.3              0   \n",
       "6         76        0          1       4.966753            0.3              0   \n",
       "\n",
       "   mneuroticism  cneuroticism  sneuroticism  mconscientiousness  ...  \\\n",
       "2      2.777591           0.6             0            4.085460  ...   \n",
       "3      2.698650           0.6             0            4.187338  ...   \n",
       "4      2.298492           0.5             1            5.085833  ...   \n",
       "5      2.987231           0.5             0            4.831320  ...   \n",
       "6      3.048730           0.5             0            4.725294  ...   \n",
       "\n",
       "   need_practicaly  need_selfexpression  need_stability  need_structure  \\\n",
       "2         0.696359             0.698786        0.756963        0.660119   \n",
       "3         0.715300             0.664572        0.728806        0.660740   \n",
       "4         0.720150             0.694678        0.669652        0.627962   \n",
       "5         0.739793             0.637027        0.697221        0.638587   \n",
       "6         0.718530             0.616852        0.692761        0.646695   \n",
       "\n",
       "   value_conservation  value_openess  value_hedonism  value_selfenhancement  \\\n",
       "2            0.619416       0.746372        0.640073               0.598037   \n",
       "3            0.588969       0.735915        0.644465               0.603042   \n",
       "4            0.553523       0.766618        0.655470               0.645042   \n",
       "5            0.675289       0.752234        0.679661               0.674438   \n",
       "6            0.677245       0.699785        0.648607               0.616075   \n",
       "\n",
       "   value_selftranscendence  reputation  \n",
       "2                 0.828716         Bom  \n",
       "3                 0.809379         Bom  \n",
       "4                 0.826039         Bom  \n",
       "5                 0.813391         Bom  \n",
       "6                 0.816841         Bom  \n",
       "\n",
       "[5 rows x 75 columns]"
      ]
     },
     "execution_count": 155,
     "metadata": {},
     "output_type": "execute_result"
    }
   ],
   "source": [
    "ebay_dataset.loc[:,'blacklist']=le2.transform(ebay_dataset.loc[:,'blacklist'].values) #localiza blacklist e troca pela encoder correspondente convertido em numpy via \"values\"\n",
    "ebay_dataset.head(5)"
   ]
  },
  {
   "cell_type": "code",
   "execution_count": 156,
   "id": "6104225b-15d0-41c5-a118-5c7a0cc6a771",
   "metadata": {},
   "outputs": [
    {
     "data": {
      "text/html": [
       "<div>\n",
       "<style scoped>\n",
       "    .dataframe tbody tr th:only-of-type {\n",
       "        vertical-align: middle;\n",
       "    }\n",
       "\n",
       "    .dataframe tbody tr th {\n",
       "        vertical-align: top;\n",
       "    }\n",
       "\n",
       "    .dataframe thead th {\n",
       "        text-align: right;\n",
       "    }\n",
       "</style>\n",
       "<table border=\"1\" class=\"dataframe\">\n",
       "  <thead>\n",
       "    <tr style=\"text-align: right;\">\n",
       "      <th></th>\n",
       "      <th>feedbacks</th>\n",
       "      <th>reviews</th>\n",
       "      <th>blacklist</th>\n",
       "      <th>mextraversion</th>\n",
       "      <th>cextraversion</th>\n",
       "      <th>sextraversion</th>\n",
       "      <th>mneuroticism</th>\n",
       "      <th>cneuroticism</th>\n",
       "      <th>sneuroticism</th>\n",
       "      <th>mconscientiousness</th>\n",
       "      <th>...</th>\n",
       "      <th>need_practicaly</th>\n",
       "      <th>need_selfexpression</th>\n",
       "      <th>need_stability</th>\n",
       "      <th>need_structure</th>\n",
       "      <th>value_conservation</th>\n",
       "      <th>value_openess</th>\n",
       "      <th>value_hedonism</th>\n",
       "      <th>value_selfenhancement</th>\n",
       "      <th>value_selftranscendence</th>\n",
       "      <th>reputation</th>\n",
       "    </tr>\n",
       "  </thead>\n",
       "  <tbody>\n",
       "    <tr>\n",
       "      <th>2</th>\n",
       "      <td>0</td>\n",
       "      <td>49</td>\n",
       "      <td>1</td>\n",
       "      <td>4.181642</td>\n",
       "      <td>0.6</td>\n",
       "      <td>1</td>\n",
       "      <td>2.777591</td>\n",
       "      <td>0.6</td>\n",
       "      <td>0</td>\n",
       "      <td>4.085460</td>\n",
       "      <td>...</td>\n",
       "      <td>0.696359</td>\n",
       "      <td>0.698786</td>\n",
       "      <td>0.756963</td>\n",
       "      <td>0.660119</td>\n",
       "      <td>0.619416</td>\n",
       "      <td>0.746372</td>\n",
       "      <td>0.640073</td>\n",
       "      <td>0.598037</td>\n",
       "      <td>0.828716</td>\n",
       "      <td>0</td>\n",
       "    </tr>\n",
       "    <tr>\n",
       "      <th>3</th>\n",
       "      <td>0</td>\n",
       "      <td>56</td>\n",
       "      <td>1</td>\n",
       "      <td>4.007042</td>\n",
       "      <td>0.6</td>\n",
       "      <td>0</td>\n",
       "      <td>2.698650</td>\n",
       "      <td>0.6</td>\n",
       "      <td>0</td>\n",
       "      <td>4.187338</td>\n",
       "      <td>...</td>\n",
       "      <td>0.715300</td>\n",
       "      <td>0.664572</td>\n",
       "      <td>0.728806</td>\n",
       "      <td>0.660740</td>\n",
       "      <td>0.588969</td>\n",
       "      <td>0.735915</td>\n",
       "      <td>0.644465</td>\n",
       "      <td>0.603042</td>\n",
       "      <td>0.809379</td>\n",
       "      <td>0</td>\n",
       "    </tr>\n",
       "    <tr>\n",
       "      <th>4</th>\n",
       "      <td>0</td>\n",
       "      <td>50</td>\n",
       "      <td>1</td>\n",
       "      <td>4.538230</td>\n",
       "      <td>0.7</td>\n",
       "      <td>1</td>\n",
       "      <td>2.298492</td>\n",
       "      <td>0.5</td>\n",
       "      <td>1</td>\n",
       "      <td>5.085833</td>\n",
       "      <td>...</td>\n",
       "      <td>0.720150</td>\n",
       "      <td>0.694678</td>\n",
       "      <td>0.669652</td>\n",
       "      <td>0.627962</td>\n",
       "      <td>0.553523</td>\n",
       "      <td>0.766618</td>\n",
       "      <td>0.655470</td>\n",
       "      <td>0.645042</td>\n",
       "      <td>0.826039</td>\n",
       "      <td>0</td>\n",
       "    </tr>\n",
       "    <tr>\n",
       "      <th>5</th>\n",
       "      <td>72</td>\n",
       "      <td>0</td>\n",
       "      <td>1</td>\n",
       "      <td>4.692854</td>\n",
       "      <td>0.3</td>\n",
       "      <td>0</td>\n",
       "      <td>2.987231</td>\n",
       "      <td>0.5</td>\n",
       "      <td>0</td>\n",
       "      <td>4.831320</td>\n",
       "      <td>...</td>\n",
       "      <td>0.739793</td>\n",
       "      <td>0.637027</td>\n",
       "      <td>0.697221</td>\n",
       "      <td>0.638587</td>\n",
       "      <td>0.675289</td>\n",
       "      <td>0.752234</td>\n",
       "      <td>0.679661</td>\n",
       "      <td>0.674438</td>\n",
       "      <td>0.813391</td>\n",
       "      <td>0</td>\n",
       "    </tr>\n",
       "    <tr>\n",
       "      <th>6</th>\n",
       "      <td>76</td>\n",
       "      <td>0</td>\n",
       "      <td>1</td>\n",
       "      <td>4.966753</td>\n",
       "      <td>0.3</td>\n",
       "      <td>0</td>\n",
       "      <td>3.048730</td>\n",
       "      <td>0.5</td>\n",
       "      <td>0</td>\n",
       "      <td>4.725294</td>\n",
       "      <td>...</td>\n",
       "      <td>0.718530</td>\n",
       "      <td>0.616852</td>\n",
       "      <td>0.692761</td>\n",
       "      <td>0.646695</td>\n",
       "      <td>0.677245</td>\n",
       "      <td>0.699785</td>\n",
       "      <td>0.648607</td>\n",
       "      <td>0.616075</td>\n",
       "      <td>0.816841</td>\n",
       "      <td>0</td>\n",
       "    </tr>\n",
       "  </tbody>\n",
       "</table>\n",
       "<p>5 rows × 75 columns</p>\n",
       "</div>"
      ],
      "text/plain": [
       "   feedbacks  reviews  blacklist  mextraversion  cextraversion  sextraversion  \\\n",
       "2          0       49          1       4.181642            0.6              1   \n",
       "3          0       56          1       4.007042            0.6              0   \n",
       "4          0       50          1       4.538230            0.7              1   \n",
       "5         72        0          1       4.692854            0.3              0   \n",
       "6         76        0          1       4.966753            0.3              0   \n",
       "\n",
       "   mneuroticism  cneuroticism  sneuroticism  mconscientiousness  ...  \\\n",
       "2      2.777591           0.6             0            4.085460  ...   \n",
       "3      2.698650           0.6             0            4.187338  ...   \n",
       "4      2.298492           0.5             1            5.085833  ...   \n",
       "5      2.987231           0.5             0            4.831320  ...   \n",
       "6      3.048730           0.5             0            4.725294  ...   \n",
       "\n",
       "   need_practicaly  need_selfexpression  need_stability  need_structure  \\\n",
       "2         0.696359             0.698786        0.756963        0.660119   \n",
       "3         0.715300             0.664572        0.728806        0.660740   \n",
       "4         0.720150             0.694678        0.669652        0.627962   \n",
       "5         0.739793             0.637027        0.697221        0.638587   \n",
       "6         0.718530             0.616852        0.692761        0.646695   \n",
       "\n",
       "   value_conservation  value_openess  value_hedonism  value_selfenhancement  \\\n",
       "2            0.619416       0.746372        0.640073               0.598037   \n",
       "3            0.588969       0.735915        0.644465               0.603042   \n",
       "4            0.553523       0.766618        0.655470               0.645042   \n",
       "5            0.675289       0.752234        0.679661               0.674438   \n",
       "6            0.677245       0.699785        0.648607               0.616075   \n",
       "\n",
       "   value_selftranscendence  reputation  \n",
       "2                 0.828716           0  \n",
       "3                 0.809379           0  \n",
       "4                 0.826039           0  \n",
       "5                 0.813391           0  \n",
       "6                 0.816841           0  \n",
       "\n",
       "[5 rows x 75 columns]"
      ]
     },
     "execution_count": 156,
     "metadata": {},
     "output_type": "execute_result"
    }
   ],
   "source": [
    "ebay_dataset.loc[:,'reputation']=le.transform(ebay_dataset.loc[:,'reputation'].values)\n",
    "ebay_dataset.head(5)"
   ]
  },
  {
   "cell_type": "markdown",
   "id": "df231811-c065-4b61-9df8-e975d4550663",
   "metadata": {
    "tags": []
   },
   "source": [
    "### Separacao Preditor e Classificador"
   ]
  },
  {
   "cell_type": "code",
   "execution_count": 157,
   "id": "54e05314-3578-4bc8-9710-81b0fdae5b21",
   "metadata": {},
   "outputs": [],
   "source": [
    "from sklearn.model_selection import train_test_split"
   ]
  },
  {
   "cell_type": "code",
   "execution_count": 158,
   "id": "8b260ca1-2352-45df-8959-19c5abdb0a65",
   "metadata": {},
   "outputs": [],
   "source": [
    "\n",
    "X=ebay_dataset.iloc[:,0:74].values"
   ]
  },
  {
   "cell_type": "code",
   "execution_count": 159,
   "id": "8ce84386-ea2d-4027-85ae-90609c1491fe",
   "metadata": {},
   "outputs": [
    {
     "data": {
      "text/plain": [
       "(array([0., 1.]), array([ 784, 5022], dtype=int64))"
      ]
     },
     "execution_count": 159,
     "metadata": {},
     "output_type": "execute_result"
    }
   ],
   "source": [
    "np.unique(X[:,2], return_counts=True)"
   ]
  },
  {
   "cell_type": "code",
   "execution_count": 160,
   "id": "8acf4435-93fe-4e8e-9ac2-f6c0ca75453c",
   "metadata": {},
   "outputs": [],
   "source": [
    "Y=ebay_dataset.iloc[:,74:75].values"
   ]
  },
  {
   "cell_type": "code",
   "execution_count": 161,
   "id": "5e5113f6-d468-426e-81ea-7afc84388fb1",
   "metadata": {},
   "outputs": [
    {
     "data": {
      "text/plain": [
       "(5806, 1)"
      ]
     },
     "execution_count": 161,
     "metadata": {},
     "output_type": "execute_result"
    }
   ],
   "source": [
    "Y.shape"
   ]
  },
  {
   "cell_type": "code",
   "execution_count": 162,
   "id": "b97dfc4e-43a8-4b56-aa2f-4461d0fe3e89",
   "metadata": {},
   "outputs": [
    {
     "data": {
      "text/plain": [
       "(array([0, 1]), array([4299, 1507], dtype=int64))"
      ]
     },
     "execution_count": 162,
     "metadata": {},
     "output_type": "execute_result"
    }
   ],
   "source": [
    "np.unique(Y, return_counts=True) #a muito mais bom do que ruim"
   ]
  },
  {
   "cell_type": "code",
   "execution_count": 163,
   "id": "7121e33d-af7a-4f93-9f89-fa9af3c7824d",
   "metadata": {},
   "outputs": [
    {
     "data": {
      "text/plain": [
       "array([[ 0.        , 49.        ,  1.        , ...,  0.64007259,\n",
       "         0.59803704,  0.82871638],\n",
       "       [ 0.        , 56.        ,  1.        , ...,  0.64446459,\n",
       "         0.60304177,  0.80937897],\n",
       "       [ 0.        , 50.        ,  1.        , ...,  0.65546971,\n",
       "         0.64504203,  0.8260389 ],\n",
       "       ...,\n",
       "       [78.        ,  0.        ,  1.        , ...,  0.69746616,\n",
       "         0.6739035 ,  0.83207265],\n",
       "       [95.        ,  0.        ,  1.        , ...,  0.77067732,\n",
       "         0.71004776,  0.81992383],\n",
       "       [53.        ,  0.        ,  1.        , ...,  0.62393063,\n",
       "         0.63312052,  0.79209211]])"
      ]
     },
     "execution_count": 163,
     "metadata": {},
     "output_type": "execute_result"
    }
   ],
   "source": [
    "X"
   ]
  },
  {
   "cell_type": "code",
   "execution_count": 164,
   "id": "167547a5-3e18-4404-a850-5fc07216dde0",
   "metadata": {},
   "outputs": [
    {
     "data": {
      "text/plain": [
       "(array([0., 1.]), array([ 784, 5022], dtype=int64))"
      ]
     },
     "execution_count": 164,
     "metadata": {},
     "output_type": "execute_result"
    }
   ],
   "source": [
    "np.unique(X[:,2], return_counts=True)"
   ]
  },
  {
   "cell_type": "code",
   "execution_count": 165,
   "id": "2a5f94b6-f5de-4665-83bd-577e637ca8a5",
   "metadata": {},
   "outputs": [
    {
     "data": {
      "text/plain": [
       "((4644, 74), (1162, 74), (4644, 1), (1162, 1))"
      ]
     },
     "execution_count": 165,
     "metadata": {},
     "output_type": "execute_result"
    }
   ],
   "source": [
    "X_train_forest,X_test_forest, Y_train_forest, Y_test_forest=train_test_split(X,Y,test_size=0.2)\n",
    "X_train_forest.shape,X_test_forest.shape,Y_train_forest.shape, Y_test_forest.shape"
   ]
  },
  {
   "cell_type": "markdown",
   "id": "e57cb1d9-7405-45ff-b4f4-cf68848a4dd6",
   "metadata": {
    "tags": []
   },
   "source": [
    "### Criacao e Treinamento do Modelo"
   ]
  },
  {
   "cell_type": "code",
   "execution_count": 166,
   "id": "2a05da0b-70bd-4258-982f-70a74b329718",
   "metadata": {},
   "outputs": [],
   "source": [
    "random_forest=RandomForestClassifier()"
   ]
  },
  {
   "cell_type": "code",
   "execution_count": 167,
   "id": "a2466207-e0b3-4cca-b012-b5e2a2f94321",
   "metadata": {},
   "outputs": [
    {
     "data": {
      "text/plain": [
       "RandomForestClassifier()"
      ]
     },
     "execution_count": 167,
     "metadata": {},
     "output_type": "execute_result"
    }
   ],
   "source": [
    "random_forest.fit(X_train_forest,Y_train_forest.ravel())"
   ]
  },
  {
   "cell_type": "code",
   "execution_count": 168,
   "id": "51a5bd95-a71f-44f7-8245-dab30791ca99",
   "metadata": {},
   "outputs": [],
   "source": [
    "previsao_forest=random_forest.predict(X_test_forest)"
   ]
  },
  {
   "cell_type": "code",
   "execution_count": 169,
   "id": "5430df0d-85c9-41d4-9f7c-676f7bfcdffa",
   "metadata": {},
   "outputs": [
    {
     "data": {
      "text/plain": [
       "(array([0, 1]), array([1127,   35], dtype=int64))"
      ]
     },
     "execution_count": 169,
     "metadata": {},
     "output_type": "execute_result"
    }
   ],
   "source": [
    "np.unique(previsao_forest,return_counts=True)"
   ]
  },
  {
   "cell_type": "code",
   "execution_count": 170,
   "id": "32e5eadb-451f-4425-94fd-035525924b56",
   "metadata": {},
   "outputs": [
    {
     "data": {
      "text/plain": [
       "0.7512908777969018"
      ]
     },
     "execution_count": 170,
     "metadata": {},
     "output_type": "execute_result"
    }
   ],
   "source": [
    "accuracy_score(Y_test_forest,previsao_forest)"
   ]
  },
  {
   "cell_type": "code",
   "execution_count": 171,
   "id": "eb03b216-d06a-4f77-b2b6-d3f2cfe03ff4",
   "metadata": {},
   "outputs": [
    {
     "data": {
      "text/plain": [
       "array([[851,  13],\n",
       "       [276,  22]], dtype=int64)"
      ]
     },
     "execution_count": 171,
     "metadata": {},
     "output_type": "execute_result"
    }
   ],
   "source": [
    "cm_forest=confusion_matrix(Y_test_forest,previsao_forest)\n",
    "cm_forest"
   ]
  },
  {
   "cell_type": "code",
   "execution_count": 177,
   "id": "86a2fca7-6376-4f38-b1bb-2d005809e9e5",
   "metadata": {},
   "outputs": [
    {
     "data": {
      "text/plain": [
       "<AxesSubplot:>"
      ]
     },
     "execution_count": 177,
     "metadata": {},
     "output_type": "execute_result"
    },
    {
     "data": {
      "image/png": "[encoded data removed]",
      "text/plain": [
       "<Figure size 640x480 with 2 Axes>"
      ]
     },
     "metadata": {},
     "output_type": "display_data"
    }
   ],
   "source": [
    "sns.heatmap(cm_forest,annot=True,xticklabels=['0-Ruim','1-Bom'],yticklabels=['0-Ruim','1-Bom'])"
   ]
  },
  {
   "cell_type": "code",
   "execution_count": 179,
   "id": "68284841-d90a-4112-8383-825b432bfb49",
   "metadata": {},
   "outputs": [
    {
     "data": {
      "text/plain": [
       "(array([0, 1]), array([864, 298], dtype=int64))"
      ]
     },
     "execution_count": 179,
     "metadata": {},
     "output_type": "execute_result"
    }
   ],
   "source": [
    "np.unique(Y_test_forest,return_counts=True)"
   ]
  },
  {
   "cell_type": "markdown",
   "id": "95b95607-3f2f-4198-91ec-4b20904aa679",
   "metadata": {
    "tags": []
   },
   "source": [
    "### Over_sampling Smote"
   ]
  },
  {
   "cell_type": "code",
   "execution_count": 180,
   "id": "e54959a0-20ac-461f-85c1-6334e2305cd4",
   "metadata": {},
   "outputs": [],
   "source": [
    "from imblearn.over_sampling import SMOTE"
   ]
  },
  {
   "cell_type": "code",
   "execution_count": 184,
   "id": "8323a4ba-49e2-4f07-8e9a-d297396b13be",
   "metadata": {},
   "outputs": [],
   "source": [
    "smote = SMOTE(sampling_strategy='minority')\n",
    "X_forest_over, Y_forest_over = smote.fit_resample(X, Y)"
   ]
  },
  {
   "cell_type": "code",
   "execution_count": 185,
   "id": "c30a6750-14e8-4dc6-becc-37c8f2d97843",
   "metadata": {},
   "outputs": [
    {
     "data": {
      "text/plain": [
       "((6878, 74), (1720, 74), (6878,), (1720,))"
      ]
     },
     "execution_count": 185,
     "metadata": {},
     "output_type": "execute_result"
    }
   ],
   "source": [
    "X_train_forest_over,X_test_forest_over, Y_train_forest_over, Y_test_forest_over=train_test_split(X_forest_over,Y_forest_over,test_size=0.2)\n",
    "X_train_forest_over.shape,X_test_forest_over.shape, Y_train_forest_over.shape, Y_test_forest_over.shape"
   ]
  },
  {
   "cell_type": "code",
   "execution_count": 186,
   "id": "052651e4-6be9-4dd8-a5db-a96926bd6ce0",
   "metadata": {},
   "outputs": [
    {
     "data": {
      "text/plain": [
       "(array([0, 1]), array([4299, 4299], dtype=int64))"
      ]
     },
     "execution_count": 186,
     "metadata": {},
     "output_type": "execute_result"
    }
   ],
   "source": [
    "np.unique(Y_forest_over, return_counts=True)"
   ]
  },
  {
   "cell_type": "code",
   "execution_count": 188,
   "id": "af6d8393-452e-49ee-a584-8d4e95c35d80",
   "metadata": {},
   "outputs": [
    {
     "data": {
      "text/plain": [
       "((array([0, 1]), array([864, 298], dtype=int64)),\n",
       " (array([0, 1]), array([862, 858], dtype=int64)))"
      ]
     },
     "execution_count": 188,
     "metadata": {},
     "output_type": "execute_result"
    }
   ],
   "source": [
    "np.unique(Y_test_forest,return_counts=True), np.unique(Y_test_forest_over,return_counts=True) #reparar que o último mantem a mesma proporcao agora"
   ]
  },
  {
   "cell_type": "code",
   "execution_count": 189,
   "id": "65fe232a-0070-44e8-8b23-ab62d437127c",
   "metadata": {},
   "outputs": [
    {
     "data": {
      "text/plain": [
       "RandomForestClassifier()"
      ]
     },
     "execution_count": 189,
     "metadata": {},
     "output_type": "execute_result"
    }
   ],
   "source": [
    "random_forest.fit(X_train_forest_over,Y_train_forest_over.ravel())"
   ]
  },
  {
   "cell_type": "code",
   "execution_count": 190,
   "id": "3b627eb6-ab10-471d-87ea-3ed628d316f9",
   "metadata": {},
   "outputs": [],
   "source": [
    "previsao_forest_over=random_forest.predict(X_test_forest_over)"
   ]
  },
  {
   "cell_type": "code",
   "execution_count": 191,
   "id": "2d456bba-573d-4100-afb3-c2732cb4b3bb",
   "metadata": {},
   "outputs": [
    {
     "data": {
      "text/plain": [
       "0.8046511627906977"
      ]
     },
     "execution_count": 191,
     "metadata": {},
     "output_type": "execute_result"
    }
   ],
   "source": [
    "accuracy_score(Y_test_forest_over,previsao_forest_over)"
   ]
  },
  {
   "cell_type": "code",
   "execution_count": 192,
   "id": "5ccbbbd1-6714-4e8f-aed8-52a7077a2792",
   "metadata": {},
   "outputs": [
    {
     "data": {
      "text/plain": [
       "array([[701, 161],\n",
       "       [175, 683]], dtype=int64)"
      ]
     },
     "execution_count": 192,
     "metadata": {},
     "output_type": "execute_result"
    }
   ],
   "source": [
    "cm_forest_over=confusion_matrix(Y_test_forest_over,previsao_forest_over)\n",
    "cm_forest_over"
   ]
  },
  {
   "cell_type": "code",
   "execution_count": 193,
   "id": "10f0061f-560a-4996-9ae7-6874c1b34830",
   "metadata": {},
   "outputs": [
    {
     "data": {
      "text/plain": [
       "<AxesSubplot:>"
      ]
     },
     "execution_count": 193,
     "metadata": {},
     "output_type": "execute_result"
    },
    {
     "data": {
      "image/png": "[encoded data removed]",
      "text/plain": [
       "<Figure size 640x480 with 2 Axes>"
      ]
     },
     "metadata": {},
     "output_type": "display_data"
    }
   ],
   "source": [
    "sns.heatmap(cm_forest_over,annot=True,xticklabels=['0-Ruim','1-Bom'],yticklabels=['0-Ruim','1-Bom'])"
   ]
  },
  {
   "cell_type": "code",
   "execution_count": 195,
   "id": "3149adec-2a80-43ab-8429-cdc6b085e3ef",
   "metadata": {},
   "outputs": [
    {
     "data": {
      "text/plain": [
       "(array([0, 1]), array([862, 858], dtype=int64))"
      ]
     },
     "execution_count": 195,
     "metadata": {},
     "output_type": "execute_result"
    }
   ],
   "source": [
    "np.unique(Y_test_forest_over,return_counts=True)"
   ]
  },
  {
   "cell_type": "code",
   "execution_count": null,
   "id": "2a0cd4f6-f2bf-4571-873c-491ba864c12e",
   "metadata": {},
   "outputs": [],
   "source": []
  }
 ],
 "metadata": {
  "kernelspec": {
   "display_name": "Python 3 (ipykernel)",
   "language": "python",
   "name": "python3"
  },
  "language_info": {
   "codemirror_mode": {
    "name": "ipython",
    "version": 3
   },
   "file_extension": ".py",
   "mimetype": "text/x-python",
   "name": "python",
   "nbconvert_exporter": "python",
   "pygments_lexer": "ipython3",
   "version": "3.9.13"
  }
 },
 "nbformat": 4,
 "nbformat_minor": 5
}
