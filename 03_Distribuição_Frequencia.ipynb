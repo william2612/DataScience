{
 "cells": [
  {
   "cell_type": "code",
   "execution_count": 1,
   "id": "b67a09d4-36cc-4f3e-910a-0db148816533",
   "metadata": {},
   "outputs": [],
   "source": [
    "import numpy as np\n",
    "import matplotlib.pyplot as plt\n",
    "import pandas as pd \n",
    "import seaborn as sns\n",
    "import math as mth"
   ]
  },
  {
   "cell_type": "markdown",
   "id": "2ac35a78-2d0f-4267-8da1-787f276ca69e",
   "metadata": {
    "jp-MarkdownHeadingCollapsed": true,
    "tags": []
   },
   "source": [
    "## Distribuição de Frequência Teoria\n",
    "\n",
    "A distribuição de frequência é util quando o volume de dados for grande e queremos fazer uma análise de contagem de cada variável.\n",
    "\n",
    "Uma distribuição de freqüência é uma tabela que mostra categorias, valores ou intervalos de valores de acordo com as ocorrências.\n",
    "\n",
    "<img src='imagens/dist_freq_tabela.png' width='600' height='600'/>\n",
    "\n",
    "Onde se aplica: variáveis quantitativas ou variáveis qualitativas ordinais (avaliação de servico, como bom, medio, ruim. Grau de instrução da pessoa).\n",
    "\n",
    "A ideia é dividir os dados em classe, mas suponha que quando há muitas ocorrencias em classes iniciais, compensa-se diminuir o tamanho das que estão no fim. Exemplo: salário: o numero de pessoas diminui a medida que o salário cresce, distribuir com intervalo igual não é melhor alternativa.\n",
    "\n",
    "Regra de Sturges para divisão de classes: <br>\n",
    "1. Ordernar os Valores da Tabela.\n",
    "2. Cálculo da amplitude: A= max-min\n",
    "3. Cálculo do número de intervalos da tabela: K=1+ 3,322.log n (n é o tamanho da amostra)\n",
    "4. Cálculo da amplitude dos intervalos: Ak=A/K (devemos arredondar para cima)<br><br>\n",
    "<img src='imagens/dist_freq_tabela2.png' width='600' height='600'/>\n",
    "\n",
    "\n",
    "\n",
    "\n"
   ]
  },
  {
   "cell_type": "markdown",
   "id": "9def5855-c31b-44b0-bf2c-10b0b6df7d62",
   "metadata": {
    "tags": []
   },
   "source": [
    "## Implementação da distribuição de frequência"
   ]
  },
  {
   "cell_type": "markdown",
   "id": "5b6b3bd1-d5f8-493b-a29c-6e5e6d12d570",
   "metadata": {
    "tags": []
   },
   "source": [
    "### Base de dados importacao e ordenacao"
   ]
  },
  {
   "cell_type": "code",
   "execution_count": 2,
   "id": "147aa4cf-bed9-4ece-bc55-752e9900505b",
   "metadata": {},
   "outputs": [],
   "source": [
    "dados = np.array([160, 165, 167, 164, 160, 166, 160, 161, 150, 152, 173, 160, 155,\n",
    "                  164, 168, 162, 161, 168, 163, 156, 155, 169, 151, 170, 164,\n",
    "                  155, 152, 163, 160, 155, 157, 156, 158, 158, 161, 154, 161, 156, 172, 153])"
   ]
  },
  {
   "cell_type": "code",
   "execution_count": 3,
   "id": "f53dfd03-5372-4c48-9ee0-7a40831f5c2b",
   "metadata": {},
   "outputs": [],
   "source": [
    "dados=np.sort(dados) #ordenação"
   ]
  },
  {
   "cell_type": "code",
   "execution_count": 4,
   "id": "3b583907-9247-4766-842e-705f12168b71",
   "metadata": {},
   "outputs": [
    {
     "data": {
      "text/plain": [
       "array([150, 151, 152, 152, 153, 154, 155, 155, 155, 155, 156, 156, 156,\n",
       "       157, 158, 158, 160, 160, 160, 160, 160, 161, 161, 161, 161, 162,\n",
       "       163, 163, 164, 164, 164, 165, 166, 167, 168, 168, 169, 170, 172,\n",
       "       173])"
      ]
     },
     "execution_count": 4,
     "metadata": {},
     "output_type": "execute_result"
    }
   ],
   "source": [
    "dados"
   ]
  },
  {
   "cell_type": "code",
   "execution_count": 5,
   "id": "3e707613-dad6-45b1-8700-2f45c251d95f",
   "metadata": {},
   "outputs": [
    {
     "data": {
      "text/plain": [
       "(array([150, 151, 152, 153, 154, 155, 156, 157, 158, 160, 161, 162, 163,\n",
       "        164, 165, 166, 167, 168, 169, 170, 172, 173]),\n",
       " array([1, 1, 2, 1, 1, 4, 3, 1, 2, 5, 4, 1, 2, 3, 1, 1, 1, 2, 1, 1, 1, 1],\n",
       "       dtype=int64))"
      ]
     },
     "execution_count": 5,
     "metadata": {},
     "output_type": "execute_result"
    }
   ],
   "source": [
    "np.unique(dados, return_counts=True)"
   ]
  },
  {
   "cell_type": "code",
   "execution_count": 6,
   "id": "66370819-a587-459e-bdc3-10b0d7418cc7",
   "metadata": {},
   "outputs": [
    {
     "data": {
      "text/plain": [
       "(150, 173)"
      ]
     },
     "execution_count": 6,
     "metadata": {},
     "output_type": "execute_result"
    }
   ],
   "source": [
    "dados.min(), dados.max()"
   ]
  },
  {
   "cell_type": "code",
   "execution_count": 7,
   "id": "eae57ae5-6107-492a-ac90-dddf52046c74",
   "metadata": {},
   "outputs": [
    {
     "data": {
      "text/plain": [
       "<BarContainer object of 40 artists>"
      ]
     },
     "execution_count": 7,
     "metadata": {},
     "output_type": "execute_result"
    },
    {
     "data": {
      "image/png": "[encoded data removed]",
      "text/plain": [
       "<Figure size 640x480 with 1 Axes>"
      ]
     },
     "metadata": {},
     "output_type": "display_data"
    }
   ],
   "source": [
    "plt.bar(dados,dados) # dados nao agrupados por classe"
   ]
  },
  {
   "cell_type": "markdown",
   "id": "91338304-6136-4c45-98c6-7cd66a018f71",
   "metadata": {
    "jp-MarkdownHeadingCollapsed": true,
    "tags": []
   },
   "source": [
    "### Numero de classes"
   ]
  },
  {
   "cell_type": "code",
   "execution_count": 8,
   "id": "0b451e73-3aa7-41a6-ad84-3f54b9d8607b",
   "metadata": {},
   "outputs": [
    {
     "data": {
      "text/plain": [
       "(23, 6, 4)"
      ]
     },
     "execution_count": 8,
     "metadata": {},
     "output_type": "execute_result"
    }
   ],
   "source": [
    "A=dados.max()-dados.min()\n",
    "K=round(1+3.332*mth.log10(dados.shape[0]))\n",
    "Ak=mth.ceil(A/K)\n",
    "A,K,Ak"
   ]
  },
  {
   "cell_type": "markdown",
   "id": "8e50767f-4830-4453-bb9b-555233960273",
   "metadata": {
    "tags": []
   },
   "source": [
    "### Criacao Intervalos"
   ]
  },
  {
   "cell_type": "code",
   "execution_count": 9,
   "id": "076c6d3f-22f3-4b77-b4e9-552dec54c37c",
   "metadata": {},
   "outputs": [
    {
     "data": {
      "text/plain": [
       "array([150, 154, 158, 162, 166, 170, 174])"
      ]
     },
     "execution_count": 9,
     "metadata": {},
     "output_type": "execute_result"
    }
   ],
   "source": [
    "intervalos=np.arange(dados.min(),dados.max()+Ak, Ak)#soma-se algo para que nao fique de fora do range\n",
    "intervalos"
   ]
  },
  {
   "cell_type": "code",
   "execution_count": 10,
   "id": "c4bddd95-381c-4e4e-85b7-1842bf4ff193",
   "metadata": {},
   "outputs": [
    {
     "data": {
      "text/plain": [
       "array([0, 0, 0, 0, 0, 0])"
      ]
     },
     "execution_count": 10,
     "metadata": {},
     "output_type": "execute_result"
    }
   ],
   "source": [
    "intervalo=np.zeros(6).astype(int)\n",
    "intervalo"
   ]
  },
  {
   "cell_type": "code",
   "execution_count": 11,
   "id": "ce63f123-ad34-4fe3-ad24-78f8503e43f7",
   "metadata": {},
   "outputs": [],
   "source": [
    "\n",
    "for value in dados:\n",
    "    if(value>=150 and value <154):\n",
    "            k=0\n",
    "            intervalo[k]+=1\n",
    "    if(value>=154 and value <158):\n",
    "            k=1\n",
    "            intervalo[k]+=1\n",
    "    if(value>=158 and value <162):\n",
    "            k=2\n",
    "            intervalo[k]+=1\n",
    "    if(value>=162 and value <166):\n",
    "            k=3\n",
    "            intervalo[k]+=1\n",
    "    if(value>=166 and value <170):\n",
    "            k=4\n",
    "            intervalo[k]+=1\n",
    "    if(value>=170 and value <174):\n",
    "            k=5\n",
    "            intervalo[k]+=1"
   ]
  },
  {
   "cell_type": "code",
   "execution_count": 12,
   "id": "135672f0-37db-45b8-b086-65c97a513744",
   "metadata": {},
   "outputs": [
    {
     "data": {
      "text/plain": [
       "(array([ 5,  9, 11,  7,  5,  3]), 40)"
      ]
     },
     "execution_count": 12,
     "metadata": {},
     "output_type": "execute_result"
    }
   ],
   "source": [
    "intervalo,intervalo.sum()"
   ]
  },
  {
   "cell_type": "code",
   "execution_count": 13,
   "id": "487dbe23-e78c-46a7-8b61-5c15fb7fdedb",
   "metadata": {},
   "outputs": [],
   "source": [
    "lista_classes=['|150-154','|154-158','|158-162','|162-166','|166-170','|170-174']"
   ]
  },
  {
   "cell_type": "code",
   "execution_count": 14,
   "id": "dc89c314-3578-4f7c-aa67-d8937e882a64",
   "metadata": {},
   "outputs": [
    {
     "data": {
      "text/plain": [
       "Text(0, 0.5, 'valores')"
      ]
     },
     "execution_count": 14,
     "metadata": {},
     "output_type": "execute_result"
    },
    {
     "data": {
      "image/png": "[encoded data removed]",
      "text/plain": [
       "<Figure size 640x480 with 1 Axes>"
      ]
     },
     "metadata": {},
     "output_type": "display_data"
    }
   ],
   "source": [
    "plt.bar(np.asarray(lista_classes),intervalo)\n",
    "plt.title('Distribuicao de Frequencia-Histograma')\n",
    "plt.xlabel('intervalos')\n",
    "plt.ylabel('valores')"
   ]
  },
  {
   "cell_type": "markdown",
   "id": "e58b0731-ea8f-4c69-9f57-d8107dcaa866",
   "metadata": {
    "jp-MarkdownHeadingCollapsed": true,
    "tags": []
   },
   "source": [
    "## Histograma Numpy e Matplotlib"
   ]
  },
  {
   "cell_type": "code",
   "execution_count": 15,
   "id": "bfacf9b4-56f7-4448-9076-8a4571a9ee2d",
   "metadata": {},
   "outputs": [],
   "source": [
    "dados = np.array([160, 165, 167, 164, 160, 166, 160, 161, 150, 152, 173, 160, 155,\n",
    "                  164, 168, 162, 161, 168, 163, 156, 155, 169, 151, 170, 164,\n",
    "                  155, 152, 163, 160, 155, 157, 156, 158, 158, 161, 154, 161, 156, 172, 153])"
   ]
  },
  {
   "cell_type": "code",
   "execution_count": 16,
   "id": "74bc7a99-4467-4ffe-9f99-8e7f2763aea5",
   "metadata": {},
   "outputs": [],
   "source": [
    "frequencia,classes=np.histogram(dados,bins=6)\n",
    "classes=np.round(classes).astype(str)\n"
   ]
  },
  {
   "cell_type": "code",
   "execution_count": 17,
   "id": "9cea195e-d0b3-4f84-98ee-82efd1fad695",
   "metadata": {},
   "outputs": [
    {
     "data": {
      "text/plain": [
       "(7,)"
      ]
     },
     "execution_count": 17,
     "metadata": {},
     "output_type": "execute_result"
    }
   ],
   "source": [
    "classes.shape"
   ]
  },
  {
   "cell_type": "code",
   "execution_count": 18,
   "id": "9dde5b91-f19c-41b8-801e-29dc87009b91",
   "metadata": {},
   "outputs": [
    {
     "data": {
      "text/plain": [
       "(array(['150.0', '154.0', '158.0', '162.0', '165.0', '169.0'], dtype='<U32'),\n",
       " array([ 5,  9, 11,  7,  5,  3], dtype=int64))"
      ]
     },
     "execution_count": 18,
     "metadata": {},
     "output_type": "execute_result"
    }
   ],
   "source": [
    "classes[0:6], frequencia"
   ]
  },
  {
   "cell_type": "code",
   "execution_count": 19,
   "id": "93cde6f6-43a4-4094-a4fe-be44dda8ffa2",
   "metadata": {},
   "outputs": [
    {
     "data": {
      "text/plain": [
       "<BarContainer object of 6 artists>"
      ]
     },
     "execution_count": 19,
     "metadata": {},
     "output_type": "execute_result"
    },
    {
     "data": {
      "image/png": "[encoded data removed]",
      "text/plain": [
       "<Figure size 640x480 with 1 Axes>"
      ]
     },
     "metadata": {},
     "output_type": "display_data"
    }
   ],
   "source": [
    "plt.bar(classes[0:6],frequencia)"
   ]
  },
  {
   "cell_type": "code",
   "execution_count": 20,
   "id": "f45c8a57-fd20-4a08-a3ea-651d143788b1",
   "metadata": {},
   "outputs": [
    {
     "data": {
      "text/plain": [
       "(array([ 5.,  9., 11.,  7.,  5.,  3.]),\n",
       " array([150.        , 153.83333333, 157.66666667, 161.5       ,\n",
       "        165.33333333, 169.16666667, 173.        ]),\n",
       " <BarContainer object of 6 artists>)"
      ]
     },
     "execution_count": 20,
     "metadata": {},
     "output_type": "execute_result"
    },
    {
     "data": {
      "image/png": "[encoded data removed]",
      "text/plain": [
       "<Figure size 640x480 with 1 Axes>"
      ]
     },
     "metadata": {},
     "output_type": "display_data"
    }
   ],
   "source": [
    "frequencia,classes=np.histogram(dados,bins=6) # em bins podemos escolher a tecnica usada para escolher\n",
    "plt.hist(dados,bins=6)"
   ]
  },
  {
   "cell_type": "code",
   "execution_count": 21,
   "id": "f8f6dff7-8aef-49e5-af4d-0af33c0d69a1",
   "metadata": {},
   "outputs": [
    {
     "data": {
      "text/plain": [
       "(array([ 5.,  8.,  3., 12.,  5.,  4.,  3.]),\n",
       " array([150.        , 153.28571429, 156.57142857, 159.85714286,\n",
       "        163.14285714, 166.42857143, 169.71428571, 173.        ]),\n",
       " <BarContainer object of 7 artists>)"
      ]
     },
     "execution_count": 21,
     "metadata": {},
     "output_type": "execute_result"
    },
    {
     "data": {
      "image/png": "[encoded data removed]",
      "text/plain": [
       "<Figure size 640x480 with 1 Axes>"
      ]
     },
     "metadata": {},
     "output_type": "display_data"
    }
   ],
   "source": [
    "#usaremos o metodo de sturges para testar\n",
    "frequencia_sturges,class_sturges=np.histogram(dados,bins='sturges')\n",
    "plt.hist(dados,bins='sturges')"
   ]
  },
  {
   "cell_type": "code",
   "execution_count": 22,
   "id": "f85874e9-3e7b-434e-8689-01ce4bb8fe65",
   "metadata": {},
   "outputs": [
    {
     "data": {
      "text/plain": [
       "(array([ 5,  8,  3, 12,  5,  4,  3], dtype=int64),\n",
       " array([150.        , 153.28571429, 156.57142857, 159.85714286,\n",
       "        163.14285714, 166.42857143, 169.71428571, 173.        ]))"
      ]
     },
     "execution_count": 22,
     "metadata": {},
     "output_type": "execute_result"
    }
   ],
   "source": [
    "frequencia_sturges,class_sturges"
   ]
  },
  {
   "cell_type": "markdown",
   "id": "5a74f22d-9673-429f-aa49-0fb54687122f",
   "metadata": {
    "tags": []
   },
   "source": [
    "## Pandas e Seaborn\n",
    "\n",
    "Gerar trabalhando com Dataframe"
   ]
  },
  {
   "cell_type": "code",
   "execution_count": 23,
   "id": "8c6914d3-b535-4462-9ebf-9b633bc92fa2",
   "metadata": {},
   "outputs": [],
   "source": [
    "dataset=pd.DataFrame({'dados':dados})"
   ]
  },
  {
   "cell_type": "code",
   "execution_count": 26,
   "id": "0811ff12-ab0b-448b-96e0-2b410cd54ddf",
   "metadata": {},
   "outputs": [
    {
     "data": {
      "text/plain": [
       "<AxesSubplot:ylabel='Frequency'>"
      ]
     },
     "execution_count": 26,
     "metadata": {},
     "output_type": "execute_result"
    },
    {
     "data": {
      "image/png": "[encoded data removed]",
      "text/plain": [
       "<Figure size 640x480 with 1 Axes>"
      ]
     },
     "metadata": {},
     "output_type": "display_data"
    }
   ],
   "source": [
    "dataset.plot.hist(bins=6)"
   ]
  },
  {
   "cell_type": "code",
   "execution_count": 28,
   "id": "dd05fe02-38b5-481d-b231-34400b5ea5b6",
   "metadata": {},
   "outputs": [
    {
     "data": {
      "text/plain": [
       "<AxesSubplot:ylabel='Count'>"
      ]
     },
     "execution_count": 28,
     "metadata": {},
     "output_type": "execute_result"
    },
    {
     "data": {
      "image/png": "[encoded data removed]",
      "text/plain": [
       "<Figure size 640x480 with 1 Axes>"
      ]
     },
     "metadata": {},
     "output_type": "display_data"
    }
   ],
   "source": [
    "sns.histplot(dados,bins=6,kde=True) #kde plotagem linha de densidade"
   ]
  },
  {
   "cell_type": "markdown",
   "id": "71914a50-2152-4f4d-9ae6-5c998ef44764",
   "metadata": {
    "jp-MarkdownHeadingCollapsed": true,
    "tags": []
   },
   "source": [
    "## Distribuicao Idade base Census"
   ]
  },
  {
   "cell_type": "code",
   "execution_count": 39,
   "id": "be314fa3-13f9-41ef-bc51-3d59697034e3",
   "metadata": {},
   "outputs": [],
   "source": [
    "dataset_census=pd.read_csv('data_base/census.csv')\n",
    "dataset_age=pd.DataFrame(dataset_census['age'])"
   ]
  },
  {
   "cell_type": "code",
   "execution_count": 40,
   "id": "2f6fb99b-1d83-4381-aab6-12db5ed8f846",
   "metadata": {},
   "outputs": [
    {
     "name": "stdout",
     "output_type": "stream",
     "text": [
      "<class 'pandas.core.frame.DataFrame'>\n",
      "RangeIndex: 32561 entries, 0 to 32560\n",
      "Data columns (total 1 columns):\n",
      " #   Column  Non-Null Count  Dtype\n",
      "---  ------  --------------  -----\n",
      " 0   age     32561 non-null  int64\n",
      "dtypes: int64(1)\n",
      "memory usage: 254.5 KB\n"
     ]
    }
   ],
   "source": [
    "dataset_age.info() #nenhum campo de idade nula"
   ]
  },
  {
   "cell_type": "code",
   "execution_count": 41,
   "id": "24f9217b-9a21-47a9-83f8-659a9febb3ee",
   "metadata": {},
   "outputs": [
    {
     "data": {
      "text/html": [
       "<div>\n",
       "<style scoped>\n",
       "    .dataframe tbody tr th:only-of-type {\n",
       "        vertical-align: middle;\n",
       "    }\n",
       "\n",
       "    .dataframe tbody tr th {\n",
       "        vertical-align: top;\n",
       "    }\n",
       "\n",
       "    .dataframe thead th {\n",
       "        text-align: right;\n",
       "    }\n",
       "</style>\n",
       "<table border=\"1\" class=\"dataframe\">\n",
       "  <thead>\n",
       "    <tr style=\"text-align: right;\">\n",
       "      <th></th>\n",
       "      <th>age</th>\n",
       "    </tr>\n",
       "  </thead>\n",
       "  <tbody>\n",
       "    <tr>\n",
       "      <th>count</th>\n",
       "      <td>32561.000000</td>\n",
       "    </tr>\n",
       "    <tr>\n",
       "      <th>mean</th>\n",
       "      <td>38.581647</td>\n",
       "    </tr>\n",
       "    <tr>\n",
       "      <th>std</th>\n",
       "      <td>13.640433</td>\n",
       "    </tr>\n",
       "    <tr>\n",
       "      <th>min</th>\n",
       "      <td>17.000000</td>\n",
       "    </tr>\n",
       "    <tr>\n",
       "      <th>25%</th>\n",
       "      <td>28.000000</td>\n",
       "    </tr>\n",
       "    <tr>\n",
       "      <th>50%</th>\n",
       "      <td>37.000000</td>\n",
       "    </tr>\n",
       "    <tr>\n",
       "      <th>75%</th>\n",
       "      <td>48.000000</td>\n",
       "    </tr>\n",
       "    <tr>\n",
       "      <th>max</th>\n",
       "      <td>90.000000</td>\n",
       "    </tr>\n",
       "  </tbody>\n",
       "</table>\n",
       "</div>"
      ],
      "text/plain": [
       "                age\n",
       "count  32561.000000\n",
       "mean      38.581647\n",
       "std       13.640433\n",
       "min       17.000000\n",
       "25%       28.000000\n",
       "50%       37.000000\n",
       "75%       48.000000\n",
       "max       90.000000"
      ]
     },
     "execution_count": 41,
     "metadata": {},
     "output_type": "execute_result"
    }
   ],
   "source": [
    "dataset_age.describe()"
   ]
  },
  {
   "cell_type": "code",
   "execution_count": 42,
   "id": "ea9219c6-9bcd-4610-963b-7b75321a28d3",
   "metadata": {},
   "outputs": [
    {
     "data": {
      "text/html": [
       "<div>\n",
       "<style scoped>\n",
       "    .dataframe tbody tr th:only-of-type {\n",
       "        vertical-align: middle;\n",
       "    }\n",
       "\n",
       "    .dataframe tbody tr th {\n",
       "        vertical-align: top;\n",
       "    }\n",
       "\n",
       "    .dataframe thead th {\n",
       "        text-align: right;\n",
       "    }\n",
       "</style>\n",
       "<table border=\"1\" class=\"dataframe\">\n",
       "  <thead>\n",
       "    <tr style=\"text-align: right;\">\n",
       "      <th></th>\n",
       "      <th>age</th>\n",
       "    </tr>\n",
       "  </thead>\n",
       "  <tbody>\n",
       "    <tr>\n",
       "      <th>0</th>\n",
       "      <td>39</td>\n",
       "    </tr>\n",
       "    <tr>\n",
       "      <th>1</th>\n",
       "      <td>50</td>\n",
       "    </tr>\n",
       "    <tr>\n",
       "      <th>2</th>\n",
       "      <td>38</td>\n",
       "    </tr>\n",
       "    <tr>\n",
       "      <th>3</th>\n",
       "      <td>53</td>\n",
       "    </tr>\n",
       "    <tr>\n",
       "      <th>4</th>\n",
       "      <td>28</td>\n",
       "    </tr>\n",
       "    <tr>\n",
       "      <th>5</th>\n",
       "      <td>37</td>\n",
       "    </tr>\n",
       "    <tr>\n",
       "      <th>6</th>\n",
       "      <td>49</td>\n",
       "    </tr>\n",
       "    <tr>\n",
       "      <th>7</th>\n",
       "      <td>52</td>\n",
       "    </tr>\n",
       "    <tr>\n",
       "      <th>8</th>\n",
       "      <td>31</td>\n",
       "    </tr>\n",
       "    <tr>\n",
       "      <th>9</th>\n",
       "      <td>42</td>\n",
       "    </tr>\n",
       "  </tbody>\n",
       "</table>\n",
       "</div>"
      ],
      "text/plain": [
       "   age\n",
       "0   39\n",
       "1   50\n",
       "2   38\n",
       "3   53\n",
       "4   28\n",
       "5   37\n",
       "6   49\n",
       "7   52\n",
       "8   31\n",
       "9   42"
      ]
     },
     "execution_count": 42,
     "metadata": {},
     "output_type": "execute_result"
    }
   ],
   "source": [
    "dataset_age.head(10)"
   ]
  },
  {
   "cell_type": "code",
   "execution_count": 56,
   "id": "66b30e45-b700-44f1-9822-7bba5b771072",
   "metadata": {},
   "outputs": [
    {
     "data": {
      "text/plain": [
       "array([17.    , 21.5625, 26.125 , 30.6875, 35.25  , 39.8125, 44.375 ,\n",
       "       48.9375, 53.5   , 58.0625, 62.625 , 67.1875, 71.75  , 76.3125,\n",
       "       80.875 , 85.4375, 90.    ])"
      ]
     },
     "execution_count": 56,
     "metadata": {},
     "output_type": "execute_result"
    }
   ],
   "source": [
    "numpy_ages=dataset_age.values\n",
    "freq,classes=np.histogram(numpy_ages,bins='sturges')\n",
    "classes"
   ]
  },
  {
   "cell_type": "code",
   "execution_count": 61,
   "id": "4bf2f78e-2713-445e-b889-f12662321424",
   "metadata": {},
   "outputs": [
    {
     "data": {
      "text/plain": [
       "<AxesSubplot:ylabel='Frequency'>"
      ]
     },
     "execution_count": 61,
     "metadata": {},
     "output_type": "execute_result"
    },
    {
     "data": {
      "image/png": "[encoded data removed]",
      "text/plain": [
       "<Figure size 640x480 with 1 Axes>"
      ]
     },
     "metadata": {},
     "output_type": "display_data"
    }
   ],
   "source": [
    "dataset_age.plot.hist( bins=classes.shape[0]-1)"
   ]
  },
  {
   "cell_type": "code",
   "execution_count": 46,
   "id": "9a980e1a-e8f1-48c7-b7e7-7d9209760ee8",
   "metadata": {},
   "outputs": [
    {
     "data": {
      "text/plain": [
       "<AxesSubplot:ylabel='Count'>"
      ]
     },
     "execution_count": 46,
     "metadata": {},
     "output_type": "execute_result"
    },
    {
     "data": {
      "image/png": "[encoded data removed]",
      "text/plain": [
       "<Figure size 640x480 with 1 Axes>"
      ]
     },
     "metadata": {},
     "output_type": "display_data"
    }
   ],
   "source": [
    "sns.histplot(dataset_age,kde=True, bins='sturges') #aqui sturges arredonda para baixo"
   ]
  },
  {
   "cell_type": "code",
   "execution_count": 62,
   "id": "bbd5d7eb-99b5-4d67-a092-7eeeba66fca5",
   "metadata": {},
   "outputs": [
    {
     "data": {
      "text/plain": [
       "(array([3130., 4066., 3376., 4353., 3399., 3876., 2722., 2716., 1924.,\n",
       "        1225.,  917.,  389.,  273.,   96.,   51.,   48.]),\n",
       " array([17.    , 21.5625, 26.125 , 30.6875, 35.25  , 39.8125, 44.375 ,\n",
       "        48.9375, 53.5   , 58.0625, 62.625 , 67.1875, 71.75  , 76.3125,\n",
       "        80.875 , 85.4375, 90.    ]),\n",
       " <BarContainer object of 16 artists>)"
      ]
     },
     "execution_count": 62,
     "metadata": {},
     "output_type": "execute_result"
    },
    {
     "data": {
      "image/png": "[encoded data removed]",
      "text/plain": [
       "<Figure size 640x480 with 1 Axes>"
      ]
     },
     "metadata": {},
     "output_type": "display_data"
    }
   ],
   "source": [
    "plt.hist(numpy_ages,bins=classes.shape[0]-1)"
   ]
  },
  {
   "cell_type": "markdown",
   "id": "4b13ad27-6af2-45d7-b664-5f0f061e9adb",
   "metadata": {},
   "source": [
    "## Regras de Associação\n",
    "\n",
    "Tipos de perguntas: o quanto uma variável se relaciona a outra de modo que as duas possam maximizar um resultado.\n",
    "\n",
    "Vender itens em conjuntos. <br>\n",
    "Planejamento de Catálogos. <br>\n",
    "Controle de evasão (exemplo:situação financeira e idade => tendência em sair do curso). <br>"
   ]
  },
  {
   "attachments": {
    "bf7e68c3-26a4-498f-85f0-304cb6b77fde.png": {
     "image/png": "[encoded data removed]"
    }
   },
   "cell_type": "markdown",
   "id": "bde7ad3b-b135-48c7-864b-d24c4a5a820d",
   "metadata": {
    "jp-MarkdownHeadingCollapsed": true,
    "tags": []
   },
   "source": [
    "### Algoritmo APRIORI\n",
    "\n",
    "Tabela para aplicarmos o algoritmo <br>\n",
    "\n",
    "As regras de associação permitem que elementos em um conjunto de dados sejam expressos como 𝑋→𝑌\n",
    "tomando 𝑋 e 𝑌 sejam sub-conjuntos da base de dados  e não haja 𝑋∩𝑌 valores de intersecção.\n",
    "\n",
    "Como exemplo, {café,𝑝ã𝑜}→{manteiga} dada a ocorrencia de 2 itens podemos estabelecer uma relação com um resultado de um terceiro.\n",
    "\n",
    "<img src='imagens/regra_associoacao.png' width='400px' height='400px' />\n",
    "\n",
    "![image.png](attachment:bf7e68c3-26a4-498f-85f0-304cb6b77fde.png)\n",
    "\n",
    "pegando como exemplo de suporte: café => pão\n",
    "café que comprou pão= 3\n",
    "total de café=10\n",
    "suporte (café=>pão)=0,3\n",
    "\n",
    "Confiança:\n",
    "total de pão:5\n",
    "vezes que há pão, pelo total de café:3 \n",
    "confiação é 100%\n",
    "\n",
    "A ideia da confiança é dividr a vezes que há pão, pelo total de café, se tivéssemos 4 compras de café e só 3 pãos, teríamos 75%\n",
    "\n",
    "a ideia é fixarmos um suporte >= a um valor, e considerar as varíaveis que passam ela, exemplo\n",
    "cerva=>pao\n",
    "\n",
    "\n",
    "suporte(pão=>café) <br>\n",
    "3/10=0.3 <br>\n",
    "\n",
    "confiaça: 3 café/5pães= 0.60 ou 60% de confiaça <br>\n",
    "\n",
    "total compra cervejas=2 <br>\n",
    "total de registros=10 <br>\n",
    "suporte =2/10=0.2 <br>\n",
    "\n",
    "\n",
    "manteiga <br>\n",
    "total de comrpas=5 <br>\n",
    "total registro=10 <br>\n",
    "suporte 0.5 <br>\n",
    "\n",
    "suporte em conjunto cafe,pao\n",
    "\n",
    "que há café e pao=3\n",
    "suporte=0,3\n"
   ]
  },
  {
   "cell_type": "markdown",
   "id": "5c7eb4bd-c331-4f08-8389-1f6bfcd21e75",
   "metadata": {
    "jp-MarkdownHeadingCollapsed": true,
    "tags": []
   },
   "source": [
    "### Implementação \n",
    "\n",
    "A ideia é fazer a divisão em classes e os dados trabalhados devem ser categóricos"
   ]
  },
  {
   "cell_type": "code",
   "execution_count": 118,
   "id": "127f7f0b-7ce9-4a7c-8dfa-f57bd712b2f4",
   "metadata": {},
   "outputs": [],
   "source": [
    "dataset_apriori=dataset_census[['age','workclass','education','marital-status','relationship','occupation','sex','native-country','income']]"
   ]
  },
  {
   "cell_type": "code",
   "execution_count": 119,
   "id": "b0c7f4ef-c651-4a0f-8550-38c37d969e0e",
   "metadata": {},
   "outputs": [
    {
     "data": {
      "text/html": [
       "<div>\n",
       "<style scoped>\n",
       "    .dataframe tbody tr th:only-of-type {\n",
       "        vertical-align: middle;\n",
       "    }\n",
       "\n",
       "    .dataframe tbody tr th {\n",
       "        vertical-align: top;\n",
       "    }\n",
       "\n",
       "    .dataframe thead th {\n",
       "        text-align: right;\n",
       "    }\n",
       "</style>\n",
       "<table border=\"1\" class=\"dataframe\">\n",
       "  <thead>\n",
       "    <tr style=\"text-align: right;\">\n",
       "      <th></th>\n",
       "      <th>age</th>\n",
       "      <th>workclass</th>\n",
       "      <th>education</th>\n",
       "      <th>marital-status</th>\n",
       "      <th>relationship</th>\n",
       "      <th>occupation</th>\n",
       "      <th>sex</th>\n",
       "      <th>native-country</th>\n",
       "      <th>income</th>\n",
       "    </tr>\n",
       "  </thead>\n",
       "  <tbody>\n",
       "    <tr>\n",
       "      <th>0</th>\n",
       "      <td>39</td>\n",
       "      <td>State-gov</td>\n",
       "      <td>Bachelors</td>\n",
       "      <td>Never-married</td>\n",
       "      <td>Not-in-family</td>\n",
       "      <td>Adm-clerical</td>\n",
       "      <td>Male</td>\n",
       "      <td>United-States</td>\n",
       "      <td>&lt;=50K</td>\n",
       "    </tr>\n",
       "    <tr>\n",
       "      <th>1</th>\n",
       "      <td>50</td>\n",
       "      <td>Self-emp-not-inc</td>\n",
       "      <td>Bachelors</td>\n",
       "      <td>Married-civ-spouse</td>\n",
       "      <td>Husband</td>\n",
       "      <td>Exec-managerial</td>\n",
       "      <td>Male</td>\n",
       "      <td>United-States</td>\n",
       "      <td>&lt;=50K</td>\n",
       "    </tr>\n",
       "    <tr>\n",
       "      <th>2</th>\n",
       "      <td>38</td>\n",
       "      <td>Private</td>\n",
       "      <td>HS-grad</td>\n",
       "      <td>Divorced</td>\n",
       "      <td>Not-in-family</td>\n",
       "      <td>Handlers-cleaners</td>\n",
       "      <td>Male</td>\n",
       "      <td>United-States</td>\n",
       "      <td>&lt;=50K</td>\n",
       "    </tr>\n",
       "    <tr>\n",
       "      <th>3</th>\n",
       "      <td>53</td>\n",
       "      <td>Private</td>\n",
       "      <td>11th</td>\n",
       "      <td>Married-civ-spouse</td>\n",
       "      <td>Husband</td>\n",
       "      <td>Handlers-cleaners</td>\n",
       "      <td>Male</td>\n",
       "      <td>United-States</td>\n",
       "      <td>&lt;=50K</td>\n",
       "    </tr>\n",
       "    <tr>\n",
       "      <th>4</th>\n",
       "      <td>28</td>\n",
       "      <td>Private</td>\n",
       "      <td>Bachelors</td>\n",
       "      <td>Married-civ-spouse</td>\n",
       "      <td>Wife</td>\n",
       "      <td>Prof-specialty</td>\n",
       "      <td>Female</td>\n",
       "      <td>Cuba</td>\n",
       "      <td>&lt;=50K</td>\n",
       "    </tr>\n",
       "    <tr>\n",
       "      <th>...</th>\n",
       "      <td>...</td>\n",
       "      <td>...</td>\n",
       "      <td>...</td>\n",
       "      <td>...</td>\n",
       "      <td>...</td>\n",
       "      <td>...</td>\n",
       "      <td>...</td>\n",
       "      <td>...</td>\n",
       "      <td>...</td>\n",
       "    </tr>\n",
       "    <tr>\n",
       "      <th>32556</th>\n",
       "      <td>27</td>\n",
       "      <td>Private</td>\n",
       "      <td>Assoc-acdm</td>\n",
       "      <td>Married-civ-spouse</td>\n",
       "      <td>Wife</td>\n",
       "      <td>Tech-support</td>\n",
       "      <td>Female</td>\n",
       "      <td>United-States</td>\n",
       "      <td>&lt;=50K</td>\n",
       "    </tr>\n",
       "    <tr>\n",
       "      <th>32557</th>\n",
       "      <td>40</td>\n",
       "      <td>Private</td>\n",
       "      <td>HS-grad</td>\n",
       "      <td>Married-civ-spouse</td>\n",
       "      <td>Husband</td>\n",
       "      <td>Machine-op-inspct</td>\n",
       "      <td>Male</td>\n",
       "      <td>United-States</td>\n",
       "      <td>&gt;50K</td>\n",
       "    </tr>\n",
       "    <tr>\n",
       "      <th>32558</th>\n",
       "      <td>58</td>\n",
       "      <td>Private</td>\n",
       "      <td>HS-grad</td>\n",
       "      <td>Widowed</td>\n",
       "      <td>Unmarried</td>\n",
       "      <td>Adm-clerical</td>\n",
       "      <td>Female</td>\n",
       "      <td>United-States</td>\n",
       "      <td>&lt;=50K</td>\n",
       "    </tr>\n",
       "    <tr>\n",
       "      <th>32559</th>\n",
       "      <td>22</td>\n",
       "      <td>Private</td>\n",
       "      <td>HS-grad</td>\n",
       "      <td>Never-married</td>\n",
       "      <td>Own-child</td>\n",
       "      <td>Adm-clerical</td>\n",
       "      <td>Male</td>\n",
       "      <td>United-States</td>\n",
       "      <td>&lt;=50K</td>\n",
       "    </tr>\n",
       "    <tr>\n",
       "      <th>32560</th>\n",
       "      <td>52</td>\n",
       "      <td>Self-emp-inc</td>\n",
       "      <td>HS-grad</td>\n",
       "      <td>Married-civ-spouse</td>\n",
       "      <td>Wife</td>\n",
       "      <td>Exec-managerial</td>\n",
       "      <td>Female</td>\n",
       "      <td>United-States</td>\n",
       "      <td>&gt;50K</td>\n",
       "    </tr>\n",
       "  </tbody>\n",
       "</table>\n",
       "<p>32561 rows × 9 columns</p>\n",
       "</div>"
      ],
      "text/plain": [
       "       age          workclass    education       marital-status  \\\n",
       "0       39          State-gov    Bachelors        Never-married   \n",
       "1       50   Self-emp-not-inc    Bachelors   Married-civ-spouse   \n",
       "2       38            Private      HS-grad             Divorced   \n",
       "3       53            Private         11th   Married-civ-spouse   \n",
       "4       28            Private    Bachelors   Married-civ-spouse   \n",
       "...    ...                ...          ...                  ...   \n",
       "32556   27            Private   Assoc-acdm   Married-civ-spouse   \n",
       "32557   40            Private      HS-grad   Married-civ-spouse   \n",
       "32558   58            Private      HS-grad              Widowed   \n",
       "32559   22            Private      HS-grad        Never-married   \n",
       "32560   52       Self-emp-inc      HS-grad   Married-civ-spouse   \n",
       "\n",
       "         relationship          occupation      sex  native-country  income  \n",
       "0       Not-in-family        Adm-clerical     Male   United-States   <=50K  \n",
       "1             Husband     Exec-managerial     Male   United-States   <=50K  \n",
       "2       Not-in-family   Handlers-cleaners     Male   United-States   <=50K  \n",
       "3             Husband   Handlers-cleaners     Male   United-States   <=50K  \n",
       "4                Wife      Prof-specialty   Female            Cuba   <=50K  \n",
       "...               ...                 ...      ...             ...     ...  \n",
       "32556            Wife        Tech-support   Female   United-States   <=50K  \n",
       "32557         Husband   Machine-op-inspct     Male   United-States    >50K  \n",
       "32558       Unmarried        Adm-clerical   Female   United-States   <=50K  \n",
       "32559       Own-child        Adm-clerical     Male   United-States   <=50K  \n",
       "32560            Wife     Exec-managerial   Female   United-States    >50K  \n",
       "\n",
       "[32561 rows x 9 columns]"
      ]
     },
     "execution_count": 119,
     "metadata": {},
     "output_type": "execute_result"
    }
   ],
   "source": [
    "dataset_apriori"
   ]
  },
  {
   "cell_type": "markdown",
   "id": "4bd8aec9-dcd9-4ca4-ae29-6adadd0b3263",
   "metadata": {
    "tags": []
   },
   "source": [
    "### Dividir o Data frame em faixas com pd.cut\n",
    "\n",
    "1° ponto a destacar é que trabalha com intervalor: <br>\n",
    "[x1,xn) fechado em x1 e aberto em xn um formato diferente do comum na literatura da estatística<br>\n",
    "\n",
    "Podemos definir intervalo assimétrico, por exemplo iremos ter 3 classes, passamos um vetor: [0,3,5,7]\n",
    "criamos as classes (0, 3] < (3, 5] < (5, 7]"
   ]
  },
  {
   "cell_type": "code",
   "execution_count": 134,
   "id": "90487006-0f26-41fa-858a-10240636fa2a",
   "metadata": {},
   "outputs": [
    {
     "data": {
      "text/plain": [
       "['bad', 'good', 'medium', 'medium', 'good', 'bad']\n",
       "Categories (3, object): ['bad' < 'medium' < 'good']"
      ]
     },
     "execution_count": 134,
     "metadata": {},
     "output_type": "execute_result"
    }
   ],
   "source": [
    "output=pd.cut(np.array([1, 7, 5, 4, 6, 3]),\n",
    "       3, labels=[\"bad\", \"medium\", \"good\"])\n",
    "output # repare que as categorias sao qualitativo ordinal"
   ]
  },
  {
   "cell_type": "code",
   "execution_count": 135,
   "id": "2ea485d4-2fda-4cfc-be5e-e2596dfe3374",
   "metadata": {},
   "outputs": [
    {
     "data": {
      "text/plain": [
       "[(0, 3], (5, 7], (3, 5], (3, 5], (5, 7], (0, 3]]\n",
       "Categories (3, interval[int64, right]): [(0, 3] < (3, 5] < (5, 7]]"
      ]
     },
     "execution_count": 135,
     "metadata": {},
     "output_type": "execute_result"
    }
   ],
   "source": [
    "pd.cut(np.array([1, 7, 5, 4, 6, 3]), bins=[0,3,5,7])"
   ]
  },
  {
   "cell_type": "code",
   "execution_count": 136,
   "id": "70273b20-566b-4c7d-bc93-02eae3d2f513",
   "metadata": {},
   "outputs": [
    {
     "data": {
      "text/html": [
       "<div>\n",
       "<style scoped>\n",
       "    .dataframe tbody tr th:only-of-type {\n",
       "        vertical-align: middle;\n",
       "    }\n",
       "\n",
       "    .dataframe tbody tr th {\n",
       "        vertical-align: top;\n",
       "    }\n",
       "\n",
       "    .dataframe thead th {\n",
       "        text-align: right;\n",
       "    }\n",
       "</style>\n",
       "<table border=\"1\" class=\"dataframe\">\n",
       "  <thead>\n",
       "    <tr style=\"text-align: right;\">\n",
       "      <th></th>\n",
       "      <th>0</th>\n",
       "    </tr>\n",
       "  </thead>\n",
       "  <tbody>\n",
       "    <tr>\n",
       "      <th>0</th>\n",
       "      <td>(0.994, 3.0]</td>\n",
       "    </tr>\n",
       "    <tr>\n",
       "      <th>1</th>\n",
       "      <td>(5.0, 7.0]</td>\n",
       "    </tr>\n",
       "    <tr>\n",
       "      <th>2</th>\n",
       "      <td>(3.0, 5.0]</td>\n",
       "    </tr>\n",
       "    <tr>\n",
       "      <th>3</th>\n",
       "      <td>(3.0, 5.0]</td>\n",
       "    </tr>\n",
       "    <tr>\n",
       "      <th>4</th>\n",
       "      <td>(5.0, 7.0]</td>\n",
       "    </tr>\n",
       "    <tr>\n",
       "      <th>5</th>\n",
       "      <td>(0.994, 3.0]</td>\n",
       "    </tr>\n",
       "  </tbody>\n",
       "</table>\n",
       "</div>"
      ],
      "text/plain": [
       "              0\n",
       "0  (0.994, 3.0]\n",
       "1    (5.0, 7.0]\n",
       "2    (3.0, 5.0]\n",
       "3    (3.0, 5.0]\n",
       "4    (5.0, 7.0]\n",
       "5  (0.994, 3.0]"
      ]
     },
     "execution_count": 136,
     "metadata": {},
     "output_type": "execute_result"
    }
   ],
   "source": [
    "pd.DataFrame(pd.cut(np.array([1, 7, 5, 4, 6, 3]), 3))\n",
    "#o bin foi seta em 3, logo teremos 3 divisões"
   ]
  },
  {
   "cell_type": "code",
   "execution_count": 137,
   "id": "6344fa21-4b23-4256-b935-de8a499feec3",
   "metadata": {},
   "outputs": [
    {
     "data": {
      "text/html": [
       "<div>\n",
       "<style scoped>\n",
       "    .dataframe tbody tr th:only-of-type {\n",
       "        vertical-align: middle;\n",
       "    }\n",
       "\n",
       "    .dataframe tbody tr th {\n",
       "        vertical-align: top;\n",
       "    }\n",
       "\n",
       "    .dataframe thead th {\n",
       "        text-align: right;\n",
       "    }\n",
       "</style>\n",
       "<table border=\"1\" class=\"dataframe\">\n",
       "  <thead>\n",
       "    <tr style=\"text-align: right;\">\n",
       "      <th></th>\n",
       "      <th>0</th>\n",
       "    </tr>\n",
       "  </thead>\n",
       "  <tbody>\n",
       "    <tr>\n",
       "      <th>0</th>\n",
       "      <td>(0, 3]</td>\n",
       "    </tr>\n",
       "    <tr>\n",
       "      <th>1</th>\n",
       "      <td>(5, 7]</td>\n",
       "    </tr>\n",
       "    <tr>\n",
       "      <th>2</th>\n",
       "      <td>(3, 5]</td>\n",
       "    </tr>\n",
       "    <tr>\n",
       "      <th>3</th>\n",
       "      <td>(3, 5]</td>\n",
       "    </tr>\n",
       "    <tr>\n",
       "      <th>4</th>\n",
       "      <td>(5, 7]</td>\n",
       "    </tr>\n",
       "    <tr>\n",
       "      <th>5</th>\n",
       "      <td>(0, 3]</td>\n",
       "    </tr>\n",
       "  </tbody>\n",
       "</table>\n",
       "</div>"
      ],
      "text/plain": [
       "        0\n",
       "0  (0, 3]\n",
       "1  (5, 7]\n",
       "2  (3, 5]\n",
       "3  (3, 5]\n",
       "4  (5, 7]\n",
       "5  (0, 3]"
      ]
     },
     "execution_count": 137,
     "metadata": {},
     "output_type": "execute_result"
    }
   ],
   "source": [
    "pd.DataFrame(pd.cut(np.array([1, 7, 5, 4, 6, 3]), bins=[0,3,5,7]))"
   ]
  },
  {
   "cell_type": "code",
   "execution_count": 122,
   "id": "42b0a46a-971c-4f44-a51e-dedffffc731f",
   "metadata": {},
   "outputs": [
    {
     "name": "stderr",
     "output_type": "stream",
     "text": [
      "C:\\Users\\WILLIAM\\AppData\\Local\\Temp\\ipykernel_6912\\3341691159.py:1: SettingWithCopyWarning: \n",
      "A value is trying to be set on a copy of a slice from a DataFrame.\n",
      "Try using .loc[row_indexer,col_indexer] = value instead\n",
      "\n",
      "See the caveats in the documentation: https://pandas.pydata.org/pandas-docs/stable/user_guide/indexing.html#returning-a-view-versus-a-copy\n",
      "  dataset_apriori['age']=pd.cut(dataset_apriori['age'], bins=[0,17,25,40,60,90], labels=['Faixa1','Faixa2','Faixa3','Faixa4','Faixa5'])\n"
     ]
    }
   ],
   "source": [
    "dataset_apriori['age']=pd.cut(dataset_apriori['age'], bins=[0,17,25,40,60,90], labels=['Faixa1','Faixa2','Faixa3','Faixa4','Faixa5'])"
   ]
  },
  {
   "cell_type": "code",
   "execution_count": 138,
   "id": "837b534c-24a9-4fe6-937c-30ba96d3ee18",
   "metadata": {},
   "outputs": [
    {
     "data": {
      "text/html": [
       "<div>\n",
       "<style scoped>\n",
       "    .dataframe tbody tr th:only-of-type {\n",
       "        vertical-align: middle;\n",
       "    }\n",
       "\n",
       "    .dataframe tbody tr th {\n",
       "        vertical-align: top;\n",
       "    }\n",
       "\n",
       "    .dataframe thead th {\n",
       "        text-align: right;\n",
       "    }\n",
       "</style>\n",
       "<table border=\"1\" class=\"dataframe\">\n",
       "  <thead>\n",
       "    <tr style=\"text-align: right;\">\n",
       "      <th></th>\n",
       "      <th>age</th>\n",
       "      <th>workclass</th>\n",
       "      <th>education</th>\n",
       "      <th>marital-status</th>\n",
       "      <th>relationship</th>\n",
       "      <th>occupation</th>\n",
       "      <th>sex</th>\n",
       "      <th>native-country</th>\n",
       "      <th>income</th>\n",
       "    </tr>\n",
       "  </thead>\n",
       "  <tbody>\n",
       "    <tr>\n",
       "      <th>5852</th>\n",
       "      <td>Faixa2</td>\n",
       "      <td>Private</td>\n",
       "      <td>Some-college</td>\n",
       "      <td>Never-married</td>\n",
       "      <td>Own-child</td>\n",
       "      <td>Machine-op-inspct</td>\n",
       "      <td>Male</td>\n",
       "      <td>United-States</td>\n",
       "      <td>&lt;=50K</td>\n",
       "    </tr>\n",
       "  </tbody>\n",
       "</table>\n",
       "</div>"
      ],
      "text/plain": [
       "         age workclass      education  marital-status relationship  \\\n",
       "5852  Faixa2   Private   Some-college   Never-married    Own-child   \n",
       "\n",
       "              occupation    sex  native-country  income  \n",
       "5852   Machine-op-inspct   Male   United-States   <=50K  "
      ]
     },
     "execution_count": 138,
     "metadata": {},
     "output_type": "execute_result"
    }
   ],
   "source": [
    "dataset_apriori=dataset_apriori.sample(n=1000)\n",
    "dataset_apriori.head(1)"
   ]
  },
  {
   "cell_type": "markdown",
   "id": "2d3038ad-b26d-4364-94aa-7fcc780bbec8",
   "metadata": {
    "tags": []
   },
   "source": [
    "### Conversão de dataframe para lista (requisicao algoritmo a priori)"
   ]
  },
  {
   "cell_type": "code",
   "execution_count": 139,
   "id": "c670ba7a-549b-4314-ad0e-5d8bae4e5fae",
   "metadata": {},
   "outputs": [
    {
     "data": {
      "text/plain": [
       "age                           Faixa2\n",
       "workclass                    Private\n",
       "education               Some-college\n",
       "marital-status         Never-married\n",
       "relationship               Own-child\n",
       "occupation         Machine-op-inspct\n",
       "sex                             Male\n",
       "native-country         United-States\n",
       "income                         <=50K\n",
       "Name: 5852, dtype: object"
      ]
     },
     "execution_count": 139,
     "metadata": {},
     "output_type": "execute_result"
    }
   ],
   "source": [
    "dataset_apriori.iloc[0,:]"
   ]
  },
  {
   "cell_type": "code",
   "execution_count": 140,
   "id": "7c9dd98e-929c-4b0e-aea3-5b078b03be15",
   "metadata": {},
   "outputs": [
    {
     "data": {
      "text/plain": [
       "' Own-child'"
      ]
     },
     "execution_count": 140,
     "metadata": {},
     "output_type": "execute_result"
    }
   ],
   "source": [
    "dataset_apriori.values[0,4]#o primeiro valor é o do registro, o segundo da coluna"
   ]
  },
  {
   "cell_type": "markdown",
   "id": "28be5d43-0fd7-48f7-95d5-646ac240fc5c",
   "metadata": {},
   "source": [
    "Temos que converter do formato pandas para o formato lista"
   ]
  },
  {
   "cell_type": "code",
   "execution_count": 141,
   "id": "a9fdac24-914e-4621-9d37-cb2edb677366",
   "metadata": {},
   "outputs": [],
   "source": [
    "registros_transform=[]\n",
    "for i in range(dataset_apriori.shape[0]):\n",
    "    registros_transform.append([str(dataset_apriori.values[i,j]) for j in range(dataset_apriori.shape[1]) ])"
   ]
  },
  {
   "cell_type": "code",
   "execution_count": 142,
   "id": "a08b53df-9684-4a74-9e0a-6cbdc3251ad3",
   "metadata": {},
   "outputs": [
    {
     "data": {
      "text/plain": [
       "1000"
      ]
     },
     "execution_count": 142,
     "metadata": {},
     "output_type": "execute_result"
    }
   ],
   "source": [
    "len(registros_transform)"
   ]
  },
  {
   "cell_type": "code",
   "execution_count": 143,
   "id": "211cc292-84da-455a-9896-b8abb5ea89c4",
   "metadata": {},
   "outputs": [
    {
     "data": {
      "text/plain": [
       "[['Faixa2',\n",
       "  ' Private',\n",
       "  ' Some-college',\n",
       "  ' Never-married',\n",
       "  ' Own-child',\n",
       "  ' Machine-op-inspct',\n",
       "  ' Male',\n",
       "  ' United-States',\n",
       "  ' <=50K'],\n",
       " ['Faixa5',\n",
       "  ' Private',\n",
       "  ' HS-grad',\n",
       "  ' Married-civ-spouse',\n",
       "  ' Husband',\n",
       "  ' Craft-repair',\n",
       "  ' Male',\n",
       "  ' United-States',\n",
       "  ' <=50K']]"
      ]
     },
     "execution_count": 143,
     "metadata": {},
     "output_type": "execute_result"
    }
   ],
   "source": [
    "registros_transform[0:2]"
   ]
  },
  {
   "cell_type": "markdown",
   "id": "88d15abf-4eac-4bcf-adf8-80b8d53ac04f",
   "metadata": {
    "jp-MarkdownHeadingCollapsed": true,
    "tags": []
   },
   "source": [
    "### Outro meio de separar em"
   ]
  },
  {
   "cell_type": "code",
   "execution_count": 129,
   "id": "e4f7ca33-a3f0-480b-b786-2e12de05848c",
   "metadata": {},
   "outputs": [
    {
     "data": {
      "text/plain": [
       "[['Faixa3',\n",
       "  ' Private',\n",
       "  ' Some-college',\n",
       "  ' Married-civ-spouse',\n",
       "  ' Husband',\n",
       "  ' Exec-managerial',\n",
       "  ' Male',\n",
       "  ' United-States',\n",
       "  ' >50K'],\n",
       " ['Faixa3',\n",
       "  ' Private',\n",
       "  ' HS-grad',\n",
       "  ' Married-civ-spouse',\n",
       "  ' Husband',\n",
       "  ' Transport-moving',\n",
       "  ' Male',\n",
       "  ' United-States',\n",
       "  ' >50K']]"
      ]
     },
     "execution_count": 129,
     "metadata": {},
     "output_type": "execute_result"
    }
   ],
   "source": [
    "\n",
    "test=[]\n",
    "for i in range(dataset_apriori.shape[0]):\n",
    "    acumula=[]\n",
    "    for j in range (dataset_apriori.shape[1]):\n",
    "        acumula.append(str(dataset_apriori.values[i,j]))\n",
    "    test.append(acumula)\n",
    "test[0:2]"
   ]
  },
  {
   "cell_type": "markdown",
   "id": "c2d64638-bc52-47d2-a22d-d213a72ac694",
   "metadata": {
    "tags": []
   },
   "source": [
    "### Implementação do modelo"
   ]
  },
  {
   "cell_type": "code",
   "execution_count": 144,
   "id": "901d6790-fb8d-4569-844e-101a8e683dbd",
   "metadata": {},
   "outputs": [
    {
     "name": "stdout",
     "output_type": "stream",
     "text": [
      "Collecting apyori\n",
      "  Downloading apyori-1.1.2.tar.gz (8.6 kB)\n",
      "  Preparing metadata (setup.py): started\n",
      "  Preparing metadata (setup.py): finished with status 'done'\n",
      "Building wheels for collected packages: apyori\n",
      "  Building wheel for apyori (setup.py): started\n",
      "  Building wheel for apyori (setup.py): finished with status 'done'\n",
      "  Created wheel for apyori: filename=apyori-1.1.2-py3-none-any.whl size=5955 sha256=b794657b95aa0b99dd0c26c64f8135ac619422b9379c8910e3036b1456d235e6\n",
      "  Stored in directory: c:\\users\\william\\appdata\\local\\pip\\cache\\wheels\\32\\2a\\54\\10c595515f385f3726642b10c60bf788029e8f3a1323e3913a\n",
      "Successfully built apyori\n",
      "Installing collected packages: apyori\n",
      "Successfully installed apyori-1.1.2\n",
      "Note: you may need to restart the kernel to use updated packages.\n"
     ]
    }
   ],
   "source": [
    "pip install apyori #biblioteca regras"
   ]
  },
  {
   "cell_type": "code",
   "execution_count": 145,
   "id": "04af441c-6563-47c7-8347-8077e8218bcc",
   "metadata": {},
   "outputs": [],
   "source": [
    "from apyori import apriori"
   ]
  },
  {
   "cell_type": "code",
   "execution_count": 147,
   "id": "619bc101-7292-40d5-a3bf-4353c9b221d9",
   "metadata": {},
   "outputs": [],
   "source": [
    "regras_associacao=apriori(registros_transform, min_support=0.3, min_confidence=0.4)\n",
    "resultados=list(regras_associacao)"
   ]
  },
  {
   "cell_type": "code",
   "execution_count": 148,
   "id": "ccc061a0-3810-4864-881e-ba7268c298d2",
   "metadata": {},
   "outputs": [
    {
     "data": {
      "text/plain": [
       "[RelationRecord(items=frozenset({' <=50K'}), support=0.755, ordered_statistics=[OrderedStatistic(items_base=frozenset(), items_add=frozenset({' <=50K'}), confidence=0.755, lift=1.0)]),\n",
       " RelationRecord(items=frozenset({' Husband'}), support=0.401, ordered_statistics=[OrderedStatistic(items_base=frozenset(), items_add=frozenset({' Husband'}), confidence=0.401, lift=1.0)]),\n",
       " RelationRecord(items=frozenset({' Male'}), support=0.68, ordered_statistics=[OrderedStatistic(items_base=frozenset(), items_add=frozenset({' Male'}), confidence=0.68, lift=1.0)]),\n",
       " RelationRecord(items=frozenset({' Married-civ-spouse'}), support=0.452, ordered_statistics=[OrderedStatistic(items_base=frozenset(), items_add=frozenset({' Married-civ-spouse'}), confidence=0.452, lift=1.0)]),\n",
       " RelationRecord(items=frozenset({' Private'}), support=0.718, ordered_statistics=[OrderedStatistic(items_base=frozenset(), items_add=frozenset({' Private'}), confidence=0.718, lift=1.0)]),\n",
       " RelationRecord(items=frozenset({' United-States'}), support=0.906, ordered_statistics=[OrderedStatistic(items_base=frozenset(), items_add=frozenset({' United-States'}), confidence=0.906, lift=1.0)]),\n",
       " RelationRecord(items=frozenset({' Male', ' <=50K'}), support=0.481, ordered_statistics=[OrderedStatistic(items_base=frozenset(), items_add=frozenset({' Male', ' <=50K'}), confidence=0.481, lift=1.0), OrderedStatistic(items_base=frozenset({' <=50K'}), items_add=frozenset({' Male'}), confidence=0.6370860927152318, lift=0.9368913128165173), OrderedStatistic(items_base=frozenset({' Male'}), items_add=frozenset({' <=50K'}), confidence=0.7073529411764705, lift=0.9368913128165173)]),\n",
       " RelationRecord(items=frozenset({' Never-married', ' <=50K'}), support=0.315, ordered_statistics=[OrderedStatistic(items_base=frozenset({' <=50K'}), items_add=frozenset({' Never-married'}), confidence=0.41721854304635764, lift=1.2720077531901146), OrderedStatistic(items_base=frozenset({' Never-married'}), items_add=frozenset({' <=50K'}), confidence=0.9603658536585366, lift=1.2720077531901146)]),\n",
       " RelationRecord(items=frozenset({' <=50K', ' Private'}), support=0.561, ordered_statistics=[OrderedStatistic(items_base=frozenset(), items_add=frozenset({' <=50K', ' Private'}), confidence=0.561, lift=1.0), OrderedStatistic(items_base=frozenset({' <=50K'}), items_add=frozenset({' Private'}), confidence=0.7430463576158941, lift=1.034883506428822), OrderedStatistic(items_base=frozenset({' Private'}), items_add=frozenset({' <=50K'}), confidence=0.7813370473537605, lift=1.034883506428822)]),\n",
       " RelationRecord(items=frozenset({' United-States', ' <=50K'}), support=0.685, ordered_statistics=[OrderedStatistic(items_base=frozenset(), items_add=frozenset({' United-States', ' <=50K'}), confidence=0.685, lift=1.0), OrderedStatistic(items_base=frozenset({' <=50K'}), items_add=frozenset({' United-States'}), confidence=0.9072847682119206, lift=1.0014180664590735), OrderedStatistic(items_base=frozenset({' United-States'}), items_add=frozenset({' <=50K'}), confidence=0.7560706401766005, lift=1.0014180664590735)]),\n",
       " RelationRecord(items=frozenset({'Faixa3', ' <=50K'}), support=0.308, ordered_statistics=[OrderedStatistic(items_base=frozenset({' <=50K'}), items_add=frozenset({'Faixa3'}), confidence=0.40794701986754967, lift=1.030169242089772), OrderedStatistic(items_base=frozenset({'Faixa3'}), items_add=frozenset({' <=50K'}), confidence=0.7777777777777777, lift=1.0301692420897717)]),\n",
       " RelationRecord(items=frozenset({' United-States', ' HS-grad'}), support=0.32, ordered_statistics=[OrderedStatistic(items_base=frozenset({' HS-grad'}), items_add=frozenset({' United-States'}), confidence=0.9495548961424332, lift=1.0480738368018025)]),\n",
       " RelationRecord(items=frozenset({' Male', ' Husband'}), support=0.401, ordered_statistics=[OrderedStatistic(items_base=frozenset(), items_add=frozenset({' Male', ' Husband'}), confidence=0.401, lift=1.0), OrderedStatistic(items_base=frozenset({' Husband'}), items_add=frozenset({' Male'}), confidence=1.0, lift=1.4705882352941175), OrderedStatistic(items_base=frozenset({' Male'}), items_add=frozenset({' Husband'}), confidence=0.5897058823529412, lift=1.4705882352941175)]),\n",
       " RelationRecord(items=frozenset({' Husband', ' Married-civ-spouse'}), support=0.4, ordered_statistics=[OrderedStatistic(items_base=frozenset(), items_add=frozenset({' Husband', ' Married-civ-spouse'}), confidence=0.4, lift=1.0), OrderedStatistic(items_base=frozenset({' Husband'}), items_add=frozenset({' Married-civ-spouse'}), confidence=0.9975062344139651, lift=2.2068722000308965), OrderedStatistic(items_base=frozenset({' Married-civ-spouse'}), items_add=frozenset({' Husband'}), confidence=0.8849557522123894, lift=2.206872200030896)]),\n",
       " RelationRecord(items=frozenset({' United-States', ' Husband'}), support=0.362, ordered_statistics=[OrderedStatistic(items_base=frozenset({' Husband'}), items_add=frozenset({' United-States'}), confidence=0.9027431421446384, lift=0.99640523415523)]),\n",
       " RelationRecord(items=frozenset({' Male', ' Married-civ-spouse'}), support=0.404, ordered_statistics=[OrderedStatistic(items_base=frozenset(), items_add=frozenset({' Male', ' Married-civ-spouse'}), confidence=0.404, lift=1.0), OrderedStatistic(items_base=frozenset({' Male'}), items_add=frozenset({' Married-civ-spouse'}), confidence=0.5941176470588235, lift=1.31441957313899), OrderedStatistic(items_base=frozenset({' Married-civ-spouse'}), items_add=frozenset({' Male'}), confidence=0.8938053097345133, lift=1.31441957313899)]),\n",
       " RelationRecord(items=frozenset({' Male', ' Private'}), support=0.49, ordered_statistics=[OrderedStatistic(items_base=frozenset(), items_add=frozenset({' Male', ' Private'}), confidence=0.49, lift=1.0), OrderedStatistic(items_base=frozenset({' Male'}), items_add=frozenset({' Private'}), confidence=0.7205882352941175, lift=1.0036047845321971), OrderedStatistic(items_base=frozenset({' Private'}), items_add=frozenset({' Male'}), confidence=0.6824512534818942, lift=1.0036047845321971)]),\n",
       " RelationRecord(items=frozenset({' United-States', ' Male'}), support=0.618, ordered_statistics=[OrderedStatistic(items_base=frozenset(), items_add=frozenset({' United-States', ' Male'}), confidence=0.618, lift=1.0), OrderedStatistic(items_base=frozenset({' Male'}), items_add=frozenset({' United-States'}), confidence=0.9088235294117646, lift=1.003116478379431), OrderedStatistic(items_base=frozenset({' United-States'}), items_add=frozenset({' Male'}), confidence=0.6821192052980132, lift=1.003116478379431)]),\n",
       " RelationRecord(items=frozenset({' Private', ' Married-civ-spouse'}), support=0.313, ordered_statistics=[OrderedStatistic(items_base=frozenset({' Married-civ-spouse'}), items_add=frozenset({' Private'}), confidence=0.6924778761061947, lift=0.9644538664431681), OrderedStatistic(items_base=frozenset({' Private'}), items_add=frozenset({' Married-civ-spouse'}), confidence=0.435933147632312, lift=0.9644538664431681)]),\n",
       " RelationRecord(items=frozenset({' United-States', ' Married-civ-spouse'}), support=0.404, ordered_statistics=[OrderedStatistic(items_base=frozenset(), items_add=frozenset({' United-States', ' Married-civ-spouse'}), confidence=0.404, lift=1.0), OrderedStatistic(items_base=frozenset({' Married-civ-spouse'}), items_add=frozenset({' United-States'}), confidence=0.8938053097345133, lift=0.9865400769696615), OrderedStatistic(items_base=frozenset({' United-States'}), items_add=frozenset({' Married-civ-spouse'}), confidence=0.445916114790287, lift=0.9865400769696614)]),\n",
       " RelationRecord(items=frozenset({' United-States', ' Never-married'}), support=0.301, ordered_statistics=[OrderedStatistic(items_base=frozenset({' Never-married'}), items_add=frozenset({' United-States'}), confidence=0.9176829268292682, lift=1.0128950627254616)]),\n",
       " RelationRecord(items=frozenset({' United-States', ' Private'}), support=0.651, ordered_statistics=[OrderedStatistic(items_base=frozenset(), items_add=frozenset({' United-States', ' Private'}), confidence=0.651, lift=1.0), OrderedStatistic(items_base=frozenset({' Private'}), items_add=frozenset({' United-States'}), confidence=0.9066852367688023, lift=1.0007563319743955), OrderedStatistic(items_base=frozenset({' United-States'}), items_add=frozenset({' Private'}), confidence=0.7185430463576159, lift=1.0007563319743955)]),\n",
       " RelationRecord(items=frozenset({'Faixa3', ' Private'}), support=0.316, ordered_statistics=[OrderedStatistic(items_base=frozenset({' Private'}), items_add=frozenset({'Faixa3'}), confidence=0.4401114206128134, lift=1.1113924762949832), OrderedStatistic(items_base=frozenset({'Faixa3'}), items_add=frozenset({' Private'}), confidence=0.7979797979797979, lift=1.1113924762949832)]),\n",
       " RelationRecord(items=frozenset({' United-States', 'Faixa3'}), support=0.356, ordered_statistics=[OrderedStatistic(items_base=frozenset({'Faixa3'}), items_add=frozenset({' United-States'}), confidence=0.8989898989898989, lift=0.992262581666555)]),\n",
       " RelationRecord(items=frozenset({' United-States', 'Faixa4'}), support=0.317, ordered_statistics=[OrderedStatistic(items_base=frozenset({'Faixa4'}), items_add=frozenset({' United-States'}), confidence=0.916184971098266, lift=1.011241689953936)]),\n",
       " RelationRecord(items=frozenset({' Male', ' <=50K', ' Private'}), support=0.36, ordered_statistics=[OrderedStatistic(items_base=frozenset({' <=50K'}), items_add=frozenset({' Male', ' Private'}), confidence=0.4768211920529801, lift=0.9731044735775105), OrderedStatistic(items_base=frozenset({' Male'}), items_add=frozenset({' <=50K', ' Private'}), confidence=0.5294117647058822, lift=0.9436929852154763), OrderedStatistic(items_base=frozenset({' Private'}), items_add=frozenset({' Male', ' <=50K'}), confidence=0.5013927576601671, lift=1.042396585572073), OrderedStatistic(items_base=frozenset({' Male', ' <=50K'}), items_add=frozenset({' Private'}), confidence=0.7484407484407485, lift=1.0423965855720732), OrderedStatistic(items_base=frozenset({' <=50K', ' Private'}), items_add=frozenset({' Male'}), confidence=0.641711229946524, lift=0.9436929852154764), OrderedStatistic(items_base=frozenset({' Male', ' Private'}), items_add=frozenset({' <=50K'}), confidence=0.7346938775510204, lift=0.9731044735775105)]),\n",
       " RelationRecord(items=frozenset({' United-States', ' Male', ' <=50K'}), support=0.437, ordered_statistics=[OrderedStatistic(items_base=frozenset(), items_add=frozenset({' United-States', ' Male', ' <=50K'}), confidence=0.437, lift=1.0), OrderedStatistic(items_base=frozenset({' <=50K'}), items_add=frozenset({' United-States', ' Male'}), confidence=0.5788079470198676, lift=0.9365824385434751), OrderedStatistic(items_base=frozenset({' Male'}), items_add=frozenset({' United-States', ' <=50K'}), confidence=0.6426470588235293, lift=0.9381708887934734), OrderedStatistic(items_base=frozenset({' United-States'}), items_add=frozenset({' Male', ' <=50K'}), confidence=0.4823399558498896, lift=1.0027857709976915), OrderedStatistic(items_base=frozenset({' Male', ' <=50K'}), items_add=frozenset({' United-States'}), confidence=0.9085239085239085, lift=1.0027857709976915), OrderedStatistic(items_base=frozenset({' United-States', ' <=50K'}), items_add=frozenset({' Male'}), confidence=0.637956204379562, lift=0.9381708887934735), OrderedStatistic(items_base=frozenset({' United-States', ' Male'}), items_add=frozenset({' <=50K'}), confidence=0.7071197411003236, lift=0.936582438543475)]),\n",
       " RelationRecord(items=frozenset({' United-States', ' <=50K', ' Private'}), support=0.506, ordered_statistics=[OrderedStatistic(items_base=frozenset(), items_add=frozenset({' United-States', ' <=50K', ' Private'}), confidence=0.506, lift=1.0), OrderedStatistic(items_base=frozenset({' <=50K'}), items_add=frozenset({' United-States', ' Private'}), confidence=0.6701986754966888, lift=1.0294910529903052), OrderedStatistic(items_base=frozenset({' Private'}), items_add=frozenset({' United-States', ' <=50K'}), confidence=0.7047353760445683, lift=1.0288107679482748), OrderedStatistic(items_base=frozenset({' United-States'}), items_add=frozenset({' <=50K', ' Private'}), confidence=0.5584988962472406, lift=0.9955417045405357), OrderedStatistic(items_base=frozenset({' <=50K', ' Private'}), items_add=frozenset({' United-States'}), confidence=0.9019607843137254, lift=0.9955417045405357), OrderedStatistic(items_base=frozenset({' United-States', ' <=50K'}), items_add=frozenset({' Private'}), confidence=0.7386861313868612, lift=1.0288107679482748), OrderedStatistic(items_base=frozenset({' United-States', ' Private'}), items_add=frozenset({' <=50K'}), confidence=0.7772657450076804, lift=1.0294910529903052)]),\n",
       " RelationRecord(items=frozenset({' Male', ' Husband', ' Married-civ-spouse'}), support=0.4, ordered_statistics=[OrderedStatistic(items_base=frozenset(), items_add=frozenset({' Male', ' Husband', ' Married-civ-spouse'}), confidence=0.4, lift=1.0), OrderedStatistic(items_base=frozenset({' Husband'}), items_add=frozenset({' Male', ' Married-civ-spouse'}), confidence=0.9975062344139651, lift=2.4690748376583294), OrderedStatistic(items_base=frozenset({' Male'}), items_add=frozenset({' Husband', ' Married-civ-spouse'}), confidence=0.5882352941176471, lift=1.4705882352941175), OrderedStatistic(items_base=frozenset({' Married-civ-spouse'}), items_add=frozenset({' Male', ' Husband'}), confidence=0.8849557522123894, lift=2.206872200030896), OrderedStatistic(items_base=frozenset({' Male', ' Husband'}), items_add=frozenset({' Married-civ-spouse'}), confidence=0.9975062344139651, lift=2.2068722000308965), OrderedStatistic(items_base=frozenset({' Husband', ' Married-civ-spouse'}), items_add=frozenset({' Male'}), confidence=1.0, lift=1.4705882352941175), OrderedStatistic(items_base=frozenset({' Male', ' Married-civ-spouse'}), items_add=frozenset({' Husband'}), confidence=0.9900990099009901, lift=2.4690748376583294)]),\n",
       " RelationRecord(items=frozenset({' United-States', ' Male', ' Husband'}), support=0.362, ordered_statistics=[OrderedStatistic(items_base=frozenset({' Husband'}), items_add=frozenset({' United-States', ' Male'}), confidence=0.9027431421446384, lift=1.4607494209460168), OrderedStatistic(items_base=frozenset({' Male'}), items_add=frozenset({' United-States', ' Husband'}), confidence=0.5323529411764706, lift=1.4705882352941178), OrderedStatistic(items_base=frozenset({' Male', ' Husband'}), items_add=frozenset({' United-States'}), confidence=0.9027431421446384, lift=0.99640523415523), OrderedStatistic(items_base=frozenset({' United-States', ' Husband'}), items_add=frozenset({' Male'}), confidence=1.0, lift=1.4705882352941175), OrderedStatistic(items_base=frozenset({' United-States', ' Male'}), items_add=frozenset({' Husband'}), confidence=0.5857605177993528, lift=1.4607494209460168)]),\n",
       " RelationRecord(items=frozenset({' United-States', ' Husband', ' Married-civ-spouse'}), support=0.361, ordered_statistics=[OrderedStatistic(items_base=frozenset({' Husband'}), items_add=frozenset({' United-States', ' Married-civ-spouse'}), confidence=0.9002493765586034, lift=2.228340040986642), OrderedStatistic(items_base=frozenset({' Married-civ-spouse'}), items_add=frozenset({' United-States', ' Husband'}), confidence=0.7986725663716814, lift=2.2062778076565785), OrderedStatistic(items_base=frozenset({' Husband', ' Married-civ-spouse'}), items_add=frozenset({' United-States'}), confidence=0.9025, lift=0.9961368653421633), OrderedStatistic(items_base=frozenset({' United-States', ' Husband'}), items_add=frozenset({' Married-civ-spouse'}), confidence=0.9972375690607734, lift=2.2062778076565785), OrderedStatistic(items_base=frozenset({' United-States', ' Married-civ-spouse'}), items_add=frozenset({' Husband'}), confidence=0.8935643564356435, lift=2.228340040986642)]),\n",
       " RelationRecord(items=frozenset({' United-States', ' Male', ' Married-civ-spouse'}), support=0.364, ordered_statistics=[OrderedStatistic(items_base=frozenset({' Male'}), items_add=frozenset({' United-States', ' Married-civ-spouse'}), confidence=0.5352941176470588, lift=1.3249854397204426), OrderedStatistic(items_base=frozenset({' Married-civ-spouse'}), items_add=frozenset({' United-States', ' Male'}), confidence=0.8053097345132743, lift=1.3030901852965604), OrderedStatistic(items_base=frozenset({' United-States'}), items_add=frozenset({' Male', ' Married-civ-spouse'}), confidence=0.40176600441501104, lift=0.994470307957948), OrderedStatistic(items_base=frozenset({' Male', ' Married-civ-spouse'}), items_add=frozenset({' United-States'}), confidence=0.9009900990099009, lift=0.994470307957948), OrderedStatistic(items_base=frozenset({' United-States', ' Male'}), items_add=frozenset({' Married-civ-spouse'}), confidence=0.5889967637540453, lift=1.3030901852965604), OrderedStatistic(items_base=frozenset({' United-States', ' Married-civ-spouse'}), items_add=frozenset({' Male'}), confidence=0.9009900990099009, lift=1.3249854397204424)]),\n",
       " RelationRecord(items=frozenset({' United-States', ' Male', ' Private'}), support=0.447, ordered_statistics=[OrderedStatistic(items_base=frozenset(), items_add=frozenset({' United-States', ' Male', ' Private'}), confidence=0.447, lift=1.0), OrderedStatistic(items_base=frozenset({' Male'}), items_add=frozenset({' United-States', ' Private'}), confidence=0.6573529411764706, lift=1.00975874220656), OrderedStatistic(items_base=frozenset({' Private'}), items_add=frozenset({' United-States', ' Male'}), confidence=0.6225626740947076, lift=1.0073829677907888), OrderedStatistic(items_base=frozenset({' United-States'}), items_add=frozenset({' Male', ' Private'}), confidence=0.49337748344370863, lift=1.0068928233545074), OrderedStatistic(items_base=frozenset({' Male', ' Private'}), items_add=frozenset({' United-States'}), confidence=0.9122448979591837, lift=1.0068928233545074), OrderedStatistic(items_base=frozenset({' United-States', ' Male'}), items_add=frozenset({' Private'}), confidence=0.7233009708737864, lift=1.0073829677907888), OrderedStatistic(items_base=frozenset({' United-States', ' Private'}), items_add=frozenset({' Male'}), confidence=0.6866359447004609, lift=1.00975874220656)]),\n",
       " RelationRecord(items=frozenset({' United-States', ' Male', ' <=50K', ' Private'}), support=0.326, ordered_statistics=[OrderedStatistic(items_base=frozenset({' <=50K'}), items_add=frozenset({' United-States', ' Male', ' Private'}), confidence=0.4317880794701987, lift=0.9659688578751648), OrderedStatistic(items_base=frozenset({' Male'}), items_add=frozenset({' United-States', ' <=50K', ' Private'}), confidence=0.4794117647058823, lift=0.9474540804464078), OrderedStatistic(items_base=frozenset({' Private'}), items_add=frozenset({' United-States', ' Male', ' <=50K'}), confidence=0.4540389972144847, lift=1.0389908403077452), OrderedStatistic(items_base=frozenset({' Male', ' <=50K'}), items_add=frozenset({' United-States', ' Private'}), confidence=0.6777546777546778, lift=1.0410978152913637), OrderedStatistic(items_base=frozenset({' <=50K', ' Private'}), items_add=frozenset({' United-States', ' Male'}), confidence=0.5811051693404634, lift=0.940299626764504), OrderedStatistic(items_base=frozenset({' United-States', ' <=50K'}), items_add=frozenset({' Male', ' Private'}), confidence=0.47591240875912405, lift=0.9712498137941308), OrderedStatistic(items_base=frozenset({' Male', ' Private'}), items_add=frozenset({' United-States', ' <=50K'}), confidence=0.6653061224489796, lift=0.9712498137941307), OrderedStatistic(items_base=frozenset({' United-States', ' Male'}), items_add=frozenset({' <=50K', ' Private'}), confidence=0.5275080906148868, lift=0.940299626764504), OrderedStatistic(items_base=frozenset({' United-States', ' Private'}), items_add=frozenset({' Male', ' <=50K'}), confidence=0.500768049155146, lift=1.0410978152913637), OrderedStatistic(items_base=frozenset({' Male', ' <=50K', ' Private'}), items_add=frozenset({' United-States'}), confidence=0.9055555555555557, lift=0.9995094432180526), OrderedStatistic(items_base=frozenset({' United-States', ' Male', ' <=50K'}), items_add=frozenset({' Private'}), confidence=0.7459954233409611, lift=1.0389908403077455), OrderedStatistic(items_base=frozenset({' United-States', ' <=50K', ' Private'}), items_add=frozenset({' Male'}), confidence=0.6442687747035574, lift=0.9474540804464078), OrderedStatistic(items_base=frozenset({' United-States', ' Male', ' Private'}), items_add=frozenset({' <=50K'}), confidence=0.7293064876957495, lift=0.9659688578751648)]),\n",
       " RelationRecord(items=frozenset({' United-States', ' Male', ' Husband', ' Married-civ-spouse'}), support=0.361, ordered_statistics=[OrderedStatistic(items_base=frozenset({' Husband'}), items_add=frozenset({' United-States', ' Male', ' Married-civ-spouse'}), confidence=0.9002493765586034, lift=2.473212572963196), OrderedStatistic(items_base=frozenset({' Male'}), items_add=frozenset({' United-States', ' Husband', ' Married-civ-spouse'}), confidence=0.5308823529411764, lift=1.4705882352941173), OrderedStatistic(items_base=frozenset({' Married-civ-spouse'}), items_add=frozenset({' United-States', ' Male', ' Husband'}), confidence=0.7986725663716814, lift=2.2062778076565785), OrderedStatistic(items_base=frozenset({' Male', ' Husband'}), items_add=frozenset({' United-States', ' Married-civ-spouse'}), confidence=0.9002493765586034, lift=2.228340040986642), OrderedStatistic(items_base=frozenset({' Husband', ' Married-civ-spouse'}), items_add=frozenset({' United-States', ' Male'}), confidence=0.9025, lift=1.4603559870550162), OrderedStatistic(items_base=frozenset({' United-States', ' Husband'}), items_add=frozenset({' Male', ' Married-civ-spouse'}), confidence=0.9972375690607734, lift=2.4684098244078547), OrderedStatistic(items_base=frozenset({' Male', ' Married-civ-spouse'}), items_add=frozenset({' United-States', ' Husband'}), confidence=0.8935643564356435, lift=2.468409824407855), OrderedStatistic(items_base=frozenset({' United-States', ' Male'}), items_add=frozenset({' Husband', ' Married-civ-spouse'}), confidence=0.5841423948220065, lift=1.460355987055016), OrderedStatistic(items_base=frozenset({' United-States', ' Married-civ-spouse'}), items_add=frozenset({' Male', ' Husband'}), confidence=0.8935643564356435, lift=2.228340040986642), OrderedStatistic(items_base=frozenset({' Male', ' Husband', ' Married-civ-spouse'}), items_add=frozenset({' United-States'}), confidence=0.9025, lift=0.9961368653421633), OrderedStatistic(items_base=frozenset({' United-States', ' Male', ' Husband'}), items_add=frozenset({' Married-civ-spouse'}), confidence=0.9972375690607734, lift=2.2062778076565785), OrderedStatistic(items_base=frozenset({' United-States', ' Husband', ' Married-civ-spouse'}), items_add=frozenset({' Male'}), confidence=1.0, lift=1.4705882352941175), OrderedStatistic(items_base=frozenset({' United-States', ' Male', ' Married-civ-spouse'}), items_add=frozenset({' Husband'}), confidence=0.9917582417582418, lift=2.473212572963196)])]"
      ]
     },
     "execution_count": 148,
     "metadata": {},
     "output_type": "execute_result"
    }
   ],
   "source": [
    "resultados #regras criadas"
   ]
  },
  {
   "cell_type": "code",
   "execution_count": 150,
   "id": "3495ae83-539d-4f36-bc02-f28e855cdb96",
   "metadata": {},
   "outputs": [
    {
     "data": {
      "text/plain": [
       "RelationRecord(items=frozenset({' Male', ' <=50K'}), support=0.481, ordered_statistics=[OrderedStatistic(items_base=frozenset(), items_add=frozenset({' Male', ' <=50K'}), confidence=0.481, lift=1.0), OrderedStatistic(items_base=frozenset({' <=50K'}), items_add=frozenset({' Male'}), confidence=0.6370860927152318, lift=0.9368913128165173), OrderedStatistic(items_base=frozenset({' Male'}), items_add=frozenset({' <=50K'}), confidence=0.7073529411764705, lift=0.9368913128165173)])"
      ]
     },
     "execution_count": 150,
     "metadata": {},
     "output_type": "execute_result"
    }
   ],
   "source": [
    "resultados[6] #aqui temos a regra ele ser homem > salario <=50, support 48.1%\n",
    "#temos a regra ao contrário se salário <=50k  implaca ser homem"
   ]
  },
  {
   "cell_type": "code",
   "execution_count": 151,
   "id": "30fc2db9-bcfb-48ad-a995-606b4e8bce50",
   "metadata": {},
   "outputs": [
    {
     "data": {
      "text/plain": [
       "(array([' Female', ' Male'], dtype=object), array([320, 680], dtype=int64))"
      ]
     },
     "execution_count": 151,
     "metadata": {},
     "output_type": "execute_result"
    }
   ],
   "source": [
    "np.unique(dataset_apriori['sex'].values, return_counts=True)"
   ]
  },
  {
   "cell_type": "code",
   "execution_count": 179,
   "id": "0bafb5aa-0438-4e95-929d-5f3476b24457",
   "metadata": {},
   "outputs": [
    {
     "name": "stdout",
     "output_type": "stream",
     "text": [
      "RelationRecord(items=frozenset({' <=50K'}), support=0.755, ordered_statistics=[OrderedStatistic(items_base=frozenset(), items_add=frozenset({' <=50K'}), confidence=0.755, lift=1.0)])\n",
      "--------\n",
      "RelationRecord(items=frozenset({' Husband'}), support=0.401, ordered_statistics=[OrderedStatistic(items_base=frozenset(), items_add=frozenset({' Husband'}), confidence=0.401, lift=1.0)])\n",
      "--------\n",
      "RelationRecord(items=frozenset({' Male'}), support=0.68, ordered_statistics=[OrderedStatistic(items_base=frozenset(), items_add=frozenset({' Male'}), confidence=0.68, lift=1.0)])\n",
      "--------\n",
      "RelationRecord(items=frozenset({' Married-civ-spouse'}), support=0.452, ordered_statistics=[OrderedStatistic(items_base=frozenset(), items_add=frozenset({' Married-civ-spouse'}), confidence=0.452, lift=1.0)])\n",
      "--------\n",
      "RelationRecord(items=frozenset({' Private'}), support=0.718, ordered_statistics=[OrderedStatistic(items_base=frozenset(), items_add=frozenset({' Private'}), confidence=0.718, lift=1.0)])\n",
      "--------\n",
      "RelationRecord(items=frozenset({' United-States'}), support=0.906, ordered_statistics=[OrderedStatistic(items_base=frozenset(), items_add=frozenset({' United-States'}), confidence=0.906, lift=1.0)])\n",
      "--------\n",
      "RelationRecord(items=frozenset({' Male', ' <=50K'}), support=0.481, ordered_statistics=[OrderedStatistic(items_base=frozenset(), items_add=frozenset({' Male', ' <=50K'}), confidence=0.481, lift=1.0), OrderedStatistic(items_base=frozenset({' <=50K'}), items_add=frozenset({' Male'}), confidence=0.6370860927152318, lift=0.9368913128165173), OrderedStatistic(items_base=frozenset({' Male'}), items_add=frozenset({' <=50K'}), confidence=0.7073529411764705, lift=0.9368913128165173)])\n",
      "--------\n",
      "RelationRecord(items=frozenset({' Never-married', ' <=50K'}), support=0.315, ordered_statistics=[OrderedStatistic(items_base=frozenset({' <=50K'}), items_add=frozenset({' Never-married'}), confidence=0.41721854304635764, lift=1.2720077531901146), OrderedStatistic(items_base=frozenset({' Never-married'}), items_add=frozenset({' <=50K'}), confidence=0.9603658536585366, lift=1.2720077531901146)])\n",
      "--------\n",
      "RelationRecord(items=frozenset({' <=50K', ' Private'}), support=0.561, ordered_statistics=[OrderedStatistic(items_base=frozenset(), items_add=frozenset({' <=50K', ' Private'}), confidence=0.561, lift=1.0), OrderedStatistic(items_base=frozenset({' <=50K'}), items_add=frozenset({' Private'}), confidence=0.7430463576158941, lift=1.034883506428822), OrderedStatistic(items_base=frozenset({' Private'}), items_add=frozenset({' <=50K'}), confidence=0.7813370473537605, lift=1.034883506428822)])\n",
      "--------\n",
      "RelationRecord(items=frozenset({' United-States', ' <=50K'}), support=0.685, ordered_statistics=[OrderedStatistic(items_base=frozenset(), items_add=frozenset({' United-States', ' <=50K'}), confidence=0.685, lift=1.0), OrderedStatistic(items_base=frozenset({' <=50K'}), items_add=frozenset({' United-States'}), confidence=0.9072847682119206, lift=1.0014180664590735), OrderedStatistic(items_base=frozenset({' United-States'}), items_add=frozenset({' <=50K'}), confidence=0.7560706401766005, lift=1.0014180664590735)])\n",
      "--------\n",
      "RelationRecord(items=frozenset({'Faixa3', ' <=50K'}), support=0.308, ordered_statistics=[OrderedStatistic(items_base=frozenset({' <=50K'}), items_add=frozenset({'Faixa3'}), confidence=0.40794701986754967, lift=1.030169242089772), OrderedStatistic(items_base=frozenset({'Faixa3'}), items_add=frozenset({' <=50K'}), confidence=0.7777777777777777, lift=1.0301692420897717)])\n",
      "--------\n",
      "RelationRecord(items=frozenset({' United-States', ' HS-grad'}), support=0.32, ordered_statistics=[OrderedStatistic(items_base=frozenset({' HS-grad'}), items_add=frozenset({' United-States'}), confidence=0.9495548961424332, lift=1.0480738368018025)])\n",
      "--------\n",
      "RelationRecord(items=frozenset({' Male', ' Husband'}), support=0.401, ordered_statistics=[OrderedStatistic(items_base=frozenset(), items_add=frozenset({' Male', ' Husband'}), confidence=0.401, lift=1.0), OrderedStatistic(items_base=frozenset({' Husband'}), items_add=frozenset({' Male'}), confidence=1.0, lift=1.4705882352941175), OrderedStatistic(items_base=frozenset({' Male'}), items_add=frozenset({' Husband'}), confidence=0.5897058823529412, lift=1.4705882352941175)])\n",
      "--------\n",
      "RelationRecord(items=frozenset({' Husband', ' Married-civ-spouse'}), support=0.4, ordered_statistics=[OrderedStatistic(items_base=frozenset(), items_add=frozenset({' Husband', ' Married-civ-spouse'}), confidence=0.4, lift=1.0), OrderedStatistic(items_base=frozenset({' Husband'}), items_add=frozenset({' Married-civ-spouse'}), confidence=0.9975062344139651, lift=2.2068722000308965), OrderedStatistic(items_base=frozenset({' Married-civ-spouse'}), items_add=frozenset({' Husband'}), confidence=0.8849557522123894, lift=2.206872200030896)])\n",
      "--------\n",
      "RelationRecord(items=frozenset({' United-States', ' Husband'}), support=0.362, ordered_statistics=[OrderedStatistic(items_base=frozenset({' Husband'}), items_add=frozenset({' United-States'}), confidence=0.9027431421446384, lift=0.99640523415523)])\n",
      "--------\n",
      "RelationRecord(items=frozenset({' Male', ' Married-civ-spouse'}), support=0.404, ordered_statistics=[OrderedStatistic(items_base=frozenset(), items_add=frozenset({' Male', ' Married-civ-spouse'}), confidence=0.404, lift=1.0), OrderedStatistic(items_base=frozenset({' Male'}), items_add=frozenset({' Married-civ-spouse'}), confidence=0.5941176470588235, lift=1.31441957313899), OrderedStatistic(items_base=frozenset({' Married-civ-spouse'}), items_add=frozenset({' Male'}), confidence=0.8938053097345133, lift=1.31441957313899)])\n",
      "--------\n",
      "RelationRecord(items=frozenset({' Male', ' Private'}), support=0.49, ordered_statistics=[OrderedStatistic(items_base=frozenset(), items_add=frozenset({' Male', ' Private'}), confidence=0.49, lift=1.0), OrderedStatistic(items_base=frozenset({' Male'}), items_add=frozenset({' Private'}), confidence=0.7205882352941175, lift=1.0036047845321971), OrderedStatistic(items_base=frozenset({' Private'}), items_add=frozenset({' Male'}), confidence=0.6824512534818942, lift=1.0036047845321971)])\n",
      "--------\n",
      "RelationRecord(items=frozenset({' United-States', ' Male'}), support=0.618, ordered_statistics=[OrderedStatistic(items_base=frozenset(), items_add=frozenset({' United-States', ' Male'}), confidence=0.618, lift=1.0), OrderedStatistic(items_base=frozenset({' Male'}), items_add=frozenset({' United-States'}), confidence=0.9088235294117646, lift=1.003116478379431), OrderedStatistic(items_base=frozenset({' United-States'}), items_add=frozenset({' Male'}), confidence=0.6821192052980132, lift=1.003116478379431)])\n",
      "--------\n",
      "RelationRecord(items=frozenset({' Private', ' Married-civ-spouse'}), support=0.313, ordered_statistics=[OrderedStatistic(items_base=frozenset({' Married-civ-spouse'}), items_add=frozenset({' Private'}), confidence=0.6924778761061947, lift=0.9644538664431681), OrderedStatistic(items_base=frozenset({' Private'}), items_add=frozenset({' Married-civ-spouse'}), confidence=0.435933147632312, lift=0.9644538664431681)])\n",
      "--------\n",
      "RelationRecord(items=frozenset({' United-States', ' Married-civ-spouse'}), support=0.404, ordered_statistics=[OrderedStatistic(items_base=frozenset(), items_add=frozenset({' United-States', ' Married-civ-spouse'}), confidence=0.404, lift=1.0), OrderedStatistic(items_base=frozenset({' Married-civ-spouse'}), items_add=frozenset({' United-States'}), confidence=0.8938053097345133, lift=0.9865400769696615), OrderedStatistic(items_base=frozenset({' United-States'}), items_add=frozenset({' Married-civ-spouse'}), confidence=0.445916114790287, lift=0.9865400769696614)])\n",
      "--------\n",
      "RelationRecord(items=frozenset({' United-States', ' Never-married'}), support=0.301, ordered_statistics=[OrderedStatistic(items_base=frozenset({' Never-married'}), items_add=frozenset({' United-States'}), confidence=0.9176829268292682, lift=1.0128950627254616)])\n",
      "--------\n",
      "RelationRecord(items=frozenset({' United-States', ' Private'}), support=0.651, ordered_statistics=[OrderedStatistic(items_base=frozenset(), items_add=frozenset({' United-States', ' Private'}), confidence=0.651, lift=1.0), OrderedStatistic(items_base=frozenset({' Private'}), items_add=frozenset({' United-States'}), confidence=0.9066852367688023, lift=1.0007563319743955), OrderedStatistic(items_base=frozenset({' United-States'}), items_add=frozenset({' Private'}), confidence=0.7185430463576159, lift=1.0007563319743955)])\n",
      "--------\n",
      "RelationRecord(items=frozenset({'Faixa3', ' Private'}), support=0.316, ordered_statistics=[OrderedStatistic(items_base=frozenset({' Private'}), items_add=frozenset({'Faixa3'}), confidence=0.4401114206128134, lift=1.1113924762949832), OrderedStatistic(items_base=frozenset({'Faixa3'}), items_add=frozenset({' Private'}), confidence=0.7979797979797979, lift=1.1113924762949832)])\n",
      "--------\n",
      "RelationRecord(items=frozenset({' United-States', 'Faixa3'}), support=0.356, ordered_statistics=[OrderedStatistic(items_base=frozenset({'Faixa3'}), items_add=frozenset({' United-States'}), confidence=0.8989898989898989, lift=0.992262581666555)])\n",
      "--------\n",
      "RelationRecord(items=frozenset({' United-States', 'Faixa4'}), support=0.317, ordered_statistics=[OrderedStatistic(items_base=frozenset({'Faixa4'}), items_add=frozenset({' United-States'}), confidence=0.916184971098266, lift=1.011241689953936)])\n",
      "--------\n",
      "RelationRecord(items=frozenset({' Male', ' <=50K', ' Private'}), support=0.36, ordered_statistics=[OrderedStatistic(items_base=frozenset({' <=50K'}), items_add=frozenset({' Male', ' Private'}), confidence=0.4768211920529801, lift=0.9731044735775105), OrderedStatistic(items_base=frozenset({' Male'}), items_add=frozenset({' <=50K', ' Private'}), confidence=0.5294117647058822, lift=0.9436929852154763), OrderedStatistic(items_base=frozenset({' Private'}), items_add=frozenset({' Male', ' <=50K'}), confidence=0.5013927576601671, lift=1.042396585572073), OrderedStatistic(items_base=frozenset({' Male', ' <=50K'}), items_add=frozenset({' Private'}), confidence=0.7484407484407485, lift=1.0423965855720732), OrderedStatistic(items_base=frozenset({' <=50K', ' Private'}), items_add=frozenset({' Male'}), confidence=0.641711229946524, lift=0.9436929852154764), OrderedStatistic(items_base=frozenset({' Male', ' Private'}), items_add=frozenset({' <=50K'}), confidence=0.7346938775510204, lift=0.9731044735775105)])\n",
      "--------\n",
      "RelationRecord(items=frozenset({' United-States', ' Male', ' <=50K'}), support=0.437, ordered_statistics=[OrderedStatistic(items_base=frozenset(), items_add=frozenset({' United-States', ' Male', ' <=50K'}), confidence=0.437, lift=1.0), OrderedStatistic(items_base=frozenset({' <=50K'}), items_add=frozenset({' United-States', ' Male'}), confidence=0.5788079470198676, lift=0.9365824385434751), OrderedStatistic(items_base=frozenset({' Male'}), items_add=frozenset({' United-States', ' <=50K'}), confidence=0.6426470588235293, lift=0.9381708887934734), OrderedStatistic(items_base=frozenset({' United-States'}), items_add=frozenset({' Male', ' <=50K'}), confidence=0.4823399558498896, lift=1.0027857709976915), OrderedStatistic(items_base=frozenset({' Male', ' <=50K'}), items_add=frozenset({' United-States'}), confidence=0.9085239085239085, lift=1.0027857709976915), OrderedStatistic(items_base=frozenset({' United-States', ' <=50K'}), items_add=frozenset({' Male'}), confidence=0.637956204379562, lift=0.9381708887934735), OrderedStatistic(items_base=frozenset({' United-States', ' Male'}), items_add=frozenset({' <=50K'}), confidence=0.7071197411003236, lift=0.936582438543475)])\n",
      "--------\n",
      "RelationRecord(items=frozenset({' United-States', ' <=50K', ' Private'}), support=0.506, ordered_statistics=[OrderedStatistic(items_base=frozenset(), items_add=frozenset({' United-States', ' <=50K', ' Private'}), confidence=0.506, lift=1.0), OrderedStatistic(items_base=frozenset({' <=50K'}), items_add=frozenset({' United-States', ' Private'}), confidence=0.6701986754966888, lift=1.0294910529903052), OrderedStatistic(items_base=frozenset({' Private'}), items_add=frozenset({' United-States', ' <=50K'}), confidence=0.7047353760445683, lift=1.0288107679482748), OrderedStatistic(items_base=frozenset({' United-States'}), items_add=frozenset({' <=50K', ' Private'}), confidence=0.5584988962472406, lift=0.9955417045405357), OrderedStatistic(items_base=frozenset({' <=50K', ' Private'}), items_add=frozenset({' United-States'}), confidence=0.9019607843137254, lift=0.9955417045405357), OrderedStatistic(items_base=frozenset({' United-States', ' <=50K'}), items_add=frozenset({' Private'}), confidence=0.7386861313868612, lift=1.0288107679482748), OrderedStatistic(items_base=frozenset({' United-States', ' Private'}), items_add=frozenset({' <=50K'}), confidence=0.7772657450076804, lift=1.0294910529903052)])\n",
      "--------\n",
      "RelationRecord(items=frozenset({' Male', ' Husband', ' Married-civ-spouse'}), support=0.4, ordered_statistics=[OrderedStatistic(items_base=frozenset(), items_add=frozenset({' Male', ' Husband', ' Married-civ-spouse'}), confidence=0.4, lift=1.0), OrderedStatistic(items_base=frozenset({' Husband'}), items_add=frozenset({' Male', ' Married-civ-spouse'}), confidence=0.9975062344139651, lift=2.4690748376583294), OrderedStatistic(items_base=frozenset({' Male'}), items_add=frozenset({' Husband', ' Married-civ-spouse'}), confidence=0.5882352941176471, lift=1.4705882352941175), OrderedStatistic(items_base=frozenset({' Married-civ-spouse'}), items_add=frozenset({' Male', ' Husband'}), confidence=0.8849557522123894, lift=2.206872200030896), OrderedStatistic(items_base=frozenset({' Male', ' Husband'}), items_add=frozenset({' Married-civ-spouse'}), confidence=0.9975062344139651, lift=2.2068722000308965), OrderedStatistic(items_base=frozenset({' Husband', ' Married-civ-spouse'}), items_add=frozenset({' Male'}), confidence=1.0, lift=1.4705882352941175), OrderedStatistic(items_base=frozenset({' Male', ' Married-civ-spouse'}), items_add=frozenset({' Husband'}), confidence=0.9900990099009901, lift=2.4690748376583294)])\n",
      "--------\n",
      "RelationRecord(items=frozenset({' United-States', ' Male', ' Husband'}), support=0.362, ordered_statistics=[OrderedStatistic(items_base=frozenset({' Husband'}), items_add=frozenset({' United-States', ' Male'}), confidence=0.9027431421446384, lift=1.4607494209460168), OrderedStatistic(items_base=frozenset({' Male'}), items_add=frozenset({' United-States', ' Husband'}), confidence=0.5323529411764706, lift=1.4705882352941178), OrderedStatistic(items_base=frozenset({' Male', ' Husband'}), items_add=frozenset({' United-States'}), confidence=0.9027431421446384, lift=0.99640523415523), OrderedStatistic(items_base=frozenset({' United-States', ' Husband'}), items_add=frozenset({' Male'}), confidence=1.0, lift=1.4705882352941175), OrderedStatistic(items_base=frozenset({' United-States', ' Male'}), items_add=frozenset({' Husband'}), confidence=0.5857605177993528, lift=1.4607494209460168)])\n",
      "--------\n",
      "RelationRecord(items=frozenset({' United-States', ' Husband', ' Married-civ-spouse'}), support=0.361, ordered_statistics=[OrderedStatistic(items_base=frozenset({' Husband'}), items_add=frozenset({' United-States', ' Married-civ-spouse'}), confidence=0.9002493765586034, lift=2.228340040986642), OrderedStatistic(items_base=frozenset({' Married-civ-spouse'}), items_add=frozenset({' United-States', ' Husband'}), confidence=0.7986725663716814, lift=2.2062778076565785), OrderedStatistic(items_base=frozenset({' Husband', ' Married-civ-spouse'}), items_add=frozenset({' United-States'}), confidence=0.9025, lift=0.9961368653421633), OrderedStatistic(items_base=frozenset({' United-States', ' Husband'}), items_add=frozenset({' Married-civ-spouse'}), confidence=0.9972375690607734, lift=2.2062778076565785), OrderedStatistic(items_base=frozenset({' United-States', ' Married-civ-spouse'}), items_add=frozenset({' Husband'}), confidence=0.8935643564356435, lift=2.228340040986642)])\n",
      "--------\n",
      "RelationRecord(items=frozenset({' United-States', ' Male', ' Married-civ-spouse'}), support=0.364, ordered_statistics=[OrderedStatistic(items_base=frozenset({' Male'}), items_add=frozenset({' United-States', ' Married-civ-spouse'}), confidence=0.5352941176470588, lift=1.3249854397204426), OrderedStatistic(items_base=frozenset({' Married-civ-spouse'}), items_add=frozenset({' United-States', ' Male'}), confidence=0.8053097345132743, lift=1.3030901852965604), OrderedStatistic(items_base=frozenset({' United-States'}), items_add=frozenset({' Male', ' Married-civ-spouse'}), confidence=0.40176600441501104, lift=0.994470307957948), OrderedStatistic(items_base=frozenset({' Male', ' Married-civ-spouse'}), items_add=frozenset({' United-States'}), confidence=0.9009900990099009, lift=0.994470307957948), OrderedStatistic(items_base=frozenset({' United-States', ' Male'}), items_add=frozenset({' Married-civ-spouse'}), confidence=0.5889967637540453, lift=1.3030901852965604), OrderedStatistic(items_base=frozenset({' United-States', ' Married-civ-spouse'}), items_add=frozenset({' Male'}), confidence=0.9009900990099009, lift=1.3249854397204424)])\n",
      "--------\n",
      "RelationRecord(items=frozenset({' United-States', ' Male', ' Private'}), support=0.447, ordered_statistics=[OrderedStatistic(items_base=frozenset(), items_add=frozenset({' United-States', ' Male', ' Private'}), confidence=0.447, lift=1.0), OrderedStatistic(items_base=frozenset({' Male'}), items_add=frozenset({' United-States', ' Private'}), confidence=0.6573529411764706, lift=1.00975874220656), OrderedStatistic(items_base=frozenset({' Private'}), items_add=frozenset({' United-States', ' Male'}), confidence=0.6225626740947076, lift=1.0073829677907888), OrderedStatistic(items_base=frozenset({' United-States'}), items_add=frozenset({' Male', ' Private'}), confidence=0.49337748344370863, lift=1.0068928233545074), OrderedStatistic(items_base=frozenset({' Male', ' Private'}), items_add=frozenset({' United-States'}), confidence=0.9122448979591837, lift=1.0068928233545074), OrderedStatistic(items_base=frozenset({' United-States', ' Male'}), items_add=frozenset({' Private'}), confidence=0.7233009708737864, lift=1.0073829677907888), OrderedStatistic(items_base=frozenset({' United-States', ' Private'}), items_add=frozenset({' Male'}), confidence=0.6866359447004609, lift=1.00975874220656)])\n",
      "--------\n",
      "RelationRecord(items=frozenset({' United-States', ' Male', ' <=50K', ' Private'}), support=0.326, ordered_statistics=[OrderedStatistic(items_base=frozenset({' <=50K'}), items_add=frozenset({' United-States', ' Male', ' Private'}), confidence=0.4317880794701987, lift=0.9659688578751648), OrderedStatistic(items_base=frozenset({' Male'}), items_add=frozenset({' United-States', ' <=50K', ' Private'}), confidence=0.4794117647058823, lift=0.9474540804464078), OrderedStatistic(items_base=frozenset({' Private'}), items_add=frozenset({' United-States', ' Male', ' <=50K'}), confidence=0.4540389972144847, lift=1.0389908403077452), OrderedStatistic(items_base=frozenset({' Male', ' <=50K'}), items_add=frozenset({' United-States', ' Private'}), confidence=0.6777546777546778, lift=1.0410978152913637), OrderedStatistic(items_base=frozenset({' <=50K', ' Private'}), items_add=frozenset({' United-States', ' Male'}), confidence=0.5811051693404634, lift=0.940299626764504), OrderedStatistic(items_base=frozenset({' United-States', ' <=50K'}), items_add=frozenset({' Male', ' Private'}), confidence=0.47591240875912405, lift=0.9712498137941308), OrderedStatistic(items_base=frozenset({' Male', ' Private'}), items_add=frozenset({' United-States', ' <=50K'}), confidence=0.6653061224489796, lift=0.9712498137941307), OrderedStatistic(items_base=frozenset({' United-States', ' Male'}), items_add=frozenset({' <=50K', ' Private'}), confidence=0.5275080906148868, lift=0.940299626764504), OrderedStatistic(items_base=frozenset({' United-States', ' Private'}), items_add=frozenset({' Male', ' <=50K'}), confidence=0.500768049155146, lift=1.0410978152913637), OrderedStatistic(items_base=frozenset({' Male', ' <=50K', ' Private'}), items_add=frozenset({' United-States'}), confidence=0.9055555555555557, lift=0.9995094432180526), OrderedStatistic(items_base=frozenset({' United-States', ' Male', ' <=50K'}), items_add=frozenset({' Private'}), confidence=0.7459954233409611, lift=1.0389908403077455), OrderedStatistic(items_base=frozenset({' United-States', ' <=50K', ' Private'}), items_add=frozenset({' Male'}), confidence=0.6442687747035574, lift=0.9474540804464078), OrderedStatistic(items_base=frozenset({' United-States', ' Male', ' Private'}), items_add=frozenset({' <=50K'}), confidence=0.7293064876957495, lift=0.9659688578751648)])\n",
      "--------\n",
      "RelationRecord(items=frozenset({' United-States', ' Male', ' Husband', ' Married-civ-spouse'}), support=0.361, ordered_statistics=[OrderedStatistic(items_base=frozenset({' Husband'}), items_add=frozenset({' United-States', ' Male', ' Married-civ-spouse'}), confidence=0.9002493765586034, lift=2.473212572963196), OrderedStatistic(items_base=frozenset({' Male'}), items_add=frozenset({' United-States', ' Husband', ' Married-civ-spouse'}), confidence=0.5308823529411764, lift=1.4705882352941173), OrderedStatistic(items_base=frozenset({' Married-civ-spouse'}), items_add=frozenset({' United-States', ' Male', ' Husband'}), confidence=0.7986725663716814, lift=2.2062778076565785), OrderedStatistic(items_base=frozenset({' Male', ' Husband'}), items_add=frozenset({' United-States', ' Married-civ-spouse'}), confidence=0.9002493765586034, lift=2.228340040986642), OrderedStatistic(items_base=frozenset({' Husband', ' Married-civ-spouse'}), items_add=frozenset({' United-States', ' Male'}), confidence=0.9025, lift=1.4603559870550162), OrderedStatistic(items_base=frozenset({' United-States', ' Husband'}), items_add=frozenset({' Male', ' Married-civ-spouse'}), confidence=0.9972375690607734, lift=2.4684098244078547), OrderedStatistic(items_base=frozenset({' Male', ' Married-civ-spouse'}), items_add=frozenset({' United-States', ' Husband'}), confidence=0.8935643564356435, lift=2.468409824407855), OrderedStatistic(items_base=frozenset({' United-States', ' Male'}), items_add=frozenset({' Husband', ' Married-civ-spouse'}), confidence=0.5841423948220065, lift=1.460355987055016), OrderedStatistic(items_base=frozenset({' United-States', ' Married-civ-spouse'}), items_add=frozenset({' Male', ' Husband'}), confidence=0.8935643564356435, lift=2.228340040986642), OrderedStatistic(items_base=frozenset({' Male', ' Husband', ' Married-civ-spouse'}), items_add=frozenset({' United-States'}), confidence=0.9025, lift=0.9961368653421633), OrderedStatistic(items_base=frozenset({' United-States', ' Male', ' Husband'}), items_add=frozenset({' Married-civ-spouse'}), confidence=0.9972375690607734, lift=2.2062778076565785), OrderedStatistic(items_base=frozenset({' United-States', ' Husband', ' Married-civ-spouse'}), items_add=frozenset({' Male'}), confidence=1.0, lift=1.4705882352941175), OrderedStatistic(items_base=frozenset({' United-States', ' Male', ' Married-civ-spouse'}), items_add=frozenset({' Husband'}), confidence=0.9917582417582418, lift=2.473212572963196)])\n",
      "--------\n"
     ]
    }
   ],
   "source": [
    "for rule in resultados:\n",
    "    print(rule)\n",
    "    print('--------')"
   ]
  },
  {
   "cell_type": "markdown",
   "id": "513edf23-703e-4cf5-bdcf-c9713785e9e3",
   "metadata": {
    "tags": []
   },
   "source": [
    "#### Analise resultado[6]\n",
    "\n",
    "RelationRecord(items=frozenset({' Male', ' <=50K'})\n",
    ", support=0.481 ==> Male e <=50k apareceram 48.1%\n",
    "<br>\n",
    "\n",
    "\n",
    "<br>\n",
    "ordered_statistics= OrderedStatistic(items_base=frozenset(), items_add=frozenset({' Male', ' <=50K'}), confidence=0.481, lift=1.0), \n",
    "\n",
    "<br> \n",
    "<h5> ganhar menos que 50k anul => ser homem </h5>\n",
    "</br>\n",
    "OrderedStatistic(items_base=frozenset({' <=50K'}), items_add=frozenset({' Male'}), confidence=0.6370860927152318, lift=0.9368913128165173)\n",
    "<br>\n",
    "<h5> Male => ganahr menos que 50k anual </h5>\n",
    "<br>\n",
    "OrderedStatistic(items_base=frozenset({' Male'}), items_add=frozenset({' <=50K'}), confidence=0.7073529411764705, lift=0.9368913128165173)])\n"
   ]
  }
 ],
 "metadata": {
  "kernelspec": {
   "display_name": "Python 3 (ipykernel)",
   "language": "python",
   "name": "python3"
  },
  "language_info": {
   "codemirror_mode": {
    "name": "ipython",
    "version": 3
   },
   "file_extension": ".py",
   "mimetype": "text/x-python",
   "name": "python",
   "nbconvert_exporter": "python",
   "pygments_lexer": "ipython3",
   "version": "3.9.13"
  }
 },
 "nbformat": 4,
 "nbformat_minor": 5
}
